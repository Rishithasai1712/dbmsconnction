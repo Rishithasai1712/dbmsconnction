{
  "metadata": {
    "kernelspec": {
      "name": "python",
      "display_name": "Python (Pyodide)",
      "language": "python"
    },
    "language_info": {
      "codemirror_mode": {
        "name": "python",
        "version": 3
      },
      "file_extension": ".py",
      "mimetype": "text/x-python",
      "name": "python",
      "nbconvert_exporter": "python",
      "pygments_lexer": "ipython3",
      "version": "3.8"
    }
  },
  "nbformat_minor": 5,
  "nbformat": 4,
  "cells": [
    {
      "id": "44d45744-de0c-4a2d-966f-aa9101816869",
      "cell_type": "code",
      "source": "import numpy as np\narr_1d=np.arange(10,51)\nprint(arr_1d)",
      "metadata": {
        "trusted": true
      },
      "outputs": [
        {
          "name": "stdout",
          "output_type": "stream",
          "text": "[10 11 12 13 14 15 16 17 18 19 20 21 22 23 24 25 26 27 28 29 30 31 32 33\n 34 35 36 37 38 39 40 41 42 43 44 45 46 47 48 49 50]\n"
        }
      ],
      "execution_count": 5
    },
    {
      "id": "2b83f109-1756-49dc-b691-4016b58db288",
      "cell_type": "code",
      "source": "arr=np.random.random((3,3))\nprint(arr)",
      "metadata": {
        "trusted": true
      },
      "outputs": [
        {
          "name": "stdout",
          "output_type": "stream",
          "text": "[[0.14428648 0.61606764 0.7191481 ]\n [0.34966487 0.26014515 0.95949397]\n [0.83125539 0.2958974  0.44786156]]\n"
        }
      ],
      "execution_count": 6
    },
    {
      "id": "74f0688d-aceb-461d-b94f-535aa7dedb08",
      "cell_type": "code",
      "source": "print(arr.shape)\nprint(arr.size)\nprint(arr.dtype)\nprint(arr.ndim)",
      "metadata": {
        "trusted": true
      },
      "outputs": [
        {
          "name": "stdout",
          "output_type": "stream",
          "text": "(3, 3)\n9\nfloat64\n2\n"
        }
      ],
      "execution_count": 7
    },
    {
      "id": "a02c29e1-b3f6-4518-a85d-f7af8ee366d3",
      "cell_type": "code",
      "source": "arr_1d=np.array([1,2,3])\nprint(arr_1d+5)",
      "metadata": {
        "trusted": true
      },
      "outputs": [
        {
          "name": "stdout",
          "output_type": "stream",
          "text": "[6 7 8]\n"
        }
      ],
      "execution_count": 8
    },
    {
      "id": "532a680b-680e-47c4-a831-946f8232eb45",
      "cell_type": "code",
      "source": " arr1=np.array([[1,2,3],[4,5,6],[7,8,9]])\narr2=np.array([[1,2,3],[4,5,6],[7,8,9]])\nprint(arr1*arr2)",
      "metadata": {
        "trusted": true
      },
      "outputs": [
        {
          "name": "stdout",
          "output_type": "stream",
          "text": "[[ 1  4  9]\n [16 25 36]\n [49 64 81]]\n"
        }
      ],
      "execution_count": 10
    },
    {
      "id": "1feb49a4-31a7-40d2-bf7f-93dd2336d528",
      "cell_type": "code",
      "source": "arr = np.arange(1, 26).reshape(5, 5)\nprint(arr)\n",
      "metadata": {
        "trusted": true
      },
      "outputs": [
        {
          "name": "stdout",
          "output_type": "stream",
          "text": "[[ 1  2  3  4  5]\n [ 6  7  8  9 10]\n [11 12 13 14 15]\n [16 17 18 19 20]\n [21 22 23 24 25]]\n"
        }
      ],
      "execution_count": 20
    },
    {
      "id": "7911943d-d2b9-403e-8312-b14dc7570cd0",
      "cell_type": "code",
      "source": "print(arr[0,:])",
      "metadata": {
        "trusted": true
      },
      "outputs": [
        {
          "name": "stdout",
          "output_type": "stream",
          "text": "[1 2 3 4 5]\n"
        }
      ],
      "execution_count": 24
    },
    {
      "id": "717b10ab-d6c2-44d3-9176-0343b5f100c5",
      "cell_type": "code",
      "source": "print(arr[:,-1])",
      "metadata": {
        "trusted": true
      },
      "outputs": [
        {
          "name": "stdout",
          "output_type": "stream",
          "text": "[ 5 10 15 20 25]\n"
        }
      ],
      "execution_count": 25
    },
    {
      "id": "af0fb119-f493-4369-8dc9-2e7103ce6fc5",
      "cell_type": "code",
      "source": "print(arr[:3,:2])",
      "metadata": {
        "trusted": true
      },
      "outputs": [
        {
          "name": "stdout",
          "output_type": "stream",
          "text": "[[ 1  2]\n [ 6  7]\n [11 12]]\n"
        }
      ],
      "execution_count": 26
    },
    {
      "id": "66b99a8b-7102-4a1c-adf4-cf0d8725e5ff",
      "cell_type": "code",
      "source": "arr = np.random.randint(1, 101, size=10)\nprint(arr)\n",
      "metadata": {
        "trusted": true
      },
      "outputs": [
        {
          "name": "stdout",
          "output_type": "stream",
          "text": "[57 28 15 96 55 24 25 51 21 16]\n"
        }
      ],
      "execution_count": 28
    },
    {
      "id": "2d8f645b-e040-4a48-9eda-09711dc29e15",
      "cell_type": "code",
      "source": "print(\"mean:\\t\",np.mean(arr1))\nprint(\"std:\\t\",np.std(arr1))\nprint(\"max:\\t\",np.max(arr1))\nprint(\"min:\\t\",np.min(arr1))",
      "metadata": {
        "trusted": true
      },
      "outputs": [
        {
          "name": "stdout",
          "output_type": "stream",
          "text": "mean:\t 5.0\nstd:\t 2.581988897471611\nmax:\t 9\nmin:\t 1\n"
        }
      ],
      "execution_count": 30
    },
    {
      "id": "e0e5cdec-d1f0-43f6-beff-b24c03b20ed4",
      "cell_type": "code",
      "source": "arr = np.arange(1, 13)\nprint(arr)\n",
      "metadata": {
        "trusted": true
      },
      "outputs": [
        {
          "name": "stdout",
          "output_type": "stream",
          "text": "[ 1  2  3  4  5  6  7  8  9 10 11 12]\n"
        }
      ],
      "execution_count": 31
    },
    {
      "id": "9615f52b-6d88-43f6-a836-db4549278b05",
      "cell_type": "code",
      "source": "print(arr.reshape(3,4))",
      "metadata": {
        "trusted": true
      },
      "outputs": [
        {
          "name": "stdout",
          "output_type": "stream",
          "text": "[[ 1  2  3  4]\n [ 5  6  7  8]\n [ 9 10 11 12]]\n"
        }
      ],
      "execution_count": 33
    },
    {
      "id": "a752ce8c-3c44-46c1-96f9-4e34107df9af",
      "cell_type": "code",
      "source": "zeroes=np.ones((3,3))\narr_1d=np.array([1,2,3])\nprint(zeroes+arr_1d)",
      "metadata": {
        "trusted": true
      },
      "outputs": [
        {
          "name": "stdout",
          "output_type": "stream",
          "text": "[[2. 3. 4.]\n [2. 3. 4.]\n [2. 3. 4.]]\n"
        }
      ],
      "execution_count": 34
    },
    {
      "id": "1af9cb7c-7164-4248-bf03-75f18d73e4e7",
      "cell_type": "code",
      "source": "arr = np.random.randint(1, 51, size=10)\nprint(arr)\narr_5=arr[arr%5==0]\nprint(arr_5)\n",
      "metadata": {
        "trusted": true
      },
      "outputs": [
        {
          "name": "stdout",
          "output_type": "stream",
          "text": "[19 39 17 17  5  2 23 43 48 26]\n[5]\n"
        }
      ],
      "execution_count": 46
    },
    {
      "id": "b1029a75-64cb-42fd-b721-3ce3bc9ed483",
      "cell_type": "code",
      "source": "a = np.array([[1, 2], [3, 4]])\nb = np.array([[5, 6], [7, 8]])\nresult = a @ b\nprint(result)\n",
      "metadata": {
        "trusted": true
      },
      "outputs": [
        {
          "name": "stdout",
          "output_type": "stream",
          "text": "[[19 22]\n [43 50]]\n"
        }
      ],
      "execution_count": 49
    },
    {
      "id": "ae738048-6db9-4966-bc72-5d18bcd5edab",
      "cell_type": "code",
      "source": "import numpy as np\n\n# Create a 4x4 array\narray = np.array([[1, 2, 3, 4],\n                  [5, 6, 7, 8],\n                  [9, 10, 11, 12],\n                  [13, 14, 15, 16]])\n\n# Extract diagonal elements using fancy indexing\ndiagonal_elements = array[[0, 1, 2, 3], [0, 1, 2, 3]]\n\nprint(\"Array:\")\nprint(array)\nprint(\"\\nDiagonal Elements:\")\nprint(diagonal_elements)\n",
      "metadata": {
        "trusted": true
      },
      "outputs": [],
      "execution_count": null
    }
  ]
}