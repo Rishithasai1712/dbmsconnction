{
 "cells": [
  {
   "cell_type": "markdown",
   "id": "941aa511-f9ba-4f8c-85fb-0b776f5b9a03",
   "metadata": {},
   "source": [
    "# **Assignment on Uber dataset**"
   ]
  },
  {
   "cell_type": "markdown",
   "id": "e9ccc14f-4a6d-48b9-9937-b6373ad64145",
   "metadata": {},
   "source": [
    "**Load the dataset**"
   ]
  },
  {
   "cell_type": "code",
   "execution_count": null,
   "id": "a34ffa5a-50f5-4451-8ed8-e6f44a7419b1",
   "metadata": {},
   "outputs": [],
   "source": [
    "import pandas as pd\n",
    "uber_data=pd.read_csv(\"uber.csv\")\n",
    "uber_data"
   ]
  },
  {
   "cell_type": "markdown",
   "id": "a589e8f4-ce40-468d-b563-c873eddf171b",
   "metadata": {},
   "source": [
    "**Display basic info about dataset**"
   ]
  },
  {
   "cell_type": "code",
   "execution_count": 3,
   "id": "fe004ecf-d5b4-4f01-817a-56be0681763a",
   "metadata": {},
   "outputs": [
    {
     "name": "stdout",
     "output_type": "stream",
     "text": [
      "<class 'pandas.core.frame.DataFrame'>\n",
      "RangeIndex: 1156 entries, 0 to 1155\n",
      "Data columns (total 7 columns):\n",
      " #   Column       Non-Null Count  Dtype  \n",
      "---  ------       --------------  -----  \n",
      " 0   START_DATE*  1156 non-null   object \n",
      " 1   END_DATE*    1155 non-null   object \n",
      " 2   CATEGORY*    1155 non-null   object \n",
      " 3   START*       1155 non-null   object \n",
      " 4   STOP*        1155 non-null   object \n",
      " 5   MILES*       1156 non-null   float64\n",
      " 6   PURPOSE*     653 non-null    object \n",
      "dtypes: float64(1), object(6)\n",
      "memory usage: 63.3+ KB\n",
      "(1156, 7)\n",
      "      START_DATE*       END_DATE* CATEGORY*       START*            STOP*  \\\n",
      "0  1/1/2016 21:11  1/1/2016 21:17  Business  Fort Pierce      Fort Pierce   \n",
      "1   1/2/2016 1:25   1/2/2016 1:37  Business  Fort Pierce      Fort Pierce   \n",
      "2  1/2/2016 20:25  1/2/2016 20:38  Business  Fort Pierce      Fort Pierce   \n",
      "3  1/5/2016 17:31  1/5/2016 17:45  Business  Fort Pierce      Fort Pierce   \n",
      "4  1/6/2016 14:42  1/6/2016 15:49  Business  Fort Pierce  West Palm Beach   \n",
      "\n",
      "   MILES*         PURPOSE*  \n",
      "0     5.1   Meal/Entertain  \n",
      "1     5.0              NaN  \n",
      "2     4.8  Errand/Supplies  \n",
      "3     4.7          Meeting  \n",
      "4    63.7   Customer Visit  \n",
      "             MILES*\n",
      "count   1156.000000\n",
      "mean      21.115398\n",
      "std      359.299007\n",
      "min        0.500000\n",
      "25%        2.900000\n",
      "50%        6.000000\n",
      "75%       10.400000\n",
      "max    12204.700000\n"
     ]
    }
   ],
   "source": [
    "import pandas as pd\n",
    "uber_data = pd.read_csv(\"uber.csv\")\n",
    "uber_data.info()\n",
    "print(uber_data.shape)\n",
    "print(uber_data.head())\n",
    "print(uber_data.describe())"
   ]
  },
  {
   "cell_type": "markdown",
   "id": "0dba6eff-7805-45fa-8272-76f9b11fbb0b",
   "metadata": {},
   "source": [
    "**Check for missing values**"
   ]
  },
  {
   "cell_type": "code",
   "execution_count": null,
   "id": "e445c45e-c661-41e0-b1d4-6d808d1079a2",
   "metadata": {},
   "outputs": [],
   "source": [
    "\n",
    "import pandas as pd\n",
    "uber_data=pd.read_csv(\"uber.csv\")\n",
    "uber_data.isnull().sum()"
   ]
  },
  {
   "cell_type": "markdown",
   "id": "a58c1ca3-cae2-412a-8bd3-65cac83dcdd2",
   "metadata": {},
   "source": [
    "**Drop rows with missing values**"
   ]
  },
  {
   "cell_type": "code",
   "execution_count": 9,
   "id": "7e610261-c70f-4297-b9be-370881444bc9",
   "metadata": {},
   "outputs": [
    {
     "data": {
      "text/html": [
       "<div>\n",
       "<style scoped>\n",
       "    .dataframe tbody tr th:only-of-type {\n",
       "        vertical-align: middle;\n",
       "    }\n",
       "\n",
       "    .dataframe tbody tr th {\n",
       "        vertical-align: top;\n",
       "    }\n",
       "\n",
       "    .dataframe thead th {\n",
       "        text-align: right;\n",
       "    }\n",
       "</style>\n",
       "<table border=\"1\" class=\"dataframe\">\n",
       "  <thead>\n",
       "    <tr style=\"text-align: right;\">\n",
       "      <th></th>\n",
       "      <th>START_DATE*</th>\n",
       "      <th>END_DATE*</th>\n",
       "      <th>CATEGORY*</th>\n",
       "      <th>START*</th>\n",
       "      <th>STOP*</th>\n",
       "      <th>MILES*</th>\n",
       "      <th>PURPOSE*</th>\n",
       "    </tr>\n",
       "  </thead>\n",
       "  <tbody>\n",
       "    <tr>\n",
       "      <th>0</th>\n",
       "      <td>1/1/2016 21:11</td>\n",
       "      <td>1/1/2016 21:17</td>\n",
       "      <td>Business</td>\n",
       "      <td>Fort Pierce</td>\n",
       "      <td>Fort Pierce</td>\n",
       "      <td>5.1</td>\n",
       "      <td>Meal/Entertain</td>\n",
       "    </tr>\n",
       "    <tr>\n",
       "      <th>2</th>\n",
       "      <td>1/2/2016 20:25</td>\n",
       "      <td>1/2/2016 20:38</td>\n",
       "      <td>Business</td>\n",
       "      <td>Fort Pierce</td>\n",
       "      <td>Fort Pierce</td>\n",
       "      <td>4.8</td>\n",
       "      <td>Errand/Supplies</td>\n",
       "    </tr>\n",
       "    <tr>\n",
       "      <th>3</th>\n",
       "      <td>1/5/2016 17:31</td>\n",
       "      <td>1/5/2016 17:45</td>\n",
       "      <td>Business</td>\n",
       "      <td>Fort Pierce</td>\n",
       "      <td>Fort Pierce</td>\n",
       "      <td>4.7</td>\n",
       "      <td>Meeting</td>\n",
       "    </tr>\n",
       "    <tr>\n",
       "      <th>4</th>\n",
       "      <td>1/6/2016 14:42</td>\n",
       "      <td>1/6/2016 15:49</td>\n",
       "      <td>Business</td>\n",
       "      <td>Fort Pierce</td>\n",
       "      <td>West Palm Beach</td>\n",
       "      <td>63.7</td>\n",
       "      <td>Customer Visit</td>\n",
       "    </tr>\n",
       "    <tr>\n",
       "      <th>5</th>\n",
       "      <td>1/6/2016 17:15</td>\n",
       "      <td>1/6/2016 17:19</td>\n",
       "      <td>Business</td>\n",
       "      <td>West Palm Beach</td>\n",
       "      <td>West Palm Beach</td>\n",
       "      <td>4.3</td>\n",
       "      <td>Meal/Entertain</td>\n",
       "    </tr>\n",
       "    <tr>\n",
       "      <th>...</th>\n",
       "      <td>...</td>\n",
       "      <td>...</td>\n",
       "      <td>...</td>\n",
       "      <td>...</td>\n",
       "      <td>...</td>\n",
       "      <td>...</td>\n",
       "      <td>...</td>\n",
       "    </tr>\n",
       "    <tr>\n",
       "      <th>1150</th>\n",
       "      <td>12/31/2016 1:07</td>\n",
       "      <td>12/31/2016 1:14</td>\n",
       "      <td>Business</td>\n",
       "      <td>Kar?chi</td>\n",
       "      <td>Kar?chi</td>\n",
       "      <td>0.7</td>\n",
       "      <td>Meeting</td>\n",
       "    </tr>\n",
       "    <tr>\n",
       "      <th>1151</th>\n",
       "      <td>12/31/2016 13:24</td>\n",
       "      <td>12/31/2016 13:42</td>\n",
       "      <td>Business</td>\n",
       "      <td>Kar?chi</td>\n",
       "      <td>Unknown Location</td>\n",
       "      <td>3.9</td>\n",
       "      <td>Temporary Site</td>\n",
       "    </tr>\n",
       "    <tr>\n",
       "      <th>1152</th>\n",
       "      <td>12/31/2016 15:03</td>\n",
       "      <td>12/31/2016 15:38</td>\n",
       "      <td>Business</td>\n",
       "      <td>Unknown Location</td>\n",
       "      <td>Unknown Location</td>\n",
       "      <td>16.2</td>\n",
       "      <td>Meeting</td>\n",
       "    </tr>\n",
       "    <tr>\n",
       "      <th>1153</th>\n",
       "      <td>12/31/2016 21:32</td>\n",
       "      <td>12/31/2016 21:50</td>\n",
       "      <td>Business</td>\n",
       "      <td>Katunayake</td>\n",
       "      <td>Gampaha</td>\n",
       "      <td>6.4</td>\n",
       "      <td>Temporary Site</td>\n",
       "    </tr>\n",
       "    <tr>\n",
       "      <th>1154</th>\n",
       "      <td>12/31/2016 22:08</td>\n",
       "      <td>12/31/2016 23:51</td>\n",
       "      <td>Business</td>\n",
       "      <td>Gampaha</td>\n",
       "      <td>Ilukwatta</td>\n",
       "      <td>48.2</td>\n",
       "      <td>Temporary Site</td>\n",
       "    </tr>\n",
       "  </tbody>\n",
       "</table>\n",
       "<p>653 rows × 7 columns</p>\n",
       "</div>"
      ],
      "text/plain": [
       "           START_DATE*         END_DATE* CATEGORY*            START*  \\\n",
       "0       1/1/2016 21:11    1/1/2016 21:17  Business       Fort Pierce   \n",
       "2       1/2/2016 20:25    1/2/2016 20:38  Business       Fort Pierce   \n",
       "3       1/5/2016 17:31    1/5/2016 17:45  Business       Fort Pierce   \n",
       "4       1/6/2016 14:42    1/6/2016 15:49  Business       Fort Pierce   \n",
       "5       1/6/2016 17:15    1/6/2016 17:19  Business   West Palm Beach   \n",
       "...                ...               ...       ...               ...   \n",
       "1150   12/31/2016 1:07   12/31/2016 1:14  Business           Kar?chi   \n",
       "1151  12/31/2016 13:24  12/31/2016 13:42  Business           Kar?chi   \n",
       "1152  12/31/2016 15:03  12/31/2016 15:38  Business  Unknown Location   \n",
       "1153  12/31/2016 21:32  12/31/2016 21:50  Business        Katunayake   \n",
       "1154  12/31/2016 22:08  12/31/2016 23:51  Business           Gampaha   \n",
       "\n",
       "                 STOP*  MILES*         PURPOSE*  \n",
       "0          Fort Pierce     5.1   Meal/Entertain  \n",
       "2          Fort Pierce     4.8  Errand/Supplies  \n",
       "3          Fort Pierce     4.7          Meeting  \n",
       "4      West Palm Beach    63.7   Customer Visit  \n",
       "5      West Palm Beach     4.3   Meal/Entertain  \n",
       "...                ...     ...              ...  \n",
       "1150           Kar?chi     0.7          Meeting  \n",
       "1151  Unknown Location     3.9   Temporary Site  \n",
       "1152  Unknown Location    16.2          Meeting  \n",
       "1153           Gampaha     6.4   Temporary Site  \n",
       "1154         Ilukwatta    48.2   Temporary Site  \n",
       "\n",
       "[653 rows x 7 columns]"
      ]
     },
     "execution_count": 9,
     "metadata": {},
     "output_type": "execute_result"
    }
   ],
   "source": [
    "import pandas as pd\n",
    "uber_data = pd.read_csv(\"uber.csv\")\n",
    "cleaned = uber_data.dropna()\n",
    "cleaned\n"
   ]
  },
  {
   "cell_type": "markdown",
   "id": "553b0fa2-e237-4f3d-824f-812b15aa79f3",
   "metadata": {},
   "source": [
    "**fill missing values (propose column with unknown value)**"
   ]
  },
  {
   "cell_type": "code",
   "execution_count": 25,
   "id": "1f85afa3-ea43-4ccc-bd45-b7b8e1d7b0b9",
   "metadata": {},
   "outputs": [
    {
     "data": {
      "text/plain": [
       "<bound method NDFrame.head of            START_DATE*         END_DATE* CATEGORY*            START*  \\\n",
       "0       1/1/2016 21:11    1/1/2016 21:17  Business       Fort Pierce   \n",
       "1        1/2/2016 1:25     1/2/2016 1:37  Business       Fort Pierce   \n",
       "2       1/2/2016 20:25    1/2/2016 20:38  Business       Fort Pierce   \n",
       "3       1/5/2016 17:31    1/5/2016 17:45  Business       Fort Pierce   \n",
       "4       1/6/2016 14:42    1/6/2016 15:49  Business       Fort Pierce   \n",
       "...                ...               ...       ...               ...   \n",
       "1151  12/31/2016 13:24  12/31/2016 13:42  Business           Kar?chi   \n",
       "1152  12/31/2016 15:03  12/31/2016 15:38  Business  Unknown Location   \n",
       "1153  12/31/2016 21:32  12/31/2016 21:50  Business        Katunayake   \n",
       "1154  12/31/2016 22:08  12/31/2016 23:51  Business           Gampaha   \n",
       "1155            Totals           Unknown   Unknown           Unknown   \n",
       "\n",
       "                 STOP*   MILES*         PURPOSE*  \n",
       "0          Fort Pierce      5.1   Meal/Entertain  \n",
       "1          Fort Pierce      5.0          Unknown  \n",
       "2          Fort Pierce      4.8  Errand/Supplies  \n",
       "3          Fort Pierce      4.7          Meeting  \n",
       "4      West Palm Beach     63.7   Customer Visit  \n",
       "...                ...      ...              ...  \n",
       "1151  Unknown Location      3.9   Temporary Site  \n",
       "1152  Unknown Location     16.2          Meeting  \n",
       "1153           Gampaha      6.4   Temporary Site  \n",
       "1154         Ilukwatta     48.2   Temporary Site  \n",
       "1155           Unknown  12204.7          Unknown  \n",
       "\n",
       "[1156 rows x 7 columns]>"
      ]
     },
     "execution_count": 25,
     "metadata": {},
     "output_type": "execute_result"
    }
   ],
   "source": [
    "uber_data = uber_data.fillna('Unknown')\n",
    "uber_data.head\n"
   ]
  },
  {
   "cell_type": "markdown",
   "id": "2c3f9b9f-8cc4-46d0-bc19-d0986d7895c4",
   "metadata": {},
   "source": [
    "**Check and remove duplicates**"
   ]
  },
  {
   "cell_type": "code",
   "execution_count": 27,
   "id": "94e58632-b9ce-4be0-8f71-5a81b4dd88cd",
   "metadata": {},
   "outputs": [
    {
     "data": {
      "text/html": [
       "<div>\n",
       "<style scoped>\n",
       "    .dataframe tbody tr th:only-of-type {\n",
       "        vertical-align: middle;\n",
       "    }\n",
       "\n",
       "    .dataframe tbody tr th {\n",
       "        vertical-align: top;\n",
       "    }\n",
       "\n",
       "    .dataframe thead th {\n",
       "        text-align: right;\n",
       "    }\n",
       "</style>\n",
       "<table border=\"1\" class=\"dataframe\">\n",
       "  <thead>\n",
       "    <tr style=\"text-align: right;\">\n",
       "      <th></th>\n",
       "      <th>START_DATE*</th>\n",
       "      <th>END_DATE*</th>\n",
       "      <th>CATEGORY*</th>\n",
       "      <th>START*</th>\n",
       "      <th>STOP*</th>\n",
       "      <th>MILES*</th>\n",
       "      <th>PURPOSE*</th>\n",
       "    </tr>\n",
       "  </thead>\n",
       "  <tbody>\n",
       "    <tr>\n",
       "      <th>0</th>\n",
       "      <td>1/1/2016 21:11</td>\n",
       "      <td>1/1/2016 21:17</td>\n",
       "      <td>Business</td>\n",
       "      <td>Fort Pierce</td>\n",
       "      <td>Fort Pierce</td>\n",
       "      <td>5.1</td>\n",
       "      <td>Meal/Entertain</td>\n",
       "    </tr>\n",
       "    <tr>\n",
       "      <th>1</th>\n",
       "      <td>1/2/2016 1:25</td>\n",
       "      <td>1/2/2016 1:37</td>\n",
       "      <td>Business</td>\n",
       "      <td>Fort Pierce</td>\n",
       "      <td>Fort Pierce</td>\n",
       "      <td>5.0</td>\n",
       "      <td>Unknown</td>\n",
       "    </tr>\n",
       "    <tr>\n",
       "      <th>2</th>\n",
       "      <td>1/2/2016 20:25</td>\n",
       "      <td>1/2/2016 20:38</td>\n",
       "      <td>Business</td>\n",
       "      <td>Fort Pierce</td>\n",
       "      <td>Fort Pierce</td>\n",
       "      <td>4.8</td>\n",
       "      <td>Errand/Supplies</td>\n",
       "    </tr>\n",
       "    <tr>\n",
       "      <th>3</th>\n",
       "      <td>1/5/2016 17:31</td>\n",
       "      <td>1/5/2016 17:45</td>\n",
       "      <td>Business</td>\n",
       "      <td>Fort Pierce</td>\n",
       "      <td>Fort Pierce</td>\n",
       "      <td>4.7</td>\n",
       "      <td>Meeting</td>\n",
       "    </tr>\n",
       "    <tr>\n",
       "      <th>4</th>\n",
       "      <td>1/6/2016 14:42</td>\n",
       "      <td>1/6/2016 15:49</td>\n",
       "      <td>Business</td>\n",
       "      <td>Fort Pierce</td>\n",
       "      <td>West Palm Beach</td>\n",
       "      <td>63.7</td>\n",
       "      <td>Customer Visit</td>\n",
       "    </tr>\n",
       "    <tr>\n",
       "      <th>...</th>\n",
       "      <td>...</td>\n",
       "      <td>...</td>\n",
       "      <td>...</td>\n",
       "      <td>...</td>\n",
       "      <td>...</td>\n",
       "      <td>...</td>\n",
       "      <td>...</td>\n",
       "    </tr>\n",
       "    <tr>\n",
       "      <th>1151</th>\n",
       "      <td>12/31/2016 13:24</td>\n",
       "      <td>12/31/2016 13:42</td>\n",
       "      <td>Business</td>\n",
       "      <td>Kar?chi</td>\n",
       "      <td>Unknown Location</td>\n",
       "      <td>3.9</td>\n",
       "      <td>Temporary Site</td>\n",
       "    </tr>\n",
       "    <tr>\n",
       "      <th>1152</th>\n",
       "      <td>12/31/2016 15:03</td>\n",
       "      <td>12/31/2016 15:38</td>\n",
       "      <td>Business</td>\n",
       "      <td>Unknown Location</td>\n",
       "      <td>Unknown Location</td>\n",
       "      <td>16.2</td>\n",
       "      <td>Meeting</td>\n",
       "    </tr>\n",
       "    <tr>\n",
       "      <th>1153</th>\n",
       "      <td>12/31/2016 21:32</td>\n",
       "      <td>12/31/2016 21:50</td>\n",
       "      <td>Business</td>\n",
       "      <td>Katunayake</td>\n",
       "      <td>Gampaha</td>\n",
       "      <td>6.4</td>\n",
       "      <td>Temporary Site</td>\n",
       "    </tr>\n",
       "    <tr>\n",
       "      <th>1154</th>\n",
       "      <td>12/31/2016 22:08</td>\n",
       "      <td>12/31/2016 23:51</td>\n",
       "      <td>Business</td>\n",
       "      <td>Gampaha</td>\n",
       "      <td>Ilukwatta</td>\n",
       "      <td>48.2</td>\n",
       "      <td>Temporary Site</td>\n",
       "    </tr>\n",
       "    <tr>\n",
       "      <th>1155</th>\n",
       "      <td>Totals</td>\n",
       "      <td>Unknown</td>\n",
       "      <td>Unknown</td>\n",
       "      <td>Unknown</td>\n",
       "      <td>Unknown</td>\n",
       "      <td>12204.7</td>\n",
       "      <td>Unknown</td>\n",
       "    </tr>\n",
       "  </tbody>\n",
       "</table>\n",
       "<p>1155 rows × 7 columns</p>\n",
       "</div>"
      ],
      "text/plain": [
       "           START_DATE*         END_DATE* CATEGORY*            START*  \\\n",
       "0       1/1/2016 21:11    1/1/2016 21:17  Business       Fort Pierce   \n",
       "1        1/2/2016 1:25     1/2/2016 1:37  Business       Fort Pierce   \n",
       "2       1/2/2016 20:25    1/2/2016 20:38  Business       Fort Pierce   \n",
       "3       1/5/2016 17:31    1/5/2016 17:45  Business       Fort Pierce   \n",
       "4       1/6/2016 14:42    1/6/2016 15:49  Business       Fort Pierce   \n",
       "...                ...               ...       ...               ...   \n",
       "1151  12/31/2016 13:24  12/31/2016 13:42  Business           Kar?chi   \n",
       "1152  12/31/2016 15:03  12/31/2016 15:38  Business  Unknown Location   \n",
       "1153  12/31/2016 21:32  12/31/2016 21:50  Business        Katunayake   \n",
       "1154  12/31/2016 22:08  12/31/2016 23:51  Business           Gampaha   \n",
       "1155            Totals           Unknown   Unknown           Unknown   \n",
       "\n",
       "                 STOP*   MILES*         PURPOSE*  \n",
       "0          Fort Pierce      5.1   Meal/Entertain  \n",
       "1          Fort Pierce      5.0          Unknown  \n",
       "2          Fort Pierce      4.8  Errand/Supplies  \n",
       "3          Fort Pierce      4.7          Meeting  \n",
       "4      West Palm Beach     63.7   Customer Visit  \n",
       "...                ...      ...              ...  \n",
       "1151  Unknown Location      3.9   Temporary Site  \n",
       "1152  Unknown Location     16.2          Meeting  \n",
       "1153           Gampaha      6.4   Temporary Site  \n",
       "1154         Ilukwatta     48.2   Temporary Site  \n",
       "1155           Unknown  12204.7          Unknown  \n",
       "\n",
       "[1155 rows x 7 columns]"
      ]
     },
     "execution_count": 27,
     "metadata": {},
     "output_type": "execute_result"
    }
   ],
   "source": [
    "uber_data_cleaned = uber_data.drop_duplicates()\n",
    "uber_data_cleaned\n"
   ]
  },
  {
   "cell_type": "code",
   "execution_count": null,
   "id": "76215668-c702-461b-872e-83ab303880cb",
   "metadata": {},
   "outputs": [],
   "source": []
  },
  {
   "cell_type": "markdown",
   "id": "0a27bdb3-ade2-40b0-b06f-8a02ede5980a",
   "metadata": {},
   "source": [
    "**Convert START_DATE and END_DATE to datetime**"
   ]
  },
  {
   "cell_type": "code",
   "execution_count": 19,
   "id": "effc5d74-284f-470d-9784-8ae321a4a774",
   "metadata": {},
   "outputs": [
    {
     "data": {
      "text/plain": [
       "START_DATE*    datetime64[ns]\n",
       "END_DATE*      datetime64[ns]\n",
       "CATEGORY*              object\n",
       "START*                 object\n",
       "STOP*                  object\n",
       "MILES*                float64\n",
       "PURPOSE*               object\n",
       "dtype: object"
      ]
     },
     "execution_count": 19,
     "metadata": {},
     "output_type": "execute_result"
    }
   ],
   "source": [
    "import pandas as pd\n",
    "uber_data = pd.read_csv(\"uber.csv\")\n",
    "uber_data['START_DATE*'] = pd.to_datetime(uber_data['START_DATE*'], errors='coerce')\n",
    "uber_data['END_DATE*'] = pd.to_datetime(uber_data['END_DATE*'], errors='coerce')\n",
    "uber_data.dtypes\n"
   ]
  },
  {
   "cell_type": "code",
   "execution_count": 21,
   "id": "59c684a6-d034-4ac8-b4cf-b86eeef5fc9c",
   "metadata": {},
   "outputs": [
    {
     "data": {
      "text/plain": [
       "START_DATE*     object\n",
       "END_DATE*       object\n",
       "CATEGORY*       object\n",
       "START*          object\n",
       "STOP*           object\n",
       "MILES*         float64\n",
       "PURPOSE*        object\n",
       "dtype: object"
      ]
     },
     "execution_count": 21,
     "metadata": {},
     "output_type": "execute_result"
    }
   ],
   "source": [
    "import pandas as pd\n",
    "uber_data = pd.read_csv(\"uber.csv\")\n",
    "uber_data.dtypes\n"
   ]
  },
  {
   "cell_type": "markdown",
   "id": "95dfc783-1db4-4010-a085-23a653ea83d0",
   "metadata": {},
   "source": [
    "**Total number of rides per category:**"
   ]
  },
  {
   "cell_type": "code",
   "execution_count": 29,
   "id": "e5cba9c3-7988-4d66-9306-5b95131dd111",
   "metadata": {},
   "outputs": [
    {
     "name": "stdout",
     "output_type": "stream",
     "text": [
      "START*\n",
      "Agnew               4\n",
      "Almond              1\n",
      "Apex               17\n",
      "Arabi               1\n",
      "Arlington           1\n",
      "                   ..\n",
      "West University     2\n",
      "Weston              2\n",
      "Westpark Place     17\n",
      "Whitebridge        68\n",
      "Winston Salem       1\n",
      "Length: 177, dtype: int64\n",
      "STOP*\n",
      "Agnew                  4\n",
      "Alief                  1\n",
      "Almond                 1\n",
      "Apex                  17\n",
      "Arabi                  1\n",
      "                      ..\n",
      "Weston                 5\n",
      "Westpark Place        16\n",
      "Whitebridge           65\n",
      "Williamsburg Manor     1\n",
      "Winston Salem          1\n",
      "Length: 188, dtype: int64\n"
     ]
    }
   ],
   "source": [
    "import pandas as pd\n",
    "uber_data = pd.read_csv(\"uber.csv\")\n",
    "total_rides_start = uber_data.groupby('START*').size()\n",
    "print(total_rides_start)\n",
    "total_rides_stop = uber_data.groupby('STOP*').size()\n",
    "print(total_rides_stop)\n"
   ]
  },
  {
   "cell_type": "markdown",
   "id": "df33aac2-ffb5-4ec5-9498-652a0eb957d9",
   "metadata": {},
   "source": [
    "**Total miles traveled for each purpose:**"
   ]
  },
  {
   "cell_type": "code",
   "execution_count": 31,
   "id": "6cea5c61-d84e-4eaf-8fde-23ec8b1f2a2c",
   "metadata": {},
   "outputs": [
    {
     "name": "stdout",
     "output_type": "stream",
     "text": [
      "START*\n",
      "Agnew               11.1\n",
      "Almond              15.2\n",
      "Apex                90.8\n",
      "Arabi               17.0\n",
      "Arlington            4.9\n",
      "                   ...  \n",
      "West University      4.4\n",
      "Weston               8.0\n",
      "Westpark Place      37.1\n",
      "Whitebridge        273.4\n",
      "Winston Salem      133.6\n",
      "Name: MILES*, Length: 177, dtype: float64\n",
      "STOP*\n",
      "Agnew                  11.7\n",
      "Alief                  15.5\n",
      "Almond                  6.6\n",
      "Apex                  102.2\n",
      "Arabi                   1.1\n",
      "                      ...  \n",
      "Weston                 14.5\n",
      "Westpark Place         36.0\n",
      "Whitebridge           245.3\n",
      "Williamsburg Manor      8.3\n",
      "Winston Salem         107.0\n",
      "Name: MILES*, Length: 188, dtype: float64\n"
     ]
    }
   ],
   "source": [
    "import pandas as pd\n",
    "uber_data = pd.read_csv(\"uber.csv\")\n",
    "total_miles_start = uber_data.groupby('START*')['MILES*'].sum()\n",
    "print(total_miles_start)\n",
    "total_miles_stop =uber_data.groupby('STOP*')['MILES*'].sum()\n",
    "print(total_miles_stop)\n"
   ]
  },
  {
   "cell_type": "markdown",
   "id": "0038c354-db08-44a6-90b4-3c307431960d",
   "metadata": {},
   "source": [
    "**Average distance for business vs. personal rides:**"
   ]
  },
  {
   "cell_type": "code",
   "execution_count": 39,
   "id": "81c4d609-c7fa-44a7-b7f1-29a996a068c8",
   "metadata": {},
   "outputs": [
    {
     "name": "stdout",
     "output_type": "stream",
     "text": [
      "Average Business Rides: 10.655844155844155 miles\n",
      "Average Personal Rides: 9.32077922077922 miles\n"
     ]
    }
   ],
   "source": [
    "import pandas as pd\n",
    "uber_data = pd.read_csv(\"Uber.csv\")\n",
    "avg_b = uber_data[uber_data['CATEGORY*'] == 'Business']['MILES*'].mean()\n",
    "\n",
    "avg_p = uber_data[uber_data['CATEGORY*'] == 'Personal']['MILES*'].mean()\n",
    "\n",
    "print(f\"Average Business Rides: {avg_b} miles\")\n",
    "print(f\"Average Personal Rides: {avg_p} miles\")\n"
   ]
  },
  {
   "cell_type": "markdown",
   "id": "b5ce5c6c-b9ba-4c8f-a371-d3d8ff76ce06",
   "metadata": {},
   "source": [
    "**Add a column for cost estimation (assuming $2 per mile):**"
   ]
  },
  {
   "cell_type": "code",
   "execution_count": 43,
   "id": "d727f17e-f0a9-4168-9a4d-bd0c5b118e11",
   "metadata": {},
   "outputs": [
    {
     "name": "stdout",
     "output_type": "stream",
     "text": [
      "           START_DATE*         END_DATE* CATEGORY*            START*  \\\n",
      "0       1/1/2016 21:11    1/1/2016 21:17  Business       Fort Pierce   \n",
      "1        1/2/2016 1:25     1/2/2016 1:37  Business       Fort Pierce   \n",
      "2       1/2/2016 20:25    1/2/2016 20:38  Business       Fort Pierce   \n",
      "3       1/5/2016 17:31    1/5/2016 17:45  Business       Fort Pierce   \n",
      "4       1/6/2016 14:42    1/6/2016 15:49  Business       Fort Pierce   \n",
      "...                ...               ...       ...               ...   \n",
      "1151  12/31/2016 13:24  12/31/2016 13:42  Business           Kar?chi   \n",
      "1152  12/31/2016 15:03  12/31/2016 15:38  Business  Unknown Location   \n",
      "1153  12/31/2016 21:32  12/31/2016 21:50  Business        Katunayake   \n",
      "1154  12/31/2016 22:08  12/31/2016 23:51  Business           Gampaha   \n",
      "1155            Totals               NaN       NaN               NaN   \n",
      "\n",
      "                 STOP*   MILES*         PURPOSE*  COST_ESTIMATION  \n",
      "0          Fort Pierce      5.1   Meal/Entertain             10.2  \n",
      "1          Fort Pierce      5.0              NaN             10.0  \n",
      "2          Fort Pierce      4.8  Errand/Supplies              9.6  \n",
      "3          Fort Pierce      4.7          Meeting              9.4  \n",
      "4      West Palm Beach     63.7   Customer Visit            127.4  \n",
      "...                ...      ...              ...              ...  \n",
      "1151  Unknown Location      3.9   Temporary Site              7.8  \n",
      "1152  Unknown Location     16.2          Meeting             32.4  \n",
      "1153           Gampaha      6.4   Temporary Site             12.8  \n",
      "1154         Ilukwatta     48.2   Temporary Site             96.4  \n",
      "1155               NaN  12204.7              NaN          24409.4  \n",
      "\n",
      "[1156 rows x 8 columns]\n"
     ]
    }
   ],
   "source": [
    "uber_data['COST_ESTIMATION'] = uber_data['MILES*'] * 2  \n",
    "print(uber_data)\n"
   ]
  },
  {
   "cell_type": "markdown",
   "id": "8e7c7766-dc43-43bf-bf95-bd52e37b1657",
   "metadata": {},
   "source": [
    "**Filter rides longer than 50 miles:**"
   ]
  },
  {
   "cell_type": "code",
   "execution_count": 45,
   "id": "f1452c30-ba23-4153-b83c-efefa820123d",
   "metadata": {},
   "outputs": [
    {
     "name": "stdout",
     "output_type": "stream",
     "text": [
      "           START_DATE*         END_DATE* CATEGORY*            START*  \\\n",
      "4       1/6/2016 14:42    1/6/2016 15:49  Business       Fort Pierce   \n",
      "232    3/17/2016 12:52   3/17/2016 15:11  Business            Austin   \n",
      "251    3/19/2016 19:33   3/19/2016 20:39  Business         Galveston   \n",
      "268    3/25/2016 13:24   3/25/2016 16:22  Business              Cary   \n",
      "269    3/25/2016 16:52   3/25/2016 22:22  Business             Latta   \n",
      "270    3/25/2016 22:54    3/26/2016 1:39  Business      Jacksonville   \n",
      "295     4/2/2016 12:21    4/2/2016 14:47  Business         Kissimmee   \n",
      "296     4/2/2016 16:57    4/2/2016 18:09  Business     Daytona Beach   \n",
      "297     4/2/2016 19:38    4/2/2016 22:36  Business      Jacksonville   \n",
      "298     4/2/2016 23:11     4/3/2016 1:34  Business         Ridgeland   \n",
      "299      4/3/2016 2:00     4/3/2016 4:16  Business          Florence   \n",
      "546    7/14/2016 16:39   7/14/2016 20:05  Business       Morrisville   \n",
      "559    7/17/2016 12:20   7/17/2016 15:25  Personal             Boone   \n",
      "707    8/24/2016 13:01   8/24/2016 15:25  Business  Unknown Location   \n",
      "710    8/25/2016 17:19   8/25/2016 19:20  Business  Unknown Location   \n",
      "726    8/27/2016 14:01   8/27/2016 15:44  Business            Lahore   \n",
      "727    8/27/2016 16:15   8/27/2016 19:13  Business  Unknown Location   \n",
      "751     9/6/2016 17:49    9/6/2016 17:49  Business  Unknown Location   \n",
      "776    9/27/2016 21:01    9/28/2016 2:37  Business  Unknown Location   \n",
      "788    10/6/2016 17:23   10/6/2016 17:40  Business        R?walpindi   \n",
      "869   10/28/2016 15:53  10/28/2016 17:59  Business              Cary   \n",
      "870   10/28/2016 18:13  10/28/2016 20:07  Business     Winston Salem   \n",
      "871   10/28/2016 20:13  10/28/2016 22:00  Business         Asheville   \n",
      "873   10/29/2016 17:13  10/29/2016 19:19  Business        Hayesville   \n",
      "880   10/30/2016 13:24  10/30/2016 14:37  Business       Bryson City   \n",
      "881   10/30/2016 15:22  10/30/2016 18:23  Business         Asheville   \n",
      "1088  12/21/2016 20:56  12/21/2016 23:42  Business        Rawalpindi   \n",
      "1155            Totals               NaN       NaN               NaN   \n",
      "\n",
      "                 STOP*   MILES*        PURPOSE*  COST_ESTIMATION  \n",
      "4      West Palm Beach     63.7  Customer Visit            127.4  \n",
      "232               Katy    136.0  Customer Visit            272.0  \n",
      "251            Houston     57.0  Customer Visit            114.0  \n",
      "268              Latta    144.0  Customer Visit            288.0  \n",
      "269       Jacksonville    310.3  Customer Visit            620.6  \n",
      "270          Kissimmee    201.0         Meeting            402.0  \n",
      "295      Daytona Beach     77.3  Customer Visit            154.6  \n",
      "296       Jacksonville     80.5  Customer Visit            161.0  \n",
      "297          Ridgeland    174.2  Customer Visit            348.4  \n",
      "298           Florence    144.0         Meeting            288.0  \n",
      "299               Cary    159.3         Meeting            318.6  \n",
      "546         Banner Elk    195.3             NaN            390.6  \n",
      "559               Cary    180.2         Commute            360.4  \n",
      "707   Unknown Location     96.2             NaN            192.4  \n",
      "710   Unknown Location     50.4             NaN            100.8  \n",
      "726   Unknown Location     86.6             NaN            173.2  \n",
      "727   Unknown Location    156.9             NaN            313.8  \n",
      "751   Unknown Location     69.1             NaN            138.2  \n",
      "776   Unknown Location    195.6             NaN            391.2  \n",
      "788   Unknown Location    112.6             NaN            225.2  \n",
      "869      Winston Salem    107.0         Meeting            214.0  \n",
      "870          Asheville    133.6         Meeting            267.2  \n",
      "871             Topton     91.8         Meeting            183.6  \n",
      "873             Topton     75.7             NaN            151.4  \n",
      "880          Asheville     68.4             NaN            136.8  \n",
      "881             Mebane    195.9             NaN            391.8  \n",
      "1088  Unknown Location    103.0         Meeting            206.0  \n",
      "1155               NaN  12204.7             NaN          24409.4  \n"
     ]
    }
   ],
   "source": [
    "long_rides = uber_data[uber_data['MILES*'] > 50]\n",
    "print(long_rides)\n"
   ]
  },
  {
   "cell_type": "markdown",
   "id": "3fdffe93-a65e-4407-bd5b-daa9d20c6708",
   "metadata": {},
   "source": [
    "**Filter by specific purpose (e.g., meetings):**"
   ]
  },
  {
   "cell_type": "code",
   "execution_count": 65,
   "id": "f9f9ee23-b44d-4a9e-bcf9-f5c34c8a990e",
   "metadata": {},
   "outputs": [
    {
     "data": {
      "text/html": [
       "<div>\n",
       "<style scoped>\n",
       "    .dataframe tbody tr th:only-of-type {\n",
       "        vertical-align: middle;\n",
       "    }\n",
       "\n",
       "    .dataframe tbody tr th {\n",
       "        vertical-align: top;\n",
       "    }\n",
       "\n",
       "    .dataframe thead th {\n",
       "        text-align: right;\n",
       "    }\n",
       "</style>\n",
       "<table border=\"1\" class=\"dataframe\">\n",
       "  <thead>\n",
       "    <tr style=\"text-align: right;\">\n",
       "      <th></th>\n",
       "      <th>START_DATE*</th>\n",
       "      <th>END_DATE*</th>\n",
       "      <th>CATEGORY*</th>\n",
       "      <th>START*</th>\n",
       "      <th>STOP*</th>\n",
       "      <th>MILES*</th>\n",
       "      <th>PURPOSE*</th>\n",
       "    </tr>\n",
       "  </thead>\n",
       "  <tbody>\n",
       "    <tr>\n",
       "      <th>3</th>\n",
       "      <td>1/5/2016 17:31</td>\n",
       "      <td>1/5/2016 17:45</td>\n",
       "      <td>Business</td>\n",
       "      <td>Fort Pierce</td>\n",
       "      <td>Fort Pierce</td>\n",
       "      <td>4.7</td>\n",
       "      <td>Meeting</td>\n",
       "    </tr>\n",
       "    <tr>\n",
       "      <th>6</th>\n",
       "      <td>1/6/2016 17:30</td>\n",
       "      <td>1/6/2016 17:35</td>\n",
       "      <td>Business</td>\n",
       "      <td>West Palm Beach</td>\n",
       "      <td>Palm Beach</td>\n",
       "      <td>7.1</td>\n",
       "      <td>Meeting</td>\n",
       "    </tr>\n",
       "    <tr>\n",
       "      <th>7</th>\n",
       "      <td>1/7/2016 13:27</td>\n",
       "      <td>1/7/2016 13:33</td>\n",
       "      <td>Business</td>\n",
       "      <td>Cary</td>\n",
       "      <td>Cary</td>\n",
       "      <td>0.8</td>\n",
       "      <td>Meeting</td>\n",
       "    </tr>\n",
       "    <tr>\n",
       "      <th>8</th>\n",
       "      <td>1/10/2016 8:05</td>\n",
       "      <td>1/10/2016 8:25</td>\n",
       "      <td>Business</td>\n",
       "      <td>Cary</td>\n",
       "      <td>Morrisville</td>\n",
       "      <td>8.3</td>\n",
       "      <td>Meeting</td>\n",
       "    </tr>\n",
       "    <tr>\n",
       "      <th>10</th>\n",
       "      <td>1/10/2016 15:08</td>\n",
       "      <td>1/10/2016 15:51</td>\n",
       "      <td>Business</td>\n",
       "      <td>New York</td>\n",
       "      <td>Queens</td>\n",
       "      <td>10.8</td>\n",
       "      <td>Meeting</td>\n",
       "    </tr>\n",
       "    <tr>\n",
       "      <th>...</th>\n",
       "      <td>...</td>\n",
       "      <td>...</td>\n",
       "      <td>...</td>\n",
       "      <td>...</td>\n",
       "      <td>...</td>\n",
       "      <td>...</td>\n",
       "      <td>...</td>\n",
       "    </tr>\n",
       "    <tr>\n",
       "      <th>1142</th>\n",
       "      <td>12/29/2016 20:15</td>\n",
       "      <td>12/29/2016 20:45</td>\n",
       "      <td>Business</td>\n",
       "      <td>Kar?chi</td>\n",
       "      <td>Kar?chi</td>\n",
       "      <td>7.2</td>\n",
       "      <td>Meeting</td>\n",
       "    </tr>\n",
       "    <tr>\n",
       "      <th>1144</th>\n",
       "      <td>12/29/2016 23:14</td>\n",
       "      <td>12/29/2016 23:47</td>\n",
       "      <td>Business</td>\n",
       "      <td>Unknown Location</td>\n",
       "      <td>Kar?chi</td>\n",
       "      <td>12.9</td>\n",
       "      <td>Meeting</td>\n",
       "    </tr>\n",
       "    <tr>\n",
       "      <th>1148</th>\n",
       "      <td>12/30/2016 16:45</td>\n",
       "      <td>12/30/2016 17:08</td>\n",
       "      <td>Business</td>\n",
       "      <td>Kar?chi</td>\n",
       "      <td>Kar?chi</td>\n",
       "      <td>4.6</td>\n",
       "      <td>Meeting</td>\n",
       "    </tr>\n",
       "    <tr>\n",
       "      <th>1150</th>\n",
       "      <td>12/31/2016 1:07</td>\n",
       "      <td>12/31/2016 1:14</td>\n",
       "      <td>Business</td>\n",
       "      <td>Kar?chi</td>\n",
       "      <td>Kar?chi</td>\n",
       "      <td>0.7</td>\n",
       "      <td>Meeting</td>\n",
       "    </tr>\n",
       "    <tr>\n",
       "      <th>1152</th>\n",
       "      <td>12/31/2016 15:03</td>\n",
       "      <td>12/31/2016 15:38</td>\n",
       "      <td>Business</td>\n",
       "      <td>Unknown Location</td>\n",
       "      <td>Unknown Location</td>\n",
       "      <td>16.2</td>\n",
       "      <td>Meeting</td>\n",
       "    </tr>\n",
       "  </tbody>\n",
       "</table>\n",
       "<p>187 rows × 7 columns</p>\n",
       "</div>"
      ],
      "text/plain": [
       "           START_DATE*         END_DATE* CATEGORY*            START*  \\\n",
       "3       1/5/2016 17:31    1/5/2016 17:45  Business       Fort Pierce   \n",
       "6       1/6/2016 17:30    1/6/2016 17:35  Business   West Palm Beach   \n",
       "7       1/7/2016 13:27    1/7/2016 13:33  Business              Cary   \n",
       "8       1/10/2016 8:05    1/10/2016 8:25  Business              Cary   \n",
       "10     1/10/2016 15:08   1/10/2016 15:51  Business          New York   \n",
       "...                ...               ...       ...               ...   \n",
       "1142  12/29/2016 20:15  12/29/2016 20:45  Business           Kar?chi   \n",
       "1144  12/29/2016 23:14  12/29/2016 23:47  Business  Unknown Location   \n",
       "1148  12/30/2016 16:45  12/30/2016 17:08  Business           Kar?chi   \n",
       "1150   12/31/2016 1:07   12/31/2016 1:14  Business           Kar?chi   \n",
       "1152  12/31/2016 15:03  12/31/2016 15:38  Business  Unknown Location   \n",
       "\n",
       "                 STOP*  MILES* PURPOSE*  \n",
       "3          Fort Pierce     4.7  Meeting  \n",
       "6           Palm Beach     7.1  Meeting  \n",
       "7                 Cary     0.8  Meeting  \n",
       "8          Morrisville     8.3  Meeting  \n",
       "10              Queens    10.8  Meeting  \n",
       "...                ...     ...      ...  \n",
       "1142           Kar?chi     7.2  Meeting  \n",
       "1144           Kar?chi    12.9  Meeting  \n",
       "1148           Kar?chi     4.6  Meeting  \n",
       "1150           Kar?chi     0.7  Meeting  \n",
       "1152  Unknown Location    16.2  Meeting  \n",
       "\n",
       "[187 rows x 7 columns]"
      ]
     },
     "execution_count": 65,
     "metadata": {},
     "output_type": "execute_result"
    }
   ],
   "source": [
    "import pandas as pd\n",
    "df = pd.read_csv('Uber.csv')\n",
    "long_rides = df[df['PURPOSE*'] == 'Meeting']\n",
    "long_rides"
   ]
  },
  {
   "cell_type": "markdown",
   "id": "82ee3d4d-523b-4a28-a9c1-28149eb65a29",
   "metadata": {},
   "source": [
    "**What is the total number of business trips versus personal trips?**"
   ]
  },
  {
   "cell_type": "code",
   "execution_count": 61,
   "id": "9cb8d272-ecb0-4b42-84b8-32577bbf635c",
   "metadata": {},
   "outputs": [
    {
     "name": "stdout",
     "output_type": "stream",
     "text": [
      "CATEGORY*\n",
      "Business    1078\n",
      "Personal      77\n",
      "Name: count, dtype: int64\n"
     ]
    }
   ],
   "source": [
    "import pandas as pd\n",
    "df = pd.read_csv('Uber.csv')\n",
    "df.dropna(subset=['CATEGORY*'], inplace=True)\n",
    "trip_counts = df['CATEGORY*'].value_counts()\n",
    "trip_counts\n",
    "df_filtered = df[df['CATEGORY*'].isin(['Business', 'Personal'])]\n",
    "trip_counts_filtered = df_filtered['CATEGORY*'].value_counts()\n",
    "print(trip_counts_filtered)"
   ]
  },
  {
   "cell_type": "markdown",
   "id": "4b246fa1-cd11-46f7-bf7d-bd287536cf7c",
   "metadata": {},
   "source": [
    "**What percentage of trips are business versus personal?**"
   ]
  },
  {
   "cell_type": "code",
   "execution_count": 59,
   "id": "4a2e19b9-5584-4c45-9d9e-642cf1aefabb",
   "metadata": {},
   "outputs": [
    {
     "name": "stdout",
     "output_type": "stream",
     "text": [
      "CATEGORY*\n",
      "Business    1078\n",
      "Personal      77\n",
      "Name: count, dtype: int64\n",
      "Percentage : 9.33%\n"
     ]
    }
   ],
   "source": [
    "import pandas as pd\n",
    "df = pd.read_csv('Uber.csv')\n",
    "df.dropna(subset=['CATEGORY*'], inplace=True)\n",
    "df_filtered = df[df['CATEGORY*'].isin(['Business', 'Personal'])]\n",
    "trip_counts_filtered = df_filtered['CATEGORY*'].value_counts()\n",
    "total_trips = trip_counts_filtered.sum()\n",
    "business_percentage = (trip_counts_filtered['Business'] / total_trips) * 10\n",
    "print(trip_counts_filtered)\n",
    "print(\"Percentage : {:.2f}%\".format(business_percentage))"
   ]
  },
  {
   "cell_type": "code",
   "execution_count": 63,
   "id": "3ba9ff0a-473c-4b84-ae42-fb74b3363d93",
   "metadata": {},
   "outputs": [
    {
     "name": "stdout",
     "output_type": "stream",
     "text": [
      "CATEGORY*\n",
      "Business    1078\n",
      "Personal      77\n",
      "Name: count, dtype: int64\n",
      "Percentage : 6.67%\n"
     ]
    }
   ],
   "source": [
    "import pandas as pd\n",
    "df = pd.read_csv('Uber.csv')\n",
    "df.dropna(subset=['CATEGORY*'], inplace=True)\n",
    "df_filtered = df[df['CATEGORY*'].isin(['Business', 'Personal'])]\n",
    "trip_counts_filtered = df_filtered['CATEGORY*'].value_counts()\n",
    "total_trips = trip_counts_filtered.sum()\n",
    "personal_percentage = (trip_counts_filtered['Personal'] / total_trips) * 100\n",
    "print(trip_counts_filtered)\n",
    "print(\"Percentage : {:.2f}%\".format(personal_percentage))"
   ]
  },
  {
   "cell_type": "code",
   "execution_count": null,
   "id": "ee61b0d2-613e-4f36-8b9e-bf9f2a59240a",
   "metadata": {},
   "outputs": [],
   "source": []
  }
 ],
 "metadata": {
  "kernelspec": {
   "display_name": "Python [conda env:base] *",
   "language": "python",
   "name": "conda-base-py"
  },
  "language_info": {
   "codemirror_mode": {
    "name": "ipython",
    "version": 3
   },
   "file_extension": ".py",
   "mimetype": "text/x-python",
   "name": "python",
   "nbconvert_exporter": "python",
   "pygments_lexer": "ipython3",
   "version": "3.12.7"
  }
 },
 "nbformat": 4,
 "nbformat_minor": 5
}
