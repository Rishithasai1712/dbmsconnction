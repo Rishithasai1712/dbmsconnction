{
  "metadata": {
    "kernelspec": {
      "name": "python",
      "display_name": "Python (Pyodide)",
      "language": "python"
    },
    "language_info": {
      "codemirror_mode": {
        "name": "python",
        "version": 3
      },
      "file_extension": ".py",
      "mimetype": "text/x-python",
      "name": "python",
      "nbconvert_exporter": "python",
      "pygments_lexer": "ipython3",
      "version": "3.8"
    },
    "colab": {
      "collapsed_sections": [],
      "include_colab_link": true,
      "name": "Pandas Lab Exercise (kaggle automobile dataset).ipynb",
      "provenance": []
    }
  },
  "nbformat_minor": 4,
  "nbformat": 4,
  "cells": [
    {
      "cell_type": "markdown",
      "source": "## Pandas Lab Exercise (Kaggle Automobile Dataset)\n\nWe shall now test your skills in using Pandas package. We will be using the [automobiles Dataset](https://www.kaggle.com/nisargpatel/automobiles/data) from Kaggle. \n\nAnswer each question asked below wrt the automobiles dataset. Load pandas as pd and upload the Automobile.csv file as auto",
      "metadata": {
        "id": "UbGp33eY741p"
      }
    },
    {
      "cell_type": "code",
      "source": "import pandas as pd",
      "metadata": {
        "id": "PBlq1VGW741u"
      },
      "outputs": [],
      "execution_count": null
    },
    {
      "cell_type": "markdown",
      "source": "Load the Automobile dataset into variable \"auto\"",
      "metadata": {
        "id": "DaOkloFo741z"
      }
    },
    {
      "cell_type": "code",
      "source": "import pandas as pd\nauto = pd.read_csv(\"Automobile.csv\")\nprint(auto.head())\n",
      "metadata": {
        "id": "SbgXY9P67410",
        "trusted": true
      },
      "outputs": [],
      "execution_count": null
    },
    {
      "cell_type": "markdown",
      "source": "**Check the head of the DataFrame.**",
      "metadata": {
        "id": "Ojz2p4tA7412"
      }
    },
    {
      "cell_type": "code",
      "source": "import pandas as pd\nauto = pd.read_csv(\"Automobile.csv\")\nprint(auto.head())",
      "metadata": {
        "colab": {
          "base_uri": "https://localhost:8080/",
          "height": 294
        },
        "id": "SkS94Img7413",
        "outputId": "94929b1c-b6c3-4e3b-e96f-96f32f7dfc3c"
      },
      "outputs": [],
      "execution_count": null
    },
    {
      "cell_type": "markdown",
      "source": "**How many rows and columns are there?**",
      "metadata": {
        "id": "L1Hzw3tB7416"
      }
    },
    {
      "cell_type": "code",
      "source": "import pandas as pd\nauto = pd.read_csv(\"Automobile.csv\")\nrows= auto.shape[0]\nprint(rows)\n",
      "metadata": {
        "colab": {
          "base_uri": "https://localhost:8080/"
        },
        "id": "wVRt3ZKM7416",
        "outputId": "b48da0eb-5a24-45bc-d673-a59a429b0d60",
        "trusted": true
      },
      "outputs": [
        {
          "name": "stdout",
          "output_type": "stream",
          "text": "201\n"
        }
      ],
      "execution_count": 10
    },
    {
      "cell_type": "code",
      "source": "import pandas as pd\nauto = pd.read_csv(\"Automobile.csv\")\ncolumns = auto.shape[1]\nprint( columns)\n",
      "metadata": {
        "colab": {
          "base_uri": "https://localhost:8080/"
        },
        "id": "yq-n7WTn83lo",
        "outputId": "9bd07a59-1979-4879-9137-efb21b969d93",
        "trusted": true
      },
      "outputs": [
        {
          "name": "stdout",
          "output_type": "stream",
          "text": "26\n"
        }
      ],
      "execution_count": 11
    },
    {
      "cell_type": "markdown",
      "source": "**What is the average Price of all cars in the dataset?**",
      "metadata": {
        "id": "ddFGs8707419"
      }
    },
    {
      "cell_type": "code",
      "source": "import pandas as pd\nauto = pd.read_csv(\"Automobile.csv\")\navg=auto['price'].mean()\nprint(avg)",
      "metadata": {
        "colab": {
          "base_uri": "https://localhost:8080/"
        },
        "id": "hl4I6xd-7419",
        "outputId": "49ef1721-b305-4029-d5cb-0952c0ff548a",
        "trusted": true
      },
      "outputs": [
        {
          "name": "stdout",
          "output_type": "stream",
          "text": "13207.129353233831\n"
        }
      ],
      "execution_count": 16
    },
    {
      "cell_type": "markdown",
      "source": "Which is the cheapest make and costliest make of car in the lot?",
      "metadata": {
        "id": "zdJWY8G2742A"
      }
    },
    {
      "cell_type": "code",
      "source": "import pandas as pd\nauto = pd.read_csv(\"Automobile.csv\")\ncar = auto.loc[auto['price'].idxmin()]\ncar['make']\n",
      "metadata": {
        "colab": {
          "base_uri": "https://localhost:8080/"
        },
        "id": "rC_xmcM7742A",
        "outputId": "2cb6c3d9-8ea0-4031-b528-c0dbf77411ef",
        "trusted": true
      },
      "outputs": [
        {
          "execution_count": 19,
          "output_type": "execute_result",
          "data": {
            "text/plain": "'subaru'"
          },
          "metadata": {}
        }
      ],
      "execution_count": 19
    },
    {
      "cell_type": "code",
      "source": "import pandas as pd\nauto = pd.read_csv(\"Automobile.csv\")\ncar = auto.loc[auto['price'].idxmax()]\ncar['make']\n",
      "metadata": {
        "colab": {
          "base_uri": "https://localhost:8080/"
        },
        "id": "bxoYL21Y742D",
        "outputId": "b0928a0e-976f-44d8-b294-205ae633a1d9",
        "trusted": true
      },
      "outputs": [
        {
          "execution_count": 18,
          "output_type": "execute_result",
          "data": {
            "text/plain": "'mercedes-benz'"
          },
          "metadata": {}
        }
      ],
      "execution_count": 18
    },
    {
      "cell_type": "markdown",
      "source": "How many cars have horsepower greater than 100?",
      "metadata": {
        "id": "xMvmHC-N742F"
      }
    },
    {
      "cell_type": "code",
      "source": "import pandas as pd\nauto = pd.read_csv(\"Automobile.csv\")\ncar = (auto['horsepower']>100).sum()\nprint(car)",
      "metadata": {
        "colab": {
          "base_uri": "https://localhost:8080/"
        },
        "id": "TiVs0ipq742G",
        "outputId": "02f7760f-7464-4def-a586-924e179d811c",
        "trusted": true
      },
      "outputs": [
        {
          "name": "stdout",
          "output_type": "stream",
          "text": "90\n"
        }
      ],
      "execution_count": 27
    },
    {
      "cell_type": "markdown",
      "source": "**How many hatchback cars are in the dataset ?**",
      "metadata": {
        "id": "BxCVZJNC742I"
      }
    },
    {
      "cell_type": "code",
      "source": "import pandas as pd\nauto = pd.read_csv(\"Automobile.csv\")\ncar = (auto['body_style']=='hatchback' ).sum()\nprint(car)",
      "metadata": {
        "colab": {
          "base_uri": "https://localhost:8080/"
        },
        "id": "9LrFtDpF742J",
        "outputId": "df705384-2eb6-4b38-d511-3312cfe8c4e2",
        "trusted": true
      },
      "outputs": [
        {
          "name": "stdout",
          "output_type": "stream",
          "text": "68\n"
        }
      ],
      "execution_count": 30
    },
    {
      "cell_type": "code",
      "source": "",
      "metadata": {
        "colab": {
          "base_uri": "https://localhost:8080/"
        },
        "id": "nbr6QnTL-KmC",
        "outputId": "485d46bb-0101-4842-b28f-7f6ac0a7bab1"
      },
      "outputs": [],
      "execution_count": null
    },
    {
      "cell_type": "markdown",
      "source": "**What are the 3 most commonly found cars in the dataset?**",
      "metadata": {
        "id": "BRLWunmC742L"
      }
    },
    {
      "cell_type": "code",
      "source": "import pandas as pd\nauto = pd.read_csv(\"Automobile.csv\")\nmost = auto['make'].value_counts().head(3)\nprint(most)\n",
      "metadata": {
        "colab": {
          "base_uri": "https://localhost:8080/"
        },
        "id": "kS4gRLhB742M",
        "outputId": "0d7bb2f6-0ef5-4793-e309-b6953bd6dd67",
        "trusted": true
      },
      "outputs": [
        {
          "name": "stdout",
          "output_type": "stream",
          "text": "make\ntoyota    32\nnissan    18\nmazda     17\nName: count, dtype: int64\n"
        }
      ],
      "execution_count": 32
    },
    {
      "cell_type": "code",
      "source": "",
      "metadata": {
        "colab": {
          "base_uri": "https://localhost:8080/"
        },
        "id": "Js2slKSz-Z3T",
        "outputId": "2d9d8d27-d20e-4a74-d774-b2aa8a433321"
      },
      "outputs": [],
      "execution_count": null
    },
    {
      "cell_type": "markdown",
      "source": "**Someone purchased a car for 7099, what is the make of the car?**",
      "metadata": {
        "id": "soDyFoWf742O"
      }
    },
    {
      "cell_type": "code",
      "source": "import pandas as pd\nauto = pd.read_csv(\"Automobile.csv\")\ncar = auto[auto['price']==7099]\ncar['make']",
      "metadata": {
        "colab": {
          "base_uri": "https://localhost:8080/"
        },
        "id": "X6lrqVpq742O",
        "outputId": "64ce0c5c-4232-4bcf-c93d-38d30aff443d",
        "trusted": true
      },
      "outputs": [
        {
          "execution_count": 39,
          "output_type": "execute_result",
          "data": {
            "text/plain": "87    nissan\nName: make, dtype: object"
          },
          "metadata": {}
        }
      ],
      "execution_count": 39
    },
    {
      "cell_type": "markdown",
      "source": "Which cars are priced greater than 40000?",
      "metadata": {
        "id": "Dm97KFVj742T"
      }
    },
    {
      "cell_type": "code",
      "source": "import pandas as pd\nauto = pd.read_csv(\"Automobile.csv\")\ncar = auto[auto['price']>40000]\ncar",
      "metadata": {
        "colab": {
          "base_uri": "https://localhost:8080/"
        },
        "id": "KDsWpiuy742T",
        "outputId": "0f179fea-9e70-4371-a148-cf420b9d8f2b",
        "trusted": true
      },
      "outputs": [
        {
          "execution_count": 40,
          "output_type": "execute_result",
          "data": {
            "text/plain": "    symboling  normalized_losses           make fuel_type aspiration  \\\n15          0                149            bmw       gas        std   \n70          0                140  mercedes-benz       gas        std   \n71          1                140  mercedes-benz       gas        std   \n\n   number_of_doors body_style drive_wheels engine_location  wheel_base  ...  \\\n15             two      sedan          rwd           front       103.5  ...   \n70            four      sedan          rwd           front       120.9  ...   \n71             two    hardtop          rwd           front       112.0  ...   \n\n    engine_size  fuel_system  bore  stroke compression_ratio horsepower  \\\n15          209         mpfi  3.62    3.39               8.0        182   \n70          308         mpfi  3.80    3.35               8.0        184   \n71          304         mpfi  3.80    3.35               8.0        184   \n\n    peak_rpm city_mpg  highway_mpg  price  \n15      5400       16           22  41315  \n70      4500       14           16  40960  \n71      4500       14           16  45400  \n\n[3 rows x 26 columns]",
            "text/html": "<div>\n<style scoped>\n    .dataframe tbody tr th:only-of-type {\n        vertical-align: middle;\n    }\n\n    .dataframe tbody tr th {\n        vertical-align: top;\n    }\n\n    .dataframe thead th {\n        text-align: right;\n    }\n</style>\n<table border=\"1\" class=\"dataframe\">\n  <thead>\n    <tr style=\"text-align: right;\">\n      <th></th>\n      <th>symboling</th>\n      <th>normalized_losses</th>\n      <th>make</th>\n      <th>fuel_type</th>\n      <th>aspiration</th>\n      <th>number_of_doors</th>\n      <th>body_style</th>\n      <th>drive_wheels</th>\n      <th>engine_location</th>\n      <th>wheel_base</th>\n      <th>...</th>\n      <th>engine_size</th>\n      <th>fuel_system</th>\n      <th>bore</th>\n      <th>stroke</th>\n      <th>compression_ratio</th>\n      <th>horsepower</th>\n      <th>peak_rpm</th>\n      <th>city_mpg</th>\n      <th>highway_mpg</th>\n      <th>price</th>\n    </tr>\n  </thead>\n  <tbody>\n    <tr>\n      <th>15</th>\n      <td>0</td>\n      <td>149</td>\n      <td>bmw</td>\n      <td>gas</td>\n      <td>std</td>\n      <td>two</td>\n      <td>sedan</td>\n      <td>rwd</td>\n      <td>front</td>\n      <td>103.5</td>\n      <td>...</td>\n      <td>209</td>\n      <td>mpfi</td>\n      <td>3.62</td>\n      <td>3.39</td>\n      <td>8.0</td>\n      <td>182</td>\n      <td>5400</td>\n      <td>16</td>\n      <td>22</td>\n      <td>41315</td>\n    </tr>\n    <tr>\n      <th>70</th>\n      <td>0</td>\n      <td>140</td>\n      <td>mercedes-benz</td>\n      <td>gas</td>\n      <td>std</td>\n      <td>four</td>\n      <td>sedan</td>\n      <td>rwd</td>\n      <td>front</td>\n      <td>120.9</td>\n      <td>...</td>\n      <td>308</td>\n      <td>mpfi</td>\n      <td>3.80</td>\n      <td>3.35</td>\n      <td>8.0</td>\n      <td>184</td>\n      <td>4500</td>\n      <td>14</td>\n      <td>16</td>\n      <td>40960</td>\n    </tr>\n    <tr>\n      <th>71</th>\n      <td>1</td>\n      <td>140</td>\n      <td>mercedes-benz</td>\n      <td>gas</td>\n      <td>std</td>\n      <td>two</td>\n      <td>hardtop</td>\n      <td>rwd</td>\n      <td>front</td>\n      <td>112.0</td>\n      <td>...</td>\n      <td>304</td>\n      <td>mpfi</td>\n      <td>3.80</td>\n      <td>3.35</td>\n      <td>8.0</td>\n      <td>184</td>\n      <td>4500</td>\n      <td>14</td>\n      <td>16</td>\n      <td>45400</td>\n    </tr>\n  </tbody>\n</table>\n<p>3 rows × 26 columns</p>\n</div>"
          },
          "metadata": {}
        }
      ],
      "execution_count": 40
    },
    {
      "cell_type": "markdown",
      "source": "Which are the cars that are both a sedan and priced less than 7000?",
      "metadata": {
        "id": "NNEkkEPY742X"
      }
    },
    {
      "cell_type": "code",
      "source": "import pandas as pd\nauto = pd.read_csv(\"Automobile.csv\")\ncar = auto[(auto['price']>40000) & (auto['body_style']=='sedan')]\ncar",
      "metadata": {
        "colab": {
          "base_uri": "https://localhost:8080/"
        },
        "id": "XQ66ellN742X",
        "outputId": "c2e04298-24cf-40e5-b7ca-e95f9e8b35f3",
        "trusted": true
      },
      "outputs": [
        {
          "execution_count": 45,
          "output_type": "execute_result",
          "data": {
            "text/plain": "    symboling  normalized_losses           make fuel_type aspiration  \\\n15          0                149            bmw       gas        std   \n70          0                140  mercedes-benz       gas        std   \n\n   number_of_doors body_style drive_wheels engine_location  wheel_base  ...  \\\n15             two      sedan          rwd           front       103.5  ...   \n70            four      sedan          rwd           front       120.9  ...   \n\n    engine_size  fuel_system  bore  stroke compression_ratio horsepower  \\\n15          209         mpfi  3.62    3.39               8.0        182   \n70          308         mpfi  3.80    3.35               8.0        184   \n\n    peak_rpm city_mpg  highway_mpg  price  \n15      5400       16           22  41315  \n70      4500       14           16  40960  \n\n[2 rows x 26 columns]",
            "text/html": "<div>\n<style scoped>\n    .dataframe tbody tr th:only-of-type {\n        vertical-align: middle;\n    }\n\n    .dataframe tbody tr th {\n        vertical-align: top;\n    }\n\n    .dataframe thead th {\n        text-align: right;\n    }\n</style>\n<table border=\"1\" class=\"dataframe\">\n  <thead>\n    <tr style=\"text-align: right;\">\n      <th></th>\n      <th>symboling</th>\n      <th>normalized_losses</th>\n      <th>make</th>\n      <th>fuel_type</th>\n      <th>aspiration</th>\n      <th>number_of_doors</th>\n      <th>body_style</th>\n      <th>drive_wheels</th>\n      <th>engine_location</th>\n      <th>wheel_base</th>\n      <th>...</th>\n      <th>engine_size</th>\n      <th>fuel_system</th>\n      <th>bore</th>\n      <th>stroke</th>\n      <th>compression_ratio</th>\n      <th>horsepower</th>\n      <th>peak_rpm</th>\n      <th>city_mpg</th>\n      <th>highway_mpg</th>\n      <th>price</th>\n    </tr>\n  </thead>\n  <tbody>\n    <tr>\n      <th>15</th>\n      <td>0</td>\n      <td>149</td>\n      <td>bmw</td>\n      <td>gas</td>\n      <td>std</td>\n      <td>two</td>\n      <td>sedan</td>\n      <td>rwd</td>\n      <td>front</td>\n      <td>103.5</td>\n      <td>...</td>\n      <td>209</td>\n      <td>mpfi</td>\n      <td>3.62</td>\n      <td>3.39</td>\n      <td>8.0</td>\n      <td>182</td>\n      <td>5400</td>\n      <td>16</td>\n      <td>22</td>\n      <td>41315</td>\n    </tr>\n    <tr>\n      <th>70</th>\n      <td>0</td>\n      <td>140</td>\n      <td>mercedes-benz</td>\n      <td>gas</td>\n      <td>std</td>\n      <td>four</td>\n      <td>sedan</td>\n      <td>rwd</td>\n      <td>front</td>\n      <td>120.9</td>\n      <td>...</td>\n      <td>308</td>\n      <td>mpfi</td>\n      <td>3.80</td>\n      <td>3.35</td>\n      <td>8.0</td>\n      <td>184</td>\n      <td>4500</td>\n      <td>14</td>\n      <td>16</td>\n      <td>40960</td>\n    </tr>\n  </tbody>\n</table>\n<p>2 rows × 26 columns</p>\n</div>"
          },
          "metadata": {}
        }
      ],
      "execution_count": 45
    },
    {
      "cell_type": "markdown",
      "source": " **Count the number of unique values in the `fuel_type` column.**",
      "metadata": {}
    },
    {
      "cell_type": "code",
      "source": "import pandas as pd\nauto = pd.read_csv(\"Automobile.csv\")\nmost = auto['fuel_type'].nunique()\nprint(most)\n",
      "metadata": {
        "trusted": true
      },
      "outputs": [
        {
          "name": "stdout",
          "output_type": "stream",
          "text": "2\n"
        }
      ],
      "execution_count": 53
    },
    {
      "cell_type": "markdown",
      "source": "**List all the cars that have a horsepower between 100 and 200, and display their `make`, `horsepower`, and `price`.**",
      "metadata": {}
    },
    {
      "cell_type": "code",
      "source": "import pandas as pd\nauto = pd.read_csv(\"Automobile.csv\")\ncar = auto[(auto['horsepower']>100) & (auto['horsepower']<200)]\nprint(car[['make','horsepower','price']])",
      "metadata": {
        "trusted": true
      },
      "outputs": [
        {
          "name": "stdout",
          "output_type": "stream",
          "text": "            make  horsepower  price\n0    alfa-romero         111  13495\n1    alfa-romero         111  16500\n2    alfa-romero         154  16500\n3           audi         102  13950\n4           audi         115  17450\n..           ...         ...    ...\n196        volvo         114  16845\n197        volvo         160  19045\n198        volvo         134  21485\n199        volvo         106  22470\n200        volvo         114  22625\n\n[85 rows x 3 columns]\n"
        }
      ],
      "execution_count": 59
    },
    {
      "cell_type": "markdown",
      "source": "**Find the average `city_mpg` and `highway_mpg` for each `body_style`.**",
      "metadata": {}
    },
    {
      "cell_type": "code",
      "source": "import pandas as pd\nauto = pd.read_csv(\"Automobile.csv\")\navg=auto.groupby('body_style')[['city_mpg','highway_mpg']].mean()\nprint(avg)",
      "metadata": {
        "trusted": true
      },
      "outputs": [
        {
          "name": "stdout",
          "output_type": "stream",
          "text": "              city_mpg  highway_mpg\nbody_style                         \nconvertible  20.500000    26.000000\nhardtop      21.625000    27.250000\nhatchback    26.602941    32.382353\nsedan        25.053191    30.574468\nwagon        24.040000    28.720000\n"
        }
      ],
      "execution_count": 66
    },
    {
      "cell_type": "markdown",
      "source": "**What is the median `price` for each `make`?**",
      "metadata": {}
    },
    {
      "cell_type": "code",
      "source": "import pandas as pd\nauto = pd.read_csv(\"Automobile.csv\")\navg=auto.groupby('make')['price'].median()\nprint(avg)",
      "metadata": {
        "trusted": true
      },
      "outputs": [
        {
          "name": "stdout",
          "output_type": "stream",
          "text": "make\nalfa-romero      16500.0\naudi             17580.0\nbmw              22835.0\nchevrolet         6295.0\ndodge             7609.0\nhonda             7295.0\nisuzu             8916.5\njaguar           35550.0\nmazda            10595.0\nmercedes-benz    32892.0\nmercury          16503.0\nmitsubishi        8499.0\nnissan            8124.0\npeugot           16630.0\nplymouth          7609.0\nporsche          33278.0\nrenault           9595.0\nsaab             15275.0\nsubaru            7894.0\ntoyota            9103.0\nvolkswagen        9737.5\nvolvo            18420.0\nName: price, dtype: float64\n"
        }
      ],
      "execution_count": 68
    },
    {
      "cell_type": "markdown",
      "source": "**List all cars that have a `wheel_base` greater than 100 and a `curb_weight` less than 2500.**",
      "metadata": {}
    },
    {
      "cell_type": "code",
      "source": "import pandas as pd\nauto = pd.read_csv(\"Automobile.csv\")\ncar = auto[(auto['wheel_base']>100) & (auto['curb_weight']<2500)]\nprint(car)",
      "metadata": {
        "trusted": true
      },
      "outputs": [
        {
          "name": "stdout",
          "output_type": "stream",
          "text": "     symboling  normalized_losses    make fuel_type aspiration  \\\n9            2                192     bmw       gas        std   \n10           0                192     bmw       gas        std   \n169         -1                 65  toyota       gas        std   \n170         -1                 65  toyota    diesel      turbo   \n171         -1                 65  toyota       gas        std   \n172         -1                 65  toyota       gas        std   \n173         -1                 65  toyota       gas        std   \n\n    number_of_doors body_style drive_wheels engine_location  wheel_base  ...  \\\n9               two      sedan          rwd           front       101.2  ...   \n10             four      sedan          rwd           front       101.2  ...   \n169            four      sedan          fwd           front       102.4  ...   \n170            four      sedan          fwd           front       102.4  ...   \n171            four  hatchback          fwd           front       102.4  ...   \n172            four      sedan          fwd           front       102.4  ...   \n173            four  hatchback          fwd           front       102.4  ...   \n\n     engine_size  fuel_system  bore  stroke compression_ratio horsepower  \\\n9            108         mpfi  3.50    2.80               8.8        101   \n10           108         mpfi  3.50    2.80               8.8        101   \n169          122         mpfi  3.31    3.54               8.7         92   \n170          110          idi  3.27    3.35              22.5         73   \n171          122         mpfi  3.31    3.54               8.7         92   \n172          122         mpfi  3.31    3.54               8.7         92   \n173          122         mpfi  3.31    3.54               8.7         92   \n\n     peak_rpm city_mpg  highway_mpg  price  \n9        5800       23           29  16430  \n10       5800       23           29  16925  \n169      4200       29           34   8948  \n170      4500       30           33  10698  \n171      4200       27           32   9988  \n172      4200       27           32  10898  \n173      4200       27           32  11248  \n\n[7 rows x 26 columns]\n"
        }
      ],
      "execution_count": 69
    },
    {
      "cell_type": "markdown",
      "source": "**Create a new column `price_per_hp` that calculates the price of the car per horsepower.**",
      "metadata": {}
    },
    {
      "cell_type": "code",
      "source": "import pandas as pd\nauto = pd.read_csv(\"Automobile.csv\")\nauto['price_per_hp'] = auto['price'] / auto['horsepower']\nprint(auto.head())\n",
      "metadata": {
        "trusted": true
      },
      "outputs": [
        {
          "name": "stdout",
          "output_type": "stream",
          "text": "   symboling  normalized_losses         make fuel_type aspiration  \\\n0          3                168  alfa-romero       gas        std   \n1          3                168  alfa-romero       gas        std   \n2          1                168  alfa-romero       gas        std   \n3          2                164         audi       gas        std   \n4          2                164         audi       gas        std   \n\n  number_of_doors   body_style drive_wheels engine_location  wheel_base  ...  \\\n0             two  convertible          rwd           front        88.6  ...   \n1             two  convertible          rwd           front        88.6  ...   \n2             two    hatchback          rwd           front        94.5  ...   \n3            four        sedan          fwd           front        99.8  ...   \n4            four        sedan          4wd           front        99.4  ...   \n\n   fuel_system  bore  stroke  compression_ratio horsepower peak_rpm  city_mpg  \\\n0         mpfi  3.47    2.68                9.0        111     5000        21   \n1         mpfi  3.47    2.68                9.0        111     5000        21   \n2         mpfi  2.68    3.47                9.0        154     5000        19   \n3         mpfi  3.19    3.40               10.0        102     5500        24   \n4         mpfi  3.19    3.40                8.0        115     5500        18   \n\n  highway_mpg  price  price_per_hp  \n0          27  13495    121.576577  \n1          27  16500    148.648649  \n2          26  16500    107.142857  \n3          30  13950    136.764706  \n4          22  17450    151.739130  \n\n[5 rows x 27 columns]\n"
        }
      ],
      "execution_count": 76
    },
    {
      "cell_type": "markdown",
      "source": "**Count how many cars have a `number_of_doors` as `four`.**",
      "metadata": {}
    },
    {
      "cell_type": "code",
      "source": "import pandas as pd\nauto = pd.read_csv(\"Automobile.csv\")\nmost = auto[auto['number_of_doors']=='four'].shape[0]\nprint(most)\n",
      "metadata": {
        "trusted": true
      },
      "outputs": [
        {
          "name": "stdout",
          "output_type": "stream",
          "text": "114\n"
        }
      ],
      "execution_count": 75
    },
    {
      "cell_type": "markdown",
      "source": "**Find the top 5 cars based on their `highway_mpg` and `price`.**",
      "metadata": {}
    },
    {
      "cell_type": "code",
      "source": "import pandas as pd\nauto = pd.read_csv(\"Automobile.csv\")\ntop = auto.sort_values(by=['highway_mpg', 'price'], ascending=[False, False]).head(5)\nprint(top)\n",
      "metadata": {
        "trusted": true
      },
      "outputs": [
        {
          "name": "stdout",
          "output_type": "stream",
          "text": "     symboling  normalized_losses       make fuel_type aspiration  \\\n29           2                137      honda       gas        std   \n17           2                121  chevrolet       gas        std   \n87           1                128     nissan    diesel        std   \n155          0                 91     toyota    diesel        std   \n156          0                 91     toyota       gas        std   \n\n    number_of_doors body_style drive_wheels engine_location  wheel_base  ...  \\\n29              two  hatchback          fwd           front        86.6  ...   \n17              two  hatchback          fwd           front        88.4  ...   \n87              two      sedan          fwd           front        94.5  ...   \n155            four  hatchback          fwd           front        95.7  ...   \n156            four      sedan          fwd           front        95.7  ...   \n\n     engine_size  fuel_system  bore  stroke compression_ratio horsepower  \\\n29            92         1bbl  2.91    3.41               9.6         58   \n17            61         2bbl  2.91    3.03               9.5         48   \n87           103          idi  2.99    3.47              21.9         55   \n155          110          idi  3.27    3.35              22.5         56   \n156           98         2bbl  3.19    3.03               9.0         70   \n\n     peak_rpm city_mpg  highway_mpg  price  \n29       4800       49           54   6479  \n17       5100       47           53   5151  \n87       4800       45           50   7099  \n155      4500       38           47   7788  \n156      4800       38           47   7738  \n\n[5 rows x 26 columns]\n"
        }
      ],
      "execution_count": 74
    },
    {
      "cell_type": "markdown",
      "source": "**How many cars have missing values in the `normalized_losses` column?**",
      "metadata": {}
    },
    {
      "cell_type": "code",
      "source": "import pandas as pd\nauto = pd.read_csv(\"Automobile.csv\")\nmissing_values_count = auto['normalized_losses'].isna().sum()\nprint(missing_values_count)\n",
      "metadata": {
        "trusted": true
      },
      "outputs": [
        {
          "name": "stdout",
          "output_type": "stream",
          "text": "0\n"
        }
      ],
      "execution_count": 78
    },
    {
      "cell_type": "markdown",
      "source": "**Create a new column `car_age` that calculates the age of the car based on the `year_of_manufacture` (assume the current year is 2025).**",
      "metadata": {}
    },
    {
      "cell_type": "code",
      "source": "import pandas as pd\nauto = pd.read_csv(\"Automobile.csv\")\nauto['car_age'] =2025 - auto['year_of_manufacture']\nprint(auto.head())\n",
      "metadata": {
        "trusted": true
      },
      "outputs": [],
      "execution_count": null
    },
    {
      "cell_type": "markdown",
      "source": "### The END",
      "metadata": {
        "id": "lUpH8N1Y742a"
      }
    }
  ]
}