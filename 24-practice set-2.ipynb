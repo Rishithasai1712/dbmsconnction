{
 "cells": [
  {
   "cell_type": "code",
   "execution_count": 157,
   "id": "5090b125-2783-455d-930b-f5ef2cb89154",
   "metadata": {},
   "outputs": [],
   "source": [
    "import pandas as pd\n",
    "import numpy as np\n",
    "df=pd.read_csv('clevelanda.csv')"
   ]
  },
  {
   "cell_type": "code",
   "execution_count": 159,
   "id": "4381429d-f196-4bcd-bd6e-14440d96c628",
   "metadata": {},
   "outputs": [
    {
     "data": {
      "text/html": [
       "<div>\n",
       "<style scoped>\n",
       "    .dataframe tbody tr th:only-of-type {\n",
       "        vertical-align: middle;\n",
       "    }\n",
       "\n",
       "    .dataframe tbody tr th {\n",
       "        vertical-align: top;\n",
       "    }\n",
       "\n",
       "    .dataframe thead th {\n",
       "        text-align: right;\n",
       "    }\n",
       "</style>\n",
       "<table border=\"1\" class=\"dataframe\">\n",
       "  <thead>\n",
       "    <tr style=\"text-align: right;\">\n",
       "      <th></th>\n",
       "      <th>age</th>\n",
       "      <th>gender</th>\n",
       "      <th>cp</th>\n",
       "      <th>trestbps</th>\n",
       "      <th>chol</th>\n",
       "      <th>fps</th>\n",
       "      <th>restecg</th>\n",
       "      <th>thalach</th>\n",
       "      <th>exang</th>\n",
       "      <th>oldpeak</th>\n",
       "      <th>slope</th>\n",
       "      <th>ca</th>\n",
       "      <th>thal</th>\n",
       "      <th>class</th>\n",
       "    </tr>\n",
       "  </thead>\n",
       "  <tbody>\n",
       "    <tr>\n",
       "      <th>0</th>\n",
       "      <td>63</td>\n",
       "      <td>1</td>\n",
       "      <td>1</td>\n",
       "      <td>145</td>\n",
       "      <td>233</td>\n",
       "      <td>1</td>\n",
       "      <td>2</td>\n",
       "      <td>150</td>\n",
       "      <td>0</td>\n",
       "      <td>2.3</td>\n",
       "      <td>3</td>\n",
       "      <td>0</td>\n",
       "      <td>6</td>\n",
       "      <td>0</td>\n",
       "    </tr>\n",
       "    <tr>\n",
       "      <th>1</th>\n",
       "      <td>67</td>\n",
       "      <td>1</td>\n",
       "      <td>4</td>\n",
       "      <td>160</td>\n",
       "      <td>286</td>\n",
       "      <td>0</td>\n",
       "      <td>2</td>\n",
       "      <td>108</td>\n",
       "      <td>1</td>\n",
       "      <td>1.5</td>\n",
       "      <td>2</td>\n",
       "      <td>3</td>\n",
       "      <td>3</td>\n",
       "      <td>2</td>\n",
       "    </tr>\n",
       "    <tr>\n",
       "      <th>2</th>\n",
       "      <td>67</td>\n",
       "      <td>1</td>\n",
       "      <td>4</td>\n",
       "      <td>120</td>\n",
       "      <td>229</td>\n",
       "      <td>0</td>\n",
       "      <td>2</td>\n",
       "      <td>129</td>\n",
       "      <td>1</td>\n",
       "      <td>2.6</td>\n",
       "      <td>2</td>\n",
       "      <td>2</td>\n",
       "      <td>7</td>\n",
       "      <td>1</td>\n",
       "    </tr>\n",
       "    <tr>\n",
       "      <th>3</th>\n",
       "      <td>37</td>\n",
       "      <td>1</td>\n",
       "      <td>3</td>\n",
       "      <td>130</td>\n",
       "      <td>250</td>\n",
       "      <td>0</td>\n",
       "      <td>0</td>\n",
       "      <td>187</td>\n",
       "      <td>0</td>\n",
       "      <td>3.5</td>\n",
       "      <td>3</td>\n",
       "      <td>0</td>\n",
       "      <td>3</td>\n",
       "      <td>0</td>\n",
       "    </tr>\n",
       "    <tr>\n",
       "      <th>4</th>\n",
       "      <td>41</td>\n",
       "      <td>0</td>\n",
       "      <td>2</td>\n",
       "      <td>130</td>\n",
       "      <td>204</td>\n",
       "      <td>0</td>\n",
       "      <td>2</td>\n",
       "      <td>172</td>\n",
       "      <td>0</td>\n",
       "      <td>1.4</td>\n",
       "      <td>1</td>\n",
       "      <td>0</td>\n",
       "      <td>3</td>\n",
       "      <td>0</td>\n",
       "    </tr>\n",
       "  </tbody>\n",
       "</table>\n",
       "</div>"
      ],
      "text/plain": [
       "   age  gender  cp  trestbps  chol  fps  restecg  thalach  exang  oldpeak  \\\n",
       "0   63       1   1       145   233    1        2      150      0      2.3   \n",
       "1   67       1   4       160   286    0        2      108      1      1.5   \n",
       "2   67       1   4       120   229    0        2      129      1      2.6   \n",
       "3   37       1   3       130   250    0        0      187      0      3.5   \n",
       "4   41       0   2       130   204    0        2      172      0      1.4   \n",
       "\n",
       "   slope ca thal  class  \n",
       "0      3  0    6      0  \n",
       "1      2  3    3      2  \n",
       "2      2  2    7      1  \n",
       "3      3  0    3      0  \n",
       "4      1  0    3      0  "
      ]
     },
     "execution_count": 159,
     "metadata": {},
     "output_type": "execute_result"
    }
   ],
   "source": [
    "df.head()"
   ]
  },
  {
   "cell_type": "code",
   "execution_count": 161,
   "id": "241c0599-49ea-4045-924c-344204c989ab",
   "metadata": {},
   "outputs": [
    {
     "name": "stdout",
     "output_type": "stream",
     "text": [
      "<class 'pandas.core.frame.DataFrame'>\n",
      "RangeIndex: 303 entries, 0 to 302\n",
      "Data columns (total 14 columns):\n",
      " #   Column    Non-Null Count  Dtype  \n",
      "---  ------    --------------  -----  \n",
      " 0   age       303 non-null    int64  \n",
      " 1   gender    303 non-null    int64  \n",
      " 2   cp        303 non-null    int64  \n",
      " 3   trestbps  303 non-null    int64  \n",
      " 4   chol      303 non-null    int64  \n",
      " 5   fps       303 non-null    int64  \n",
      " 6   restecg   303 non-null    int64  \n",
      " 7   thalach   303 non-null    int64  \n",
      " 8   exang     303 non-null    int64  \n",
      " 9   oldpeak   303 non-null    float64\n",
      " 10  slope     303 non-null    int64  \n",
      " 11  ca        303 non-null    object \n",
      " 12  thal      303 non-null    object \n",
      " 13  class     303 non-null    int64  \n",
      "dtypes: float64(1), int64(11), object(2)\n",
      "memory usage: 33.3+ KB\n"
     ]
    }
   ],
   "source": [
    "df.info()"
   ]
  },
  {
   "cell_type": "code",
   "execution_count": 163,
   "id": "b00ffd5c-c0d6-4774-8988-c727d4d221bc",
   "metadata": {},
   "outputs": [
    {
     "data": {
      "text/html": [
       "<div>\n",
       "<style scoped>\n",
       "    .dataframe tbody tr th:only-of-type {\n",
       "        vertical-align: middle;\n",
       "    }\n",
       "\n",
       "    .dataframe tbody tr th {\n",
       "        vertical-align: top;\n",
       "    }\n",
       "\n",
       "    .dataframe thead th {\n",
       "        text-align: right;\n",
       "    }\n",
       "</style>\n",
       "<table border=\"1\" class=\"dataframe\">\n",
       "  <thead>\n",
       "    <tr style=\"text-align: right;\">\n",
       "      <th></th>\n",
       "      <th>age</th>\n",
       "      <th>gender</th>\n",
       "      <th>cp</th>\n",
       "      <th>trestbps</th>\n",
       "      <th>chol</th>\n",
       "      <th>fps</th>\n",
       "      <th>restecg</th>\n",
       "      <th>thalach</th>\n",
       "      <th>exang</th>\n",
       "      <th>oldpeak</th>\n",
       "      <th>slope</th>\n",
       "      <th>ca</th>\n",
       "      <th>thal</th>\n",
       "      <th>class</th>\n",
       "    </tr>\n",
       "  </thead>\n",
       "  <tbody>\n",
       "    <tr>\n",
       "      <th>0</th>\n",
       "      <td>False</td>\n",
       "      <td>False</td>\n",
       "      <td>False</td>\n",
       "      <td>False</td>\n",
       "      <td>False</td>\n",
       "      <td>False</td>\n",
       "      <td>False</td>\n",
       "      <td>False</td>\n",
       "      <td>False</td>\n",
       "      <td>False</td>\n",
       "      <td>False</td>\n",
       "      <td>False</td>\n",
       "      <td>False</td>\n",
       "      <td>False</td>\n",
       "    </tr>\n",
       "    <tr>\n",
       "      <th>1</th>\n",
       "      <td>False</td>\n",
       "      <td>False</td>\n",
       "      <td>False</td>\n",
       "      <td>False</td>\n",
       "      <td>False</td>\n",
       "      <td>False</td>\n",
       "      <td>False</td>\n",
       "      <td>False</td>\n",
       "      <td>False</td>\n",
       "      <td>False</td>\n",
       "      <td>False</td>\n",
       "      <td>False</td>\n",
       "      <td>False</td>\n",
       "      <td>False</td>\n",
       "    </tr>\n",
       "    <tr>\n",
       "      <th>2</th>\n",
       "      <td>False</td>\n",
       "      <td>False</td>\n",
       "      <td>False</td>\n",
       "      <td>False</td>\n",
       "      <td>False</td>\n",
       "      <td>False</td>\n",
       "      <td>False</td>\n",
       "      <td>False</td>\n",
       "      <td>False</td>\n",
       "      <td>False</td>\n",
       "      <td>False</td>\n",
       "      <td>False</td>\n",
       "      <td>False</td>\n",
       "      <td>False</td>\n",
       "    </tr>\n",
       "    <tr>\n",
       "      <th>3</th>\n",
       "      <td>False</td>\n",
       "      <td>False</td>\n",
       "      <td>False</td>\n",
       "      <td>False</td>\n",
       "      <td>False</td>\n",
       "      <td>False</td>\n",
       "      <td>False</td>\n",
       "      <td>False</td>\n",
       "      <td>False</td>\n",
       "      <td>False</td>\n",
       "      <td>False</td>\n",
       "      <td>False</td>\n",
       "      <td>False</td>\n",
       "      <td>False</td>\n",
       "    </tr>\n",
       "    <tr>\n",
       "      <th>4</th>\n",
       "      <td>False</td>\n",
       "      <td>False</td>\n",
       "      <td>False</td>\n",
       "      <td>False</td>\n",
       "      <td>False</td>\n",
       "      <td>False</td>\n",
       "      <td>False</td>\n",
       "      <td>False</td>\n",
       "      <td>False</td>\n",
       "      <td>False</td>\n",
       "      <td>False</td>\n",
       "      <td>False</td>\n",
       "      <td>False</td>\n",
       "      <td>False</td>\n",
       "    </tr>\n",
       "    <tr>\n",
       "      <th>...</th>\n",
       "      <td>...</td>\n",
       "      <td>...</td>\n",
       "      <td>...</td>\n",
       "      <td>...</td>\n",
       "      <td>...</td>\n",
       "      <td>...</td>\n",
       "      <td>...</td>\n",
       "      <td>...</td>\n",
       "      <td>...</td>\n",
       "      <td>...</td>\n",
       "      <td>...</td>\n",
       "      <td>...</td>\n",
       "      <td>...</td>\n",
       "      <td>...</td>\n",
       "    </tr>\n",
       "    <tr>\n",
       "      <th>298</th>\n",
       "      <td>False</td>\n",
       "      <td>False</td>\n",
       "      <td>False</td>\n",
       "      <td>False</td>\n",
       "      <td>False</td>\n",
       "      <td>False</td>\n",
       "      <td>False</td>\n",
       "      <td>False</td>\n",
       "      <td>False</td>\n",
       "      <td>False</td>\n",
       "      <td>False</td>\n",
       "      <td>False</td>\n",
       "      <td>False</td>\n",
       "      <td>False</td>\n",
       "    </tr>\n",
       "    <tr>\n",
       "      <th>299</th>\n",
       "      <td>False</td>\n",
       "      <td>False</td>\n",
       "      <td>False</td>\n",
       "      <td>False</td>\n",
       "      <td>False</td>\n",
       "      <td>False</td>\n",
       "      <td>False</td>\n",
       "      <td>False</td>\n",
       "      <td>False</td>\n",
       "      <td>False</td>\n",
       "      <td>False</td>\n",
       "      <td>False</td>\n",
       "      <td>False</td>\n",
       "      <td>False</td>\n",
       "    </tr>\n",
       "    <tr>\n",
       "      <th>300</th>\n",
       "      <td>False</td>\n",
       "      <td>False</td>\n",
       "      <td>False</td>\n",
       "      <td>False</td>\n",
       "      <td>False</td>\n",
       "      <td>False</td>\n",
       "      <td>False</td>\n",
       "      <td>False</td>\n",
       "      <td>False</td>\n",
       "      <td>False</td>\n",
       "      <td>False</td>\n",
       "      <td>False</td>\n",
       "      <td>False</td>\n",
       "      <td>False</td>\n",
       "    </tr>\n",
       "    <tr>\n",
       "      <th>301</th>\n",
       "      <td>False</td>\n",
       "      <td>False</td>\n",
       "      <td>False</td>\n",
       "      <td>False</td>\n",
       "      <td>False</td>\n",
       "      <td>False</td>\n",
       "      <td>False</td>\n",
       "      <td>False</td>\n",
       "      <td>False</td>\n",
       "      <td>False</td>\n",
       "      <td>False</td>\n",
       "      <td>False</td>\n",
       "      <td>False</td>\n",
       "      <td>False</td>\n",
       "    </tr>\n",
       "    <tr>\n",
       "      <th>302</th>\n",
       "      <td>False</td>\n",
       "      <td>False</td>\n",
       "      <td>False</td>\n",
       "      <td>False</td>\n",
       "      <td>False</td>\n",
       "      <td>False</td>\n",
       "      <td>False</td>\n",
       "      <td>False</td>\n",
       "      <td>False</td>\n",
       "      <td>False</td>\n",
       "      <td>False</td>\n",
       "      <td>False</td>\n",
       "      <td>False</td>\n",
       "      <td>False</td>\n",
       "    </tr>\n",
       "  </tbody>\n",
       "</table>\n",
       "<p>303 rows × 14 columns</p>\n",
       "</div>"
      ],
      "text/plain": [
       "       age  gender     cp  trestbps   chol    fps  restecg  thalach  exang  \\\n",
       "0    False   False  False     False  False  False    False    False  False   \n",
       "1    False   False  False     False  False  False    False    False  False   \n",
       "2    False   False  False     False  False  False    False    False  False   \n",
       "3    False   False  False     False  False  False    False    False  False   \n",
       "4    False   False  False     False  False  False    False    False  False   \n",
       "..     ...     ...    ...       ...    ...    ...      ...      ...    ...   \n",
       "298  False   False  False     False  False  False    False    False  False   \n",
       "299  False   False  False     False  False  False    False    False  False   \n",
       "300  False   False  False     False  False  False    False    False  False   \n",
       "301  False   False  False     False  False  False    False    False  False   \n",
       "302  False   False  False     False  False  False    False    False  False   \n",
       "\n",
       "     oldpeak  slope     ca   thal  class  \n",
       "0      False  False  False  False  False  \n",
       "1      False  False  False  False  False  \n",
       "2      False  False  False  False  False  \n",
       "3      False  False  False  False  False  \n",
       "4      False  False  False  False  False  \n",
       "..       ...    ...    ...    ...    ...  \n",
       "298    False  False  False  False  False  \n",
       "299    False  False  False  False  False  \n",
       "300    False  False  False  False  False  \n",
       "301    False  False  False  False  False  \n",
       "302    False  False  False  False  False  \n",
       "\n",
       "[303 rows x 14 columns]"
      ]
     },
     "execution_count": 163,
     "metadata": {},
     "output_type": "execute_result"
    }
   ],
   "source": [
    "df.isnull()"
   ]
  },
  {
   "cell_type": "code",
   "execution_count": 165,
   "id": "acc91c52-a47b-4c40-9f36-5f7cbcb2fa2b",
   "metadata": {},
   "outputs": [
    {
     "data": {
      "text/html": [
       "<div>\n",
       "<style scoped>\n",
       "    .dataframe tbody tr th:only-of-type {\n",
       "        vertical-align: middle;\n",
       "    }\n",
       "\n",
       "    .dataframe tbody tr th {\n",
       "        vertical-align: top;\n",
       "    }\n",
       "\n",
       "    .dataframe thead th {\n",
       "        text-align: right;\n",
       "    }\n",
       "</style>\n",
       "<table border=\"1\" class=\"dataframe\">\n",
       "  <thead>\n",
       "    <tr style=\"text-align: right;\">\n",
       "      <th></th>\n",
       "      <th>age</th>\n",
       "      <th>gender</th>\n",
       "      <th>cp</th>\n",
       "      <th>trestbps</th>\n",
       "      <th>chol</th>\n",
       "    </tr>\n",
       "  </thead>\n",
       "  <tbody>\n",
       "    <tr>\n",
       "      <th>0</th>\n",
       "      <td>63</td>\n",
       "      <td>1</td>\n",
       "      <td>1</td>\n",
       "      <td>145</td>\n",
       "      <td>233</td>\n",
       "    </tr>\n",
       "    <tr>\n",
       "      <th>1</th>\n",
       "      <td>67</td>\n",
       "      <td>1</td>\n",
       "      <td>4</td>\n",
       "      <td>160</td>\n",
       "      <td>286</td>\n",
       "    </tr>\n",
       "    <tr>\n",
       "      <th>2</th>\n",
       "      <td>67</td>\n",
       "      <td>1</td>\n",
       "      <td>4</td>\n",
       "      <td>120</td>\n",
       "      <td>229</td>\n",
       "    </tr>\n",
       "    <tr>\n",
       "      <th>3</th>\n",
       "      <td>37</td>\n",
       "      <td>1</td>\n",
       "      <td>3</td>\n",
       "      <td>130</td>\n",
       "      <td>250</td>\n",
       "    </tr>\n",
       "    <tr>\n",
       "      <th>4</th>\n",
       "      <td>41</td>\n",
       "      <td>0</td>\n",
       "      <td>2</td>\n",
       "      <td>130</td>\n",
       "      <td>204</td>\n",
       "    </tr>\n",
       "  </tbody>\n",
       "</table>\n",
       "</div>"
      ],
      "text/plain": [
       "   age  gender  cp  trestbps  chol\n",
       "0   63       1   1       145   233\n",
       "1   67       1   4       160   286\n",
       "2   67       1   4       120   229\n",
       "3   37       1   3       130   250\n",
       "4   41       0   2       130   204"
      ]
     },
     "execution_count": 165,
     "metadata": {},
     "output_type": "execute_result"
    }
   ],
   "source": [
    "df.iloc[0:5,0:5]"
   ]
  },
  {
   "cell_type": "code",
   "execution_count": 167,
   "id": "de90f04a-bb30-4b47-b3db-a25d59009f00",
   "metadata": {},
   "outputs": [
    {
     "data": {
      "text/plain": [
       "array(['0', '3', '2', '1', '?'], dtype=object)"
      ]
     },
     "execution_count": 167,
     "metadata": {},
     "output_type": "execute_result"
    }
   ],
   "source": [
    "df['ca'].unique()"
   ]
  },
  {
   "cell_type": "code",
   "execution_count": 169,
   "id": "6a1aaa1d-594f-4173-96b1-7bf95fb7f55d",
   "metadata": {},
   "outputs": [
    {
     "data": {
      "text/plain": [
       "ca\n",
       "0    176\n",
       "1     65\n",
       "2     38\n",
       "3     20\n",
       "?      4\n",
       "Name: count, dtype: int64"
      ]
     },
     "execution_count": 169,
     "metadata": {},
     "output_type": "execute_result"
    }
   ],
   "source": [
    "df['ca'].value_counts()"
   ]
  },
  {
   "cell_type": "code",
   "execution_count": 171,
   "id": "9a252dd7-74b7-4c08-8d2f-2c6a9255b41a",
   "metadata": {},
   "outputs": [
    {
     "data": {
      "text/plain": [
       "age         0\n",
       "gender      0\n",
       "cp          0\n",
       "trestbps    0\n",
       "chol        0\n",
       "fps         0\n",
       "restecg     0\n",
       "thalach     0\n",
       "exang       0\n",
       "oldpeak     0\n",
       "slope       0\n",
       "ca          0\n",
       "thal        0\n",
       "class       0\n",
       "dtype: int64"
      ]
     },
     "execution_count": 171,
     "metadata": {},
     "output_type": "execute_result"
    }
   ],
   "source": [
    "df.isnull().sum()"
   ]
  },
  {
   "cell_type": "code",
   "execution_count": 173,
   "id": "7aaca84d-8131-4317-93e0-cac527602922",
   "metadata": {},
   "outputs": [
    {
     "name": "stdout",
     "output_type": "stream",
     "text": [
      "Defaulting to user installation because normal site-packages is not writeable\n",
      "Requirement already satisfied: plotly-express in c:\\users\\cvr\\appdata\\roaming\\python\\python312\\site-packages (0.4.1)\n",
      "Requirement already satisfied: pandas>=0.20.0 in c:\\programdata\\anaconda3\\lib\\site-packages (from plotly-express) (2.2.2)\n",
      "Requirement already satisfied: plotly>=4.1.0 in c:\\programdata\\anaconda3\\lib\\site-packages (from plotly-express) (5.24.1)\n",
      "Requirement already satisfied: statsmodels>=0.9.0 in c:\\programdata\\anaconda3\\lib\\site-packages (from plotly-express) (0.14.2)\n",
      "Requirement already satisfied: scipy>=0.18 in c:\\programdata\\anaconda3\\lib\\site-packages (from plotly-express) (1.13.1)\n",
      "Requirement already satisfied: patsy>=0.5 in c:\\programdata\\anaconda3\\lib\\site-packages (from plotly-express) (0.5.6)\n",
      "Requirement already satisfied: numpy>=1.11 in c:\\programdata\\anaconda3\\lib\\site-packages (from plotly-express) (1.26.4)\n",
      "Requirement already satisfied: python-dateutil>=2.8.2 in c:\\programdata\\anaconda3\\lib\\site-packages (from pandas>=0.20.0->plotly-express) (2.9.0.post0)\n",
      "Requirement already satisfied: pytz>=2020.1 in c:\\programdata\\anaconda3\\lib\\site-packages (from pandas>=0.20.0->plotly-express) (2024.1)\n",
      "Requirement already satisfied: tzdata>=2022.7 in c:\\programdata\\anaconda3\\lib\\site-packages (from pandas>=0.20.0->plotly-express) (2023.3)\n",
      "Requirement already satisfied: six in c:\\programdata\\anaconda3\\lib\\site-packages (from patsy>=0.5->plotly-express) (1.16.0)\n",
      "Requirement already satisfied: tenacity>=6.2.0 in c:\\programdata\\anaconda3\\lib\\site-packages (from plotly>=4.1.0->plotly-express) (8.2.3)\n",
      "Requirement already satisfied: packaging in c:\\programdata\\anaconda3\\lib\\site-packages (from plotly>=4.1.0->plotly-express) (24.1)\n",
      "Note: you may need to restart the kernel to use updated packages.\n"
     ]
    }
   ],
   "source": [
    "pip install plotly-express"
   ]
  },
  {
   "cell_type": "code",
   "execution_count": 175,
   "id": "5a84bf05-74eb-48ee-adb5-65feb7329b5d",
   "metadata": {},
   "outputs": [],
   "source": [
    "import plotly.express as px"
   ]
  },
  {
   "cell_type": "code",
   "execution_count": 177,
   "id": "c8b5c5eb-1535-4f8e-8258-8589968733f5",
   "metadata": {},
   "outputs": [
    {
     "data": {
      "application/vnd.plotly.v1+json": {
       "config": {
        "plotlyServerURL": "https://plot.ly"
       },
       "data": [
        {
         "alignmentgroup": "True",
         "bingroup": "x",
         "hovertemplate": "age=%{x}<br>count=%{y}<extra></extra>",
         "legendgroup": "",
         "marker": {
          "color": "#636efa",
          "pattern": {
           "shape": ""
          }
         },
         "name": "",
         "nbinsx": 45,
         "offsetgroup": "",
         "orientation": "v",
         "showlegend": false,
         "type": "histogram",
         "x": [
          63,
          67,
          67,
          37,
          41,
          56,
          62,
          57,
          63,
          53,
          57,
          56,
          56,
          44,
          52,
          57,
          48,
          54,
          48,
          49,
          64,
          58,
          58,
          58,
          60,
          50,
          58,
          66,
          43,
          40,
          69,
          60,
          64,
          59,
          44,
          42,
          43,
          57,
          55,
          61,
          65,
          40,
          71,
          59,
          61,
          58,
          51,
          50,
          65,
          53,
          41,
          65,
          44,
          44,
          60,
          54,
          50,
          41,
          54,
          51,
          51,
          46,
          58,
          54,
          54,
          60,
          60,
          54,
          59,
          46,
          65,
          67,
          62,
          65,
          44,
          65,
          60,
          51,
          48,
          58,
          45,
          53,
          39,
          68,
          52,
          44,
          47,
          53,
          53,
          51,
          66,
          62,
          62,
          44,
          63,
          52,
          59,
          60,
          52,
          48,
          45,
          34,
          57,
          71,
          49,
          54,
          59,
          57,
          61,
          39,
          61,
          56,
          52,
          43,
          62,
          41,
          58,
          35,
          63,
          65,
          48,
          63,
          51,
          55,
          65,
          45,
          56,
          54,
          44,
          62,
          54,
          51,
          29,
          51,
          43,
          55,
          70,
          62,
          35,
          51,
          59,
          59,
          52,
          64,
          58,
          47,
          57,
          41,
          45,
          60,
          52,
          42,
          67,
          55,
          64,
          70,
          51,
          58,
          60,
          68,
          46,
          77,
          54,
          58,
          48,
          57,
          52,
          54,
          35,
          45,
          70,
          53,
          59,
          62,
          64,
          57,
          52,
          56,
          43,
          53,
          48,
          56,
          42,
          59,
          60,
          63,
          42,
          66,
          54,
          69,
          50,
          51,
          43,
          62,
          68,
          67,
          69,
          45,
          50,
          59,
          50,
          64,
          57,
          64,
          43,
          45,
          58,
          50,
          55,
          62,
          37,
          38,
          41,
          66,
          52,
          56,
          46,
          46,
          64,
          59,
          41,
          54,
          39,
          53,
          63,
          34,
          47,
          67,
          54,
          66,
          52,
          55,
          49,
          74,
          54,
          54,
          56,
          46,
          49,
          42,
          41,
          41,
          49,
          61,
          60,
          67,
          58,
          47,
          52,
          62,
          57,
          58,
          64,
          51,
          43,
          42,
          67,
          76,
          70,
          57,
          44,
          58,
          60,
          44,
          61,
          42,
          52,
          59,
          40,
          42,
          61,
          66,
          46,
          71,
          59,
          64,
          66,
          39,
          57,
          58,
          57,
          47,
          55,
          35,
          61,
          58,
          58,
          58,
          56,
          56,
          67,
          55,
          44,
          63,
          63,
          41,
          59,
          57,
          45,
          68,
          57,
          57,
          38
         ],
         "xaxis": "x",
         "yaxis": "y"
        }
       ],
       "layout": {
        "autosize": true,
        "barmode": "relative",
        "legend": {
         "tracegroupgap": 0
        },
        "margin": {
         "t": 60
        },
        "template": {
         "data": {
          "bar": [
           {
            "error_x": {
             "color": "#2a3f5f"
            },
            "error_y": {
             "color": "#2a3f5f"
            },
            "marker": {
             "line": {
              "color": "#E5ECF6",
              "width": 0.5
             },
             "pattern": {
              "fillmode": "overlay",
              "size": 10,
              "solidity": 0.2
             }
            },
            "type": "bar"
           }
          ],
          "barpolar": [
           {
            "marker": {
             "line": {
              "color": "#E5ECF6",
              "width": 0.5
             },
             "pattern": {
              "fillmode": "overlay",
              "size": 10,
              "solidity": 0.2
             }
            },
            "type": "barpolar"
           }
          ],
          "carpet": [
           {
            "aaxis": {
             "endlinecolor": "#2a3f5f",
             "gridcolor": "white",
             "linecolor": "white",
             "minorgridcolor": "white",
             "startlinecolor": "#2a3f5f"
            },
            "baxis": {
             "endlinecolor": "#2a3f5f",
             "gridcolor": "white",
             "linecolor": "white",
             "minorgridcolor": "white",
             "startlinecolor": "#2a3f5f"
            },
            "type": "carpet"
           }
          ],
          "choropleth": [
           {
            "colorbar": {
             "outlinewidth": 0,
             "ticks": ""
            },
            "type": "choropleth"
           }
          ],
          "contour": [
           {
            "colorbar": {
             "outlinewidth": 0,
             "ticks": ""
            },
            "colorscale": [
             [
              0,
              "#0d0887"
             ],
             [
              0.1111111111111111,
              "#46039f"
             ],
             [
              0.2222222222222222,
              "#7201a8"
             ],
             [
              0.3333333333333333,
              "#9c179e"
             ],
             [
              0.4444444444444444,
              "#bd3786"
             ],
             [
              0.5555555555555556,
              "#d8576b"
             ],
             [
              0.6666666666666666,
              "#ed7953"
             ],
             [
              0.7777777777777778,
              "#fb9f3a"
             ],
             [
              0.8888888888888888,
              "#fdca26"
             ],
             [
              1,
              "#f0f921"
             ]
            ],
            "type": "contour"
           }
          ],
          "contourcarpet": [
           {
            "colorbar": {
             "outlinewidth": 0,
             "ticks": ""
            },
            "type": "contourcarpet"
           }
          ],
          "heatmap": [
           {
            "colorbar": {
             "outlinewidth": 0,
             "ticks": ""
            },
            "colorscale": [
             [
              0,
              "#0d0887"
             ],
             [
              0.1111111111111111,
              "#46039f"
             ],
             [
              0.2222222222222222,
              "#7201a8"
             ],
             [
              0.3333333333333333,
              "#9c179e"
             ],
             [
              0.4444444444444444,
              "#bd3786"
             ],
             [
              0.5555555555555556,
              "#d8576b"
             ],
             [
              0.6666666666666666,
              "#ed7953"
             ],
             [
              0.7777777777777778,
              "#fb9f3a"
             ],
             [
              0.8888888888888888,
              "#fdca26"
             ],
             [
              1,
              "#f0f921"
             ]
            ],
            "type": "heatmap"
           }
          ],
          "heatmapgl": [
           {
            "colorbar": {
             "outlinewidth": 0,
             "ticks": ""
            },
            "colorscale": [
             [
              0,
              "#0d0887"
             ],
             [
              0.1111111111111111,
              "#46039f"
             ],
             [
              0.2222222222222222,
              "#7201a8"
             ],
             [
              0.3333333333333333,
              "#9c179e"
             ],
             [
              0.4444444444444444,
              "#bd3786"
             ],
             [
              0.5555555555555556,
              "#d8576b"
             ],
             [
              0.6666666666666666,
              "#ed7953"
             ],
             [
              0.7777777777777778,
              "#fb9f3a"
             ],
             [
              0.8888888888888888,
              "#fdca26"
             ],
             [
              1,
              "#f0f921"
             ]
            ],
            "type": "heatmapgl"
           }
          ],
          "histogram": [
           {
            "marker": {
             "pattern": {
              "fillmode": "overlay",
              "size": 10,
              "solidity": 0.2
             }
            },
            "type": "histogram"
           }
          ],
          "histogram2d": [
           {
            "colorbar": {
             "outlinewidth": 0,
             "ticks": ""
            },
            "colorscale": [
             [
              0,
              "#0d0887"
             ],
             [
              0.1111111111111111,
              "#46039f"
             ],
             [
              0.2222222222222222,
              "#7201a8"
             ],
             [
              0.3333333333333333,
              "#9c179e"
             ],
             [
              0.4444444444444444,
              "#bd3786"
             ],
             [
              0.5555555555555556,
              "#d8576b"
             ],
             [
              0.6666666666666666,
              "#ed7953"
             ],
             [
              0.7777777777777778,
              "#fb9f3a"
             ],
             [
              0.8888888888888888,
              "#fdca26"
             ],
             [
              1,
              "#f0f921"
             ]
            ],
            "type": "histogram2d"
           }
          ],
          "histogram2dcontour": [
           {
            "colorbar": {
             "outlinewidth": 0,
             "ticks": ""
            },
            "colorscale": [
             [
              0,
              "#0d0887"
             ],
             [
              0.1111111111111111,
              "#46039f"
             ],
             [
              0.2222222222222222,
              "#7201a8"
             ],
             [
              0.3333333333333333,
              "#9c179e"
             ],
             [
              0.4444444444444444,
              "#bd3786"
             ],
             [
              0.5555555555555556,
              "#d8576b"
             ],
             [
              0.6666666666666666,
              "#ed7953"
             ],
             [
              0.7777777777777778,
              "#fb9f3a"
             ],
             [
              0.8888888888888888,
              "#fdca26"
             ],
             [
              1,
              "#f0f921"
             ]
            ],
            "type": "histogram2dcontour"
           }
          ],
          "mesh3d": [
           {
            "colorbar": {
             "outlinewidth": 0,
             "ticks": ""
            },
            "type": "mesh3d"
           }
          ],
          "parcoords": [
           {
            "line": {
             "colorbar": {
              "outlinewidth": 0,
              "ticks": ""
             }
            },
            "type": "parcoords"
           }
          ],
          "pie": [
           {
            "automargin": true,
            "type": "pie"
           }
          ],
          "scatter": [
           {
            "fillpattern": {
             "fillmode": "overlay",
             "size": 10,
             "solidity": 0.2
            },
            "type": "scatter"
           }
          ],
          "scatter3d": [
           {
            "line": {
             "colorbar": {
              "outlinewidth": 0,
              "ticks": ""
             }
            },
            "marker": {
             "colorbar": {
              "outlinewidth": 0,
              "ticks": ""
             }
            },
            "type": "scatter3d"
           }
          ],
          "scattercarpet": [
           {
            "marker": {
             "colorbar": {
              "outlinewidth": 0,
              "ticks": ""
             }
            },
            "type": "scattercarpet"
           }
          ],
          "scattergeo": [
           {
            "marker": {
             "colorbar": {
              "outlinewidth": 0,
              "ticks": ""
             }
            },
            "type": "scattergeo"
           }
          ],
          "scattergl": [
           {
            "marker": {
             "colorbar": {
              "outlinewidth": 0,
              "ticks": ""
             }
            },
            "type": "scattergl"
           }
          ],
          "scattermapbox": [
           {
            "marker": {
             "colorbar": {
              "outlinewidth": 0,
              "ticks": ""
             }
            },
            "type": "scattermapbox"
           }
          ],
          "scatterpolar": [
           {
            "marker": {
             "colorbar": {
              "outlinewidth": 0,
              "ticks": ""
             }
            },
            "type": "scatterpolar"
           }
          ],
          "scatterpolargl": [
           {
            "marker": {
             "colorbar": {
              "outlinewidth": 0,
              "ticks": ""
             }
            },
            "type": "scatterpolargl"
           }
          ],
          "scatterternary": [
           {
            "marker": {
             "colorbar": {
              "outlinewidth": 0,
              "ticks": ""
             }
            },
            "type": "scatterternary"
           }
          ],
          "surface": [
           {
            "colorbar": {
             "outlinewidth": 0,
             "ticks": ""
            },
            "colorscale": [
             [
              0,
              "#0d0887"
             ],
             [
              0.1111111111111111,
              "#46039f"
             ],
             [
              0.2222222222222222,
              "#7201a8"
             ],
             [
              0.3333333333333333,
              "#9c179e"
             ],
             [
              0.4444444444444444,
              "#bd3786"
             ],
             [
              0.5555555555555556,
              "#d8576b"
             ],
             [
              0.6666666666666666,
              "#ed7953"
             ],
             [
              0.7777777777777778,
              "#fb9f3a"
             ],
             [
              0.8888888888888888,
              "#fdca26"
             ],
             [
              1,
              "#f0f921"
             ]
            ],
            "type": "surface"
           }
          ],
          "table": [
           {
            "cells": {
             "fill": {
              "color": "#EBF0F8"
             },
             "line": {
              "color": "white"
             }
            },
            "header": {
             "fill": {
              "color": "#C8D4E3"
             },
             "line": {
              "color": "white"
             }
            },
            "type": "table"
           }
          ]
         },
         "layout": {
          "annotationdefaults": {
           "arrowcolor": "#2a3f5f",
           "arrowhead": 0,
           "arrowwidth": 1
          },
          "autotypenumbers": "strict",
          "coloraxis": {
           "colorbar": {
            "outlinewidth": 0,
            "ticks": ""
           }
          },
          "colorscale": {
           "diverging": [
            [
             0,
             "#8e0152"
            ],
            [
             0.1,
             "#c51b7d"
            ],
            [
             0.2,
             "#de77ae"
            ],
            [
             0.3,
             "#f1b6da"
            ],
            [
             0.4,
             "#fde0ef"
            ],
            [
             0.5,
             "#f7f7f7"
            ],
            [
             0.6,
             "#e6f5d0"
            ],
            [
             0.7,
             "#b8e186"
            ],
            [
             0.8,
             "#7fbc41"
            ],
            [
             0.9,
             "#4d9221"
            ],
            [
             1,
             "#276419"
            ]
           ],
           "sequential": [
            [
             0,
             "#0d0887"
            ],
            [
             0.1111111111111111,
             "#46039f"
            ],
            [
             0.2222222222222222,
             "#7201a8"
            ],
            [
             0.3333333333333333,
             "#9c179e"
            ],
            [
             0.4444444444444444,
             "#bd3786"
            ],
            [
             0.5555555555555556,
             "#d8576b"
            ],
            [
             0.6666666666666666,
             "#ed7953"
            ],
            [
             0.7777777777777778,
             "#fb9f3a"
            ],
            [
             0.8888888888888888,
             "#fdca26"
            ],
            [
             1,
             "#f0f921"
            ]
           ],
           "sequentialminus": [
            [
             0,
             "#0d0887"
            ],
            [
             0.1111111111111111,
             "#46039f"
            ],
            [
             0.2222222222222222,
             "#7201a8"
            ],
            [
             0.3333333333333333,
             "#9c179e"
            ],
            [
             0.4444444444444444,
             "#bd3786"
            ],
            [
             0.5555555555555556,
             "#d8576b"
            ],
            [
             0.6666666666666666,
             "#ed7953"
            ],
            [
             0.7777777777777778,
             "#fb9f3a"
            ],
            [
             0.8888888888888888,
             "#fdca26"
            ],
            [
             1,
             "#f0f921"
            ]
           ]
          },
          "colorway": [
           "#636efa",
           "#EF553B",
           "#00cc96",
           "#ab63fa",
           "#FFA15A",
           "#19d3f3",
           "#FF6692",
           "#B6E880",
           "#FF97FF",
           "#FECB52"
          ],
          "font": {
           "color": "#2a3f5f"
          },
          "geo": {
           "bgcolor": "white",
           "lakecolor": "white",
           "landcolor": "#E5ECF6",
           "showlakes": true,
           "showland": true,
           "subunitcolor": "white"
          },
          "hoverlabel": {
           "align": "left"
          },
          "hovermode": "closest",
          "mapbox": {
           "style": "light"
          },
          "paper_bgcolor": "white",
          "plot_bgcolor": "#E5ECF6",
          "polar": {
           "angularaxis": {
            "gridcolor": "white",
            "linecolor": "white",
            "ticks": ""
           },
           "bgcolor": "#E5ECF6",
           "radialaxis": {
            "gridcolor": "white",
            "linecolor": "white",
            "ticks": ""
           }
          },
          "scene": {
           "xaxis": {
            "backgroundcolor": "#E5ECF6",
            "gridcolor": "white",
            "gridwidth": 2,
            "linecolor": "white",
            "showbackground": true,
            "ticks": "",
            "zerolinecolor": "white"
           },
           "yaxis": {
            "backgroundcolor": "#E5ECF6",
            "gridcolor": "white",
            "gridwidth": 2,
            "linecolor": "white",
            "showbackground": true,
            "ticks": "",
            "zerolinecolor": "white"
           },
           "zaxis": {
            "backgroundcolor": "#E5ECF6",
            "gridcolor": "white",
            "gridwidth": 2,
            "linecolor": "white",
            "showbackground": true,
            "ticks": "",
            "zerolinecolor": "white"
           }
          },
          "shapedefaults": {
           "line": {
            "color": "#2a3f5f"
           }
          },
          "ternary": {
           "aaxis": {
            "gridcolor": "white",
            "linecolor": "white",
            "ticks": ""
           },
           "baxis": {
            "gridcolor": "white",
            "linecolor": "white",
            "ticks": ""
           },
           "bgcolor": "#E5ECF6",
           "caxis": {
            "gridcolor": "white",
            "linecolor": "white",
            "ticks": ""
           }
          },
          "title": {
           "x": 0.05
          },
          "xaxis": {
           "automargin": true,
           "gridcolor": "white",
           "linecolor": "white",
           "ticks": "",
           "title": {
            "standoff": 15
           },
           "zerolinecolor": "white",
           "zerolinewidth": 2
          },
          "yaxis": {
           "automargin": true,
           "gridcolor": "white",
           "linecolor": "white",
           "ticks": "",
           "title": {
            "standoff": 15
           },
           "zerolinecolor": "white",
           "zerolinewidth": 2
          }
         }
        },
        "xaxis": {
         "anchor": "y",
         "autorange": true,
         "domain": [
          0,
          1
         ],
         "range": [
          27.5,
          77.5
         ],
         "title": {
          "text": "age"
         },
         "type": "linear"
        },
        "yaxis": {
         "anchor": "x",
         "autorange": true,
         "domain": [
          0,
          1
         ],
         "range": [
          0,
          34.73684210526316
         ],
         "title": {
          "text": "count"
         }
        }
       }
      },
      "image/png": "[encoded data removed]",
      "text/html": [
       "<div>                            <div id=\"22d3f7c4-cb7d-4a60-a92c-834d23e40331\" class=\"plotly-graph-div\" style=\"height:525px; width:100%;\"></div>            <script type=\"text/javascript\">                require([\"plotly\"], function(Plotly) {                    window.PLOTLYENV=window.PLOTLYENV || {};                                    if (document.getElementById(\"22d3f7c4-cb7d-4a60-a92c-834d23e40331\")) {                    Plotly.newPlot(                        \"22d3f7c4-cb7d-4a60-a92c-834d23e40331\",                        [{\"alignmentgroup\":\"True\",\"bingroup\":\"x\",\"hovertemplate\":\"age=%{x}\\u003cbr\\u003ecount=%{y}\\u003cextra\\u003e\\u003c\\u002fextra\\u003e\",\"legendgroup\":\"\",\"marker\":{\"color\":\"#636efa\",\"pattern\":{\"shape\":\"\"}},\"name\":\"\",\"nbinsx\":45,\"offsetgroup\":\"\",\"orientation\":\"v\",\"showlegend\":false,\"x\":[63,67,67,37,41,56,62,57,63,53,57,56,56,44,52,57,48,54,48,49,64,58,58,58,60,50,58,66,43,40,69,60,64,59,44,42,43,57,55,61,65,40,71,59,61,58,51,50,65,53,41,65,44,44,60,54,50,41,54,51,51,46,58,54,54,60,60,54,59,46,65,67,62,65,44,65,60,51,48,58,45,53,39,68,52,44,47,53,53,51,66,62,62,44,63,52,59,60,52,48,45,34,57,71,49,54,59,57,61,39,61,56,52,43,62,41,58,35,63,65,48,63,51,55,65,45,56,54,44,62,54,51,29,51,43,55,70,62,35,51,59,59,52,64,58,47,57,41,45,60,52,42,67,55,64,70,51,58,60,68,46,77,54,58,48,57,52,54,35,45,70,53,59,62,64,57,52,56,43,53,48,56,42,59,60,63,42,66,54,69,50,51,43,62,68,67,69,45,50,59,50,64,57,64,43,45,58,50,55,62,37,38,41,66,52,56,46,46,64,59,41,54,39,53,63,34,47,67,54,66,52,55,49,74,54,54,56,46,49,42,41,41,49,61,60,67,58,47,52,62,57,58,64,51,43,42,67,76,70,57,44,58,60,44,61,42,52,59,40,42,61,66,46,71,59,64,66,39,57,58,57,47,55,35,61,58,58,58,56,56,67,55,44,63,63,41,59,57,45,68,57,57,38],\"xaxis\":\"x\",\"yaxis\":\"y\",\"type\":\"histogram\"}],                        {\"template\":{\"data\":{\"histogram2dcontour\":[{\"type\":\"histogram2dcontour\",\"colorbar\":{\"outlinewidth\":0,\"ticks\":\"\"},\"colorscale\":[[0.0,\"#0d0887\"],[0.1111111111111111,\"#46039f\"],[0.2222222222222222,\"#7201a8\"],[0.3333333333333333,\"#9c179e\"],[0.4444444444444444,\"#bd3786\"],[0.5555555555555556,\"#d8576b\"],[0.6666666666666666,\"#ed7953\"],[0.7777777777777778,\"#fb9f3a\"],[0.8888888888888888,\"#fdca26\"],[1.0,\"#f0f921\"]]}],\"choropleth\":[{\"type\":\"choropleth\",\"colorbar\":{\"outlinewidth\":0,\"ticks\":\"\"}}],\"histogram2d\":[{\"type\":\"histogram2d\",\"colorbar\":{\"outlinewidth\":0,\"ticks\":\"\"},\"colorscale\":[[0.0,\"#0d0887\"],[0.1111111111111111,\"#46039f\"],[0.2222222222222222,\"#7201a8\"],[0.3333333333333333,\"#9c179e\"],[0.4444444444444444,\"#bd3786\"],[0.5555555555555556,\"#d8576b\"],[0.6666666666666666,\"#ed7953\"],[0.7777777777777778,\"#fb9f3a\"],[0.8888888888888888,\"#fdca26\"],[1.0,\"#f0f921\"]]}],\"heatmap\":[{\"type\":\"heatmap\",\"colorbar\":{\"outlinewidth\":0,\"ticks\":\"\"},\"colorscale\":[[0.0,\"#0d0887\"],[0.1111111111111111,\"#46039f\"],[0.2222222222222222,\"#7201a8\"],[0.3333333333333333,\"#9c179e\"],[0.4444444444444444,\"#bd3786\"],[0.5555555555555556,\"#d8576b\"],[0.6666666666666666,\"#ed7953\"],[0.7777777777777778,\"#fb9f3a\"],[0.8888888888888888,\"#fdca26\"],[1.0,\"#f0f921\"]]}],\"heatmapgl\":[{\"type\":\"heatmapgl\",\"colorbar\":{\"outlinewidth\":0,\"ticks\":\"\"},\"colorscale\":[[0.0,\"#0d0887\"],[0.1111111111111111,\"#46039f\"],[0.2222222222222222,\"#7201a8\"],[0.3333333333333333,\"#9c179e\"],[0.4444444444444444,\"#bd3786\"],[0.5555555555555556,\"#d8576b\"],[0.6666666666666666,\"#ed7953\"],[0.7777777777777778,\"#fb9f3a\"],[0.8888888888888888,\"#fdca26\"],[1.0,\"#f0f921\"]]}],\"contourcarpet\":[{\"type\":\"contourcarpet\",\"colorbar\":{\"outlinewidth\":0,\"ticks\":\"\"}}],\"contour\":[{\"type\":\"contour\",\"colorbar\":{\"outlinewidth\":0,\"ticks\":\"\"},\"colorscale\":[[0.0,\"#0d0887\"],[0.1111111111111111,\"#46039f\"],[0.2222222222222222,\"#7201a8\"],[0.3333333333333333,\"#9c179e\"],[0.4444444444444444,\"#bd3786\"],[0.5555555555555556,\"#d8576b\"],[0.6666666666666666,\"#ed7953\"],[0.7777777777777778,\"#fb9f3a\"],[0.8888888888888888,\"#fdca26\"],[1.0,\"#f0f921\"]]}],\"surface\":[{\"type\":\"surface\",\"colorbar\":{\"outlinewidth\":0,\"ticks\":\"\"},\"colorscale\":[[0.0,\"#0d0887\"],[0.1111111111111111,\"#46039f\"],[0.2222222222222222,\"#7201a8\"],[0.3333333333333333,\"#9c179e\"],[0.4444444444444444,\"#bd3786\"],[0.5555555555555556,\"#d8576b\"],[0.6666666666666666,\"#ed7953\"],[0.7777777777777778,\"#fb9f3a\"],[0.8888888888888888,\"#fdca26\"],[1.0,\"#f0f921\"]]}],\"mesh3d\":[{\"type\":\"mesh3d\",\"colorbar\":{\"outlinewidth\":0,\"ticks\":\"\"}}],\"scatter\":[{\"fillpattern\":{\"fillmode\":\"overlay\",\"size\":10,\"solidity\":0.2},\"type\":\"scatter\"}],\"parcoords\":[{\"type\":\"parcoords\",\"line\":{\"colorbar\":{\"outlinewidth\":0,\"ticks\":\"\"}}}],\"scatterpolargl\":[{\"type\":\"scatterpolargl\",\"marker\":{\"colorbar\":{\"outlinewidth\":0,\"ticks\":\"\"}}}],\"bar\":[{\"error_x\":{\"color\":\"#2a3f5f\"},\"error_y\":{\"color\":\"#2a3f5f\"},\"marker\":{\"line\":{\"color\":\"#E5ECF6\",\"width\":0.5},\"pattern\":{\"fillmode\":\"overlay\",\"size\":10,\"solidity\":0.2}},\"type\":\"bar\"}],\"scattergeo\":[{\"type\":\"scattergeo\",\"marker\":{\"colorbar\":{\"outlinewidth\":0,\"ticks\":\"\"}}}],\"scatterpolar\":[{\"type\":\"scatterpolar\",\"marker\":{\"colorbar\":{\"outlinewidth\":0,\"ticks\":\"\"}}}],\"histogram\":[{\"marker\":{\"pattern\":{\"fillmode\":\"overlay\",\"size\":10,\"solidity\":0.2}},\"type\":\"histogram\"}],\"scattergl\":[{\"type\":\"scattergl\",\"marker\":{\"colorbar\":{\"outlinewidth\":0,\"ticks\":\"\"}}}],\"scatter3d\":[{\"type\":\"scatter3d\",\"line\":{\"colorbar\":{\"outlinewidth\":0,\"ticks\":\"\"}},\"marker\":{\"colorbar\":{\"outlinewidth\":0,\"ticks\":\"\"}}}],\"scattermapbox\":[{\"type\":\"scattermapbox\",\"marker\":{\"colorbar\":{\"outlinewidth\":0,\"ticks\":\"\"}}}],\"scatterternary\":[{\"type\":\"scatterternary\",\"marker\":{\"colorbar\":{\"outlinewidth\":0,\"ticks\":\"\"}}}],\"scattercarpet\":[{\"type\":\"scattercarpet\",\"marker\":{\"colorbar\":{\"outlinewidth\":0,\"ticks\":\"\"}}}],\"carpet\":[{\"aaxis\":{\"endlinecolor\":\"#2a3f5f\",\"gridcolor\":\"white\",\"linecolor\":\"white\",\"minorgridcolor\":\"white\",\"startlinecolor\":\"#2a3f5f\"},\"baxis\":{\"endlinecolor\":\"#2a3f5f\",\"gridcolor\":\"white\",\"linecolor\":\"white\",\"minorgridcolor\":\"white\",\"startlinecolor\":\"#2a3f5f\"},\"type\":\"carpet\"}],\"table\":[{\"cells\":{\"fill\":{\"color\":\"#EBF0F8\"},\"line\":{\"color\":\"white\"}},\"header\":{\"fill\":{\"color\":\"#C8D4E3\"},\"line\":{\"color\":\"white\"}},\"type\":\"table\"}],\"barpolar\":[{\"marker\":{\"line\":{\"color\":\"#E5ECF6\",\"width\":0.5},\"pattern\":{\"fillmode\":\"overlay\",\"size\":10,\"solidity\":0.2}},\"type\":\"barpolar\"}],\"pie\":[{\"automargin\":true,\"type\":\"pie\"}]},\"layout\":{\"autotypenumbers\":\"strict\",\"colorway\":[\"#636efa\",\"#EF553B\",\"#00cc96\",\"#ab63fa\",\"#FFA15A\",\"#19d3f3\",\"#FF6692\",\"#B6E880\",\"#FF97FF\",\"#FECB52\"],\"font\":{\"color\":\"#2a3f5f\"},\"hovermode\":\"closest\",\"hoverlabel\":{\"align\":\"left\"},\"paper_bgcolor\":\"white\",\"plot_bgcolor\":\"#E5ECF6\",\"polar\":{\"bgcolor\":\"#E5ECF6\",\"angularaxis\":{\"gridcolor\":\"white\",\"linecolor\":\"white\",\"ticks\":\"\"},\"radialaxis\":{\"gridcolor\":\"white\",\"linecolor\":\"white\",\"ticks\":\"\"}},\"ternary\":{\"bgcolor\":\"#E5ECF6\",\"aaxis\":{\"gridcolor\":\"white\",\"linecolor\":\"white\",\"ticks\":\"\"},\"baxis\":{\"gridcolor\":\"white\",\"linecolor\":\"white\",\"ticks\":\"\"},\"caxis\":{\"gridcolor\":\"white\",\"linecolor\":\"white\",\"ticks\":\"\"}},\"coloraxis\":{\"colorbar\":{\"outlinewidth\":0,\"ticks\":\"\"}},\"colorscale\":{\"sequential\":[[0.0,\"#0d0887\"],[0.1111111111111111,\"#46039f\"],[0.2222222222222222,\"#7201a8\"],[0.3333333333333333,\"#9c179e\"],[0.4444444444444444,\"#bd3786\"],[0.5555555555555556,\"#d8576b\"],[0.6666666666666666,\"#ed7953\"],[0.7777777777777778,\"#fb9f3a\"],[0.8888888888888888,\"#fdca26\"],[1.0,\"#f0f921\"]],\"sequentialminus\":[[0.0,\"#0d0887\"],[0.1111111111111111,\"#46039f\"],[0.2222222222222222,\"#7201a8\"],[0.3333333333333333,\"#9c179e\"],[0.4444444444444444,\"#bd3786\"],[0.5555555555555556,\"#d8576b\"],[0.6666666666666666,\"#ed7953\"],[0.7777777777777778,\"#fb9f3a\"],[0.8888888888888888,\"#fdca26\"],[1.0,\"#f0f921\"]],\"diverging\":[[0,\"#8e0152\"],[0.1,\"#c51b7d\"],[0.2,\"#de77ae\"],[0.3,\"#f1b6da\"],[0.4,\"#fde0ef\"],[0.5,\"#f7f7f7\"],[0.6,\"#e6f5d0\"],[0.7,\"#b8e186\"],[0.8,\"#7fbc41\"],[0.9,\"#4d9221\"],[1,\"#276419\"]]},\"xaxis\":{\"gridcolor\":\"white\",\"linecolor\":\"white\",\"ticks\":\"\",\"title\":{\"standoff\":15},\"zerolinecolor\":\"white\",\"automargin\":true,\"zerolinewidth\":2},\"yaxis\":{\"gridcolor\":\"white\",\"linecolor\":\"white\",\"ticks\":\"\",\"title\":{\"standoff\":15},\"zerolinecolor\":\"white\",\"automargin\":true,\"zerolinewidth\":2},\"scene\":{\"xaxis\":{\"backgroundcolor\":\"#E5ECF6\",\"gridcolor\":\"white\",\"linecolor\":\"white\",\"showbackground\":true,\"ticks\":\"\",\"zerolinecolor\":\"white\",\"gridwidth\":2},\"yaxis\":{\"backgroundcolor\":\"#E5ECF6\",\"gridcolor\":\"white\",\"linecolor\":\"white\",\"showbackground\":true,\"ticks\":\"\",\"zerolinecolor\":\"white\",\"gridwidth\":2},\"zaxis\":{\"backgroundcolor\":\"#E5ECF6\",\"gridcolor\":\"white\",\"linecolor\":\"white\",\"showbackground\":true,\"ticks\":\"\",\"zerolinecolor\":\"white\",\"gridwidth\":2}},\"shapedefaults\":{\"line\":{\"color\":\"#2a3f5f\"}},\"annotationdefaults\":{\"arrowcolor\":\"#2a3f5f\",\"arrowhead\":0,\"arrowwidth\":1},\"geo\":{\"bgcolor\":\"white\",\"landcolor\":\"#E5ECF6\",\"subunitcolor\":\"white\",\"showland\":true,\"showlakes\":true,\"lakecolor\":\"white\"},\"title\":{\"x\":0.05},\"mapbox\":{\"style\":\"light\"}}},\"xaxis\":{\"anchor\":\"y\",\"domain\":[0.0,1.0],\"title\":{\"text\":\"age\"}},\"yaxis\":{\"anchor\":\"x\",\"domain\":[0.0,1.0],\"title\":{\"text\":\"count\"}},\"legend\":{\"tracegroupgap\":0},\"margin\":{\"t\":60},\"barmode\":\"relative\"},                        {\"responsive\": true}                    ).then(function(){\n",
       "                            \n",
       "var gd = document.getElementById('22d3f7c4-cb7d-4a60-a92c-834d23e40331');\n",
       "var x = new MutationObserver(function (mutations, observer) {{\n",
       "        var display = window.getComputedStyle(gd).display;\n",
       "        if (!display || display === 'none') {{\n",
       "            console.log([gd, 'removed!']);\n",
       "            Plotly.purge(gd);\n",
       "            observer.disconnect();\n",
       "        }}\n",
       "}});\n",
       "\n",
       "// Listen for the removal of the full notebook cells\n",
       "var notebookContainer = gd.closest('#notebook-container');\n",
       "if (notebookContainer) {{\n",
       "    x.observe(notebookContainer, {childList: true});\n",
       "}}\n",
       "\n",
       "// Listen for the clearing of the current output cell\n",
       "var outputEl = gd.closest('.output');\n",
       "if (outputEl) {{\n",
       "    x.observe(outputEl, {childList: true});\n",
       "}}\n",
       "\n",
       "                        })                };                });            </script>        </div>"
      ]
     },
     "metadata": {},
     "output_type": "display_data"
    }
   ],
   "source": [
    "p=px.histogram(df,x='age',nbins=45)\n",
    "p.show()"
   ]
  },
  {
   "cell_type": "code",
   "execution_count": 179,
   "id": "a74d44cc-d010-455f-b015-72b1f519984a",
   "metadata": {},
   "outputs": [
    {
     "data": {
      "text/plain": [
       "<Axes: >"
      ]
     },
     "execution_count": 179,
     "metadata": {},
     "output_type": "execute_result"
    },
    {
     "data": {
      "image/png": "[encoded data removed]",
      "text/plain": [
       "<Figure size 640x480 with 1 Axes>"
      ]
     },
     "metadata": {},
     "output_type": "display_data"
    }
   ],
   "source": [
    "df['age'].hist()"
   ]
  },
  {
   "cell_type": "code",
   "execution_count": 181,
   "id": "424805ef-f8c2-4e8c-8397-a9a8add25a5d",
   "metadata": {},
   "outputs": [
    {
     "name": "stdout",
     "output_type": "stream",
     "text": [
      "age [63 67 37 41 56 62 57 53 44 52 48 54 49 64 58 60 50 66 43 40 69 59 42 55\n",
      " 61 65 71 51 46 45 39 68 47 34 35 29 70 77 38 74 76]\n",
      "gender [1 0]\n",
      "cp [1 4 3 2]\n",
      "trestbps [145 160 120 130 140 172 150 110 132 117 135 112 105 124 125 142 128 170\n",
      " 155 104 180 138 108 134 122 115 118 100 200  94 165 102 152 101 126 174\n",
      " 148 178 158 192 129 144 123 136 146 106 156 154 114 164]\n",
      "chol [233 286 229 250 204 236 268 354 254 203 192 294 256 263 199 168 239 275\n",
      " 266 211 283 284 224 206 219 340 226 247 167 230 335 234 177 276 353 243\n",
      " 225 302 212 330 175 417 197 198 290 253 172 273 213 305 216 304 188 282\n",
      " 185 232 326 231 269 267 248 360 258 308 245 270 208 264 321 274 325 235\n",
      " 257 164 141 252 255 201 222 260 182 303 265 309 307 249 186 341 183 407\n",
      " 217 288 220 209 227 261 174 281 221 205 240 289 318 298 564 246 322 299\n",
      " 300 293 277 214 207 223 160 394 184 315 409 244 195 196 126 313 259 200\n",
      " 262 215 228 193 271 210 327 149 295 306 178 237 218 242 319 166 180 311\n",
      " 278 342 169 187 157 176 241 131]\n",
      "fps [1 0]\n",
      "restecg [2 0 1]\n",
      "thalach [150 108 129 187 172 178 160 163 147 155 148 153 142 173 162 174 168 139\n",
      " 171 144 132 158 114 151 161 179 120 112 137 157 169 165 123 128 152 140\n",
      " 188 109 125 131 170 113  99 177 141 180 111 143 182 156 115 149 145 146\n",
      " 175 186 185 159 130 190 136  97 127 154 133 126 202 103 166 164 184 124\n",
      " 122  96 138  88 105 194 195 106 167  95 192 117 121 116  71 118 181 134\n",
      "  90]\n",
      "exang [0 1]\n",
      "oldpeak [2.3 1.5 2.6 3.5 1.4 0.8 3.6 0.6 3.1 0.4 1.3 0.  0.5 1.6 1.  1.2 0.2 1.8\n",
      " 3.2 2.4 2.  2.5 2.2 2.8 3.  3.4 6.2 4.  5.6 2.9 0.1 2.1 1.9 4.2 0.9 1.1\n",
      " 3.8 0.7 0.3 4.4]\n",
      "slope [3 2 1]\n",
      "ca ['0' '3' '2' '1' '?']\n",
      "thal ['6' '3' '7' '?']\n",
      "class [0 2 1 3 4]\n"
     ]
    }
   ],
   "source": [
    "for i in df.columns:\n",
    "    print(i,df[i].unique())"
   ]
  },
  {
   "cell_type": "code",
   "execution_count": 183,
   "id": "650d7450-fd0d-4c41-a941-8f97fd31820a",
   "metadata": {},
   "outputs": [
    {
     "data": {
      "text/plain": [
       "{'age': array([63, 67, 37, 41, 56, 62, 57, 53, 44, 52, 48, 54, 49, 64, 58, 60, 50,\n",
       "        66, 43, 40, 69, 59, 42, 55, 61, 65, 71, 51, 46, 45, 39, 68, 47, 34,\n",
       "        35, 29, 70, 77, 38, 74, 76], dtype=int64),\n",
       " 'gender': array([1, 0], dtype=int64),\n",
       " 'cp': array([1, 4, 3, 2], dtype=int64),\n",
       " 'trestbps': array([145, 160, 120, 130, 140, 172, 150, 110, 132, 117, 135, 112, 105,\n",
       "        124, 125, 142, 128, 170, 155, 104, 180, 138, 108, 134, 122, 115,\n",
       "        118, 100, 200,  94, 165, 102, 152, 101, 126, 174, 148, 178, 158,\n",
       "        192, 129, 144, 123, 136, 146, 106, 156, 154, 114, 164], dtype=int64),\n",
       " 'chol': array([233, 286, 229, 250, 204, 236, 268, 354, 254, 203, 192, 294, 256,\n",
       "        263, 199, 168, 239, 275, 266, 211, 283, 284, 224, 206, 219, 340,\n",
       "        226, 247, 167, 230, 335, 234, 177, 276, 353, 243, 225, 302, 212,\n",
       "        330, 175, 417, 197, 198, 290, 253, 172, 273, 213, 305, 216, 304,\n",
       "        188, 282, 185, 232, 326, 231, 269, 267, 248, 360, 258, 308, 245,\n",
       "        270, 208, 264, 321, 274, 325, 235, 257, 164, 141, 252, 255, 201,\n",
       "        222, 260, 182, 303, 265, 309, 307, 249, 186, 341, 183, 407, 217,\n",
       "        288, 220, 209, 227, 261, 174, 281, 221, 205, 240, 289, 318, 298,\n",
       "        564, 246, 322, 299, 300, 293, 277, 214, 207, 223, 160, 394, 184,\n",
       "        315, 409, 244, 195, 196, 126, 313, 259, 200, 262, 215, 228, 193,\n",
       "        271, 210, 327, 149, 295, 306, 178, 237, 218, 242, 319, 166, 180,\n",
       "        311, 278, 342, 169, 187, 157, 176, 241, 131], dtype=int64),\n",
       " 'fps': array([1, 0], dtype=int64),\n",
       " 'restecg': array([2, 0, 1], dtype=int64),\n",
       " 'thalach': array([150, 108, 129, 187, 172, 178, 160, 163, 147, 155, 148, 153, 142,\n",
       "        173, 162, 174, 168, 139, 171, 144, 132, 158, 114, 151, 161, 179,\n",
       "        120, 112, 137, 157, 169, 165, 123, 128, 152, 140, 188, 109, 125,\n",
       "        131, 170, 113,  99, 177, 141, 180, 111, 143, 182, 156, 115, 149,\n",
       "        145, 146, 175, 186, 185, 159, 130, 190, 136,  97, 127, 154, 133,\n",
       "        126, 202, 103, 166, 164, 184, 124, 122,  96, 138,  88, 105, 194,\n",
       "        195, 106, 167,  95, 192, 117, 121, 116,  71, 118, 181, 134,  90],\n",
       "       dtype=int64),\n",
       " 'exang': array([0, 1], dtype=int64),\n",
       " 'oldpeak': array([2.3, 1.5, 2.6, 3.5, 1.4, 0.8, 3.6, 0.6, 3.1, 0.4, 1.3, 0. , 0.5,\n",
       "        1.6, 1. , 1.2, 0.2, 1.8, 3.2, 2.4, 2. , 2.5, 2.2, 2.8, 3. , 3.4,\n",
       "        6.2, 4. , 5.6, 2.9, 0.1, 2.1, 1.9, 4.2, 0.9, 1.1, 3.8, 0.7, 0.3,\n",
       "        4.4]),\n",
       " 'slope': array([3, 2, 1], dtype=int64),\n",
       " 'ca': array(['0', '3', '2', '1', '?'], dtype=object),\n",
       " 'thal': array(['6', '3', '7', '?'], dtype=object),\n",
       " 'class': array([0, 2, 1, 3, 4], dtype=int64)}"
      ]
     },
     "execution_count": 183,
     "metadata": {},
     "output_type": "execute_result"
    }
   ],
   "source": [
    "u={col:df[col].unique() for col in df.columns}\n",
    "u\n"
   ]
  },
  {
   "cell_type": "code",
   "execution_count": 185,
   "id": "78bf8077-5584-46ba-a92b-b0be91485ace",
   "metadata": {},
   "outputs": [],
   "source": [
    "df=df.replace('?',np.nan)"
   ]
  },
  {
   "cell_type": "code",
   "execution_count": 187,
   "id": "18b4cfb5-ecb1-4fb3-b285-d834d15564d0",
   "metadata": {},
   "outputs": [
    {
     "data": {
      "text/plain": [
       "{'age': array([63, 67, 37, 41, 56, 62, 57, 53, 44, 52, 48, 54, 49, 64, 58, 60, 50,\n",
       "        66, 43, 40, 69, 59, 42, 55, 61, 65, 71, 51, 46, 45, 39, 68, 47, 34,\n",
       "        35, 29, 70, 77, 38, 74, 76], dtype=int64),\n",
       " 'gender': array([1, 0], dtype=int64),\n",
       " 'cp': array([1, 4, 3, 2], dtype=int64),\n",
       " 'trestbps': array([145, 160, 120, 130, 140, 172, 150, 110, 132, 117, 135, 112, 105,\n",
       "        124, 125, 142, 128, 170, 155, 104, 180, 138, 108, 134, 122, 115,\n",
       "        118, 100, 200,  94, 165, 102, 152, 101, 126, 174, 148, 178, 158,\n",
       "        192, 129, 144, 123, 136, 146, 106, 156, 154, 114, 164], dtype=int64),\n",
       " 'chol': array([233, 286, 229, 250, 204, 236, 268, 354, 254, 203, 192, 294, 256,\n",
       "        263, 199, 168, 239, 275, 266, 211, 283, 284, 224, 206, 219, 340,\n",
       "        226, 247, 167, 230, 335, 234, 177, 276, 353, 243, 225, 302, 212,\n",
       "        330, 175, 417, 197, 198, 290, 253, 172, 273, 213, 305, 216, 304,\n",
       "        188, 282, 185, 232, 326, 231, 269, 267, 248, 360, 258, 308, 245,\n",
       "        270, 208, 264, 321, 274, 325, 235, 257, 164, 141, 252, 255, 201,\n",
       "        222, 260, 182, 303, 265, 309, 307, 249, 186, 341, 183, 407, 217,\n",
       "        288, 220, 209, 227, 261, 174, 281, 221, 205, 240, 289, 318, 298,\n",
       "        564, 246, 322, 299, 300, 293, 277, 214, 207, 223, 160, 394, 184,\n",
       "        315, 409, 244, 195, 196, 126, 313, 259, 200, 262, 215, 228, 193,\n",
       "        271, 210, 327, 149, 295, 306, 178, 237, 218, 242, 319, 166, 180,\n",
       "        311, 278, 342, 169, 187, 157, 176, 241, 131], dtype=int64),\n",
       " 'fps': array([1, 0], dtype=int64),\n",
       " 'restecg': array([2, 0, 1], dtype=int64),\n",
       " 'thalach': array([150, 108, 129, 187, 172, 178, 160, 163, 147, 155, 148, 153, 142,\n",
       "        173, 162, 174, 168, 139, 171, 144, 132, 158, 114, 151, 161, 179,\n",
       "        120, 112, 137, 157, 169, 165, 123, 128, 152, 140, 188, 109, 125,\n",
       "        131, 170, 113,  99, 177, 141, 180, 111, 143, 182, 156, 115, 149,\n",
       "        145, 146, 175, 186, 185, 159, 130, 190, 136,  97, 127, 154, 133,\n",
       "        126, 202, 103, 166, 164, 184, 124, 122,  96, 138,  88, 105, 194,\n",
       "        195, 106, 167,  95, 192, 117, 121, 116,  71, 118, 181, 134,  90],\n",
       "       dtype=int64),\n",
       " 'exang': array([0, 1], dtype=int64),\n",
       " 'oldpeak': array([2.3, 1.5, 2.6, 3.5, 1.4, 0.8, 3.6, 0.6, 3.1, 0.4, 1.3, 0. , 0.5,\n",
       "        1.6, 1. , 1.2, 0.2, 1.8, 3.2, 2.4, 2. , 2.5, 2.2, 2.8, 3. , 3.4,\n",
       "        6.2, 4. , 5.6, 2.9, 0.1, 2.1, 1.9, 4.2, 0.9, 1.1, 3.8, 0.7, 0.3,\n",
       "        4.4]),\n",
       " 'slope': array([3, 2, 1], dtype=int64),\n",
       " 'ca': array(['0', '3', '2', '1', nan], dtype=object),\n",
       " 'thal': array(['6', '3', '7', nan], dtype=object),\n",
       " 'class': array([0, 2, 1, 3, 4], dtype=int64)}"
      ]
     },
     "execution_count": 187,
     "metadata": {},
     "output_type": "execute_result"
    }
   ],
   "source": [
    "u={col:df[col].unique() for col in df.columns}\n",
    "u\n"
   ]
  },
  {
   "cell_type": "code",
   "execution_count": 189,
   "id": "34b168db-1c37-46ac-95f8-343975cf06ff",
   "metadata": {},
   "outputs": [
    {
     "data": {
      "text/html": [
       "<div>\n",
       "<style scoped>\n",
       "    .dataframe tbody tr th:only-of-type {\n",
       "        vertical-align: middle;\n",
       "    }\n",
       "\n",
       "    .dataframe tbody tr th {\n",
       "        vertical-align: top;\n",
       "    }\n",
       "\n",
       "    .dataframe thead th {\n",
       "        text-align: right;\n",
       "    }\n",
       "</style>\n",
       "<table border=\"1\" class=\"dataframe\">\n",
       "  <thead>\n",
       "    <tr style=\"text-align: right;\">\n",
       "      <th></th>\n",
       "      <th>ca</th>\n",
       "      <th>thal</th>\n",
       "    </tr>\n",
       "  </thead>\n",
       "  <tbody>\n",
       "    <tr>\n",
       "      <th>0</th>\n",
       "      <td>0</td>\n",
       "      <td>3</td>\n",
       "    </tr>\n",
       "  </tbody>\n",
       "</table>\n",
       "</div>"
      ],
      "text/plain": [
       "  ca thal\n",
       "0  0    3"
      ]
     },
     "execution_count": 189,
     "metadata": {},
     "output_type": "execute_result"
    }
   ],
   "source": [
    "df[['ca','thal']].mode()"
   ]
  },
  {
   "cell_type": "code",
   "execution_count": 191,
   "id": "3536597d-108c-43eb-aa9f-0da35a75cf53",
   "metadata": {},
   "outputs": [
    {
     "name": "stdout",
     "output_type": "stream",
     "text": [
      "0.6722408026755853\n",
      "0.0\n",
      "0    0.0\n",
      "Name: ca, dtype: float64\n",
      "0.9374383177242157\n"
     ]
    }
   ],
   "source": [
    "df['ca']=pd.to_numeric(df['ca'])\n",
    "a=df['ca'].mean()\n",
    "print(a)\n",
    "m=df['ca'].median()\n",
    "print(m)\n",
    "n=df['ca'].mode()\n",
    "print(n)\n",
    "s=df['ca'].std()\n",
    "print(s)"
   ]
  },
  {
   "cell_type": "code",
   "execution_count": 193,
   "id": "9acf5319-8b17-4ab7-9ec0-8c1bcd31f0ef",
   "metadata": {},
   "outputs": [
    {
     "name": "stdout",
     "output_type": "stream",
     "text": [
      "4.73421926910299\n",
      "3.0\n",
      "0    3.0\n",
      "Name: thal, dtype: float64\n",
      "1.9397057693786417\n"
     ]
    }
   ],
   "source": [
    "df['thal']=pd.to_numeric(df['thal'])\n",
    "a=df['thal'].mean()\n",
    "print(a)\n",
    "m=df['thal'].median()\n",
    "print(m)\n",
    "n=df['thal'].mode()\n",
    "print(n)\n",
    "s=df['thal'].std()\n",
    "print(s)"
   ]
  },
  {
   "cell_type": "code",
   "execution_count": 211,
   "id": "056178c8-9079-46a4-9bc6-3662f645813b",
   "metadata": {},
   "outputs": [],
   "source": [
    "n1 = df['ca'].mode()[0]  # Get the first mode (most frequent value)\n",
    "df['ca'] = df['ca'].replace(np.nan, n1)  # Replace NaN with the most frequent value\n"
   ]
  },
  {
   "cell_type": "code",
   "execution_count": 213,
   "id": "3ea32265-c8a9-400a-b848-56a47a0c5840",
   "metadata": {},
   "outputs": [
    {
     "data": {
      "text/plain": [
       "{'age': array([63, 67, 37, 41, 56, 62, 57, 53, 44, 52, 48, 54, 49, 64, 58, 60, 50,\n",
       "        66, 43, 40, 69, 59, 42, 55, 61, 65, 71, 51, 46, 45, 39, 68, 47, 34,\n",
       "        35, 29, 70, 77, 38, 74, 76], dtype=int64),\n",
       " 'gender': array([1, 0], dtype=int64),\n",
       " 'cp': array([1, 4, 3, 2], dtype=int64),\n",
       " 'trestbps': array([145, 160, 120, 130, 140, 172, 150, 110, 132, 117, 135, 112, 105,\n",
       "        124, 125, 142, 128, 170, 155, 104, 180, 138, 108, 134, 122, 115,\n",
       "        118, 100, 200,  94, 165, 102, 152, 101, 126, 174, 148, 178, 158,\n",
       "        192, 129, 144, 123, 136, 146, 106, 156, 154, 114, 164], dtype=int64),\n",
       " 'chol': array([233, 286, 229, 250, 204, 236, 268, 354, 254, 203, 192, 294, 256,\n",
       "        263, 199, 168, 239, 275, 266, 211, 283, 284, 224, 206, 219, 340,\n",
       "        226, 247, 167, 230, 335, 234, 177, 276, 353, 243, 225, 302, 212,\n",
       "        330, 175, 417, 197, 198, 290, 253, 172, 273, 213, 305, 216, 304,\n",
       "        188, 282, 185, 232, 326, 231, 269, 267, 248, 360, 258, 308, 245,\n",
       "        270, 208, 264, 321, 274, 325, 235, 257, 164, 141, 252, 255, 201,\n",
       "        222, 260, 182, 303, 265, 309, 307, 249, 186, 341, 183, 407, 217,\n",
       "        288, 220, 209, 227, 261, 174, 281, 221, 205, 240, 289, 318, 298,\n",
       "        564, 246, 322, 299, 300, 293, 277, 214, 207, 223, 160, 394, 184,\n",
       "        315, 409, 244, 195, 196, 126, 313, 259, 200, 262, 215, 228, 193,\n",
       "        271, 210, 327, 149, 295, 306, 178, 237, 218, 242, 319, 166, 180,\n",
       "        311, 278, 342, 169, 187, 157, 176, 241, 131], dtype=int64),\n",
       " 'fps': array([1, 0], dtype=int64),\n",
       " 'restecg': array([2, 0, 1], dtype=int64),\n",
       " 'thalach': array([150, 108, 129, 187, 172, 178, 160, 163, 147, 155, 148, 153, 142,\n",
       "        173, 162, 174, 168, 139, 171, 144, 132, 158, 114, 151, 161, 179,\n",
       "        120, 112, 137, 157, 169, 165, 123, 128, 152, 140, 188, 109, 125,\n",
       "        131, 170, 113,  99, 177, 141, 180, 111, 143, 182, 156, 115, 149,\n",
       "        145, 146, 175, 186, 185, 159, 130, 190, 136,  97, 127, 154, 133,\n",
       "        126, 202, 103, 166, 164, 184, 124, 122,  96, 138,  88, 105, 194,\n",
       "        195, 106, 167,  95, 192, 117, 121, 116,  71, 118, 181, 134,  90],\n",
       "       dtype=int64),\n",
       " 'exang': array([0, 1], dtype=int64),\n",
       " 'oldpeak': array([2.3, 1.5, 2.6, 3.5, 1.4, 0.8, 3.6, 0.6, 3.1, 0.4, 1.3, 0. , 0.5,\n",
       "        1.6, 1. , 1.2, 0.2, 1.8, 3.2, 2.4, 2. , 2.5, 2.2, 2.8, 3. , 3.4,\n",
       "        6.2, 4. , 5.6, 2.9, 0.1, 2.1, 1.9, 4.2, 0.9, 1.1, 3.8, 0.7, 0.3,\n",
       "        4.4]),\n",
       " 'slope': array([3, 2, 1], dtype=int64),\n",
       " 'ca': array([0., 3., 2., 1.]),\n",
       " 'thal': array([ 6.,  3.,  7., nan]),\n",
       " 'class': array([0, 2, 1, 3, 4], dtype=int64)}"
      ]
     },
     "execution_count": 213,
     "metadata": {},
     "output_type": "execute_result"
    }
   ],
   "source": [
    "u={col:df[col].unique() for col in df.columns}\n",
    "u\n"
   ]
  },
  {
   "cell_type": "code",
   "execution_count": 221,
   "id": "5c32e2b8-aaff-48e3-a912-12cadcb460a6",
   "metadata": {},
   "outputs": [],
   "source": [
    "n1 = df['thal'].mode()[0]  # Get the first mode (most frequent value)\n",
    "df['thal'] = df['thal'].replace(np.nan, n1)"
   ]
  },
  {
   "cell_type": "code",
   "execution_count": 223,
   "id": "40568d07-7ac1-4458-b3b4-ab238c487bc4",
   "metadata": {},
   "outputs": [
    {
     "data": {
      "text/plain": [
       "{'age': array([63, 67, 37, 41, 56, 62, 57, 53, 44, 52, 48, 54, 49, 64, 58, 60, 50,\n",
       "        66, 43, 40, 69, 59, 42, 55, 61, 65, 71, 51, 46, 45, 39, 68, 47, 34,\n",
       "        35, 29, 70, 77, 38, 74, 76], dtype=int64),\n",
       " 'gender': array([1, 0], dtype=int64),\n",
       " 'cp': array([1, 4, 3, 2], dtype=int64),\n",
       " 'trestbps': array([145, 160, 120, 130, 140, 172, 150, 110, 132, 117, 135, 112, 105,\n",
       "        124, 125, 142, 128, 170, 155, 104, 180, 138, 108, 134, 122, 115,\n",
       "        118, 100, 200,  94, 165, 102, 152, 101, 126, 174, 148, 178, 158,\n",
       "        192, 129, 144, 123, 136, 146, 106, 156, 154, 114, 164], dtype=int64),\n",
       " 'chol': array([233, 286, 229, 250, 204, 236, 268, 354, 254, 203, 192, 294, 256,\n",
       "        263, 199, 168, 239, 275, 266, 211, 283, 284, 224, 206, 219, 340,\n",
       "        226, 247, 167, 230, 335, 234, 177, 276, 353, 243, 225, 302, 212,\n",
       "        330, 175, 417, 197, 198, 290, 253, 172, 273, 213, 305, 216, 304,\n",
       "        188, 282, 185, 232, 326, 231, 269, 267, 248, 360, 258, 308, 245,\n",
       "        270, 208, 264, 321, 274, 325, 235, 257, 164, 141, 252, 255, 201,\n",
       "        222, 260, 182, 303, 265, 309, 307, 249, 186, 341, 183, 407, 217,\n",
       "        288, 220, 209, 227, 261, 174, 281, 221, 205, 240, 289, 318, 298,\n",
       "        564, 246, 322, 299, 300, 293, 277, 214, 207, 223, 160, 394, 184,\n",
       "        315, 409, 244, 195, 196, 126, 313, 259, 200, 262, 215, 228, 193,\n",
       "        271, 210, 327, 149, 295, 306, 178, 237, 218, 242, 319, 166, 180,\n",
       "        311, 278, 342, 169, 187, 157, 176, 241, 131], dtype=int64),\n",
       " 'fps': array([1, 0], dtype=int64),\n",
       " 'restecg': array([2, 0, 1], dtype=int64),\n",
       " 'thalach': array([150, 108, 129, 187, 172, 178, 160, 163, 147, 155, 148, 153, 142,\n",
       "        173, 162, 174, 168, 139, 171, 144, 132, 158, 114, 151, 161, 179,\n",
       "        120, 112, 137, 157, 169, 165, 123, 128, 152, 140, 188, 109, 125,\n",
       "        131, 170, 113,  99, 177, 141, 180, 111, 143, 182, 156, 115, 149,\n",
       "        145, 146, 175, 186, 185, 159, 130, 190, 136,  97, 127, 154, 133,\n",
       "        126, 202, 103, 166, 164, 184, 124, 122,  96, 138,  88, 105, 194,\n",
       "        195, 106, 167,  95, 192, 117, 121, 116,  71, 118, 181, 134,  90],\n",
       "       dtype=int64),\n",
       " 'exang': array([0, 1], dtype=int64),\n",
       " 'oldpeak': array([2.3, 1.5, 2.6, 3.5, 1.4, 0.8, 3.6, 0.6, 3.1, 0.4, 1.3, 0. , 0.5,\n",
       "        1.6, 1. , 1.2, 0.2, 1.8, 3.2, 2.4, 2. , 2.5, 2.2, 2.8, 3. , 3.4,\n",
       "        6.2, 4. , 5.6, 2.9, 0.1, 2.1, 1.9, 4.2, 0.9, 1.1, 3.8, 0.7, 0.3,\n",
       "        4.4]),\n",
       " 'slope': array([3, 2, 1], dtype=int64),\n",
       " 'ca': array([0., 3., 2., 1.]),\n",
       " 'thal': array([6., 3., 7.]),\n",
       " 'class': array([0, 2, 1, 3, 4], dtype=int64)}"
      ]
     },
     "execution_count": 223,
     "metadata": {},
     "output_type": "execute_result"
    }
   ],
   "source": [
    "u={col:df[col].unique() for col in df.columns}\n",
    "u\n"
   ]
  },
  {
   "cell_type": "code",
   "execution_count": 225,
   "id": "77d506fa-2de5-4d3f-9f3c-035ed25bfdb2",
   "metadata": {},
   "outputs": [],
   "source": [
    "n1 = df['thal'].median() # Get the first mode (most frequent value)\n",
    "df['thal'] = df['thal'].replace(np.nan, n1)"
   ]
  },
  {
   "cell_type": "code",
   "execution_count": 227,
   "id": "4d5ca98f-53cc-4b1f-a194-32ee59c191e7",
   "metadata": {},
   "outputs": [
    {
     "data": {
      "text/plain": [
       "{'age': array([63, 67, 37, 41, 56, 62, 57, 53, 44, 52, 48, 54, 49, 64, 58, 60, 50,\n",
       "        66, 43, 40, 69, 59, 42, 55, 61, 65, 71, 51, 46, 45, 39, 68, 47, 34,\n",
       "        35, 29, 70, 77, 38, 74, 76], dtype=int64),\n",
       " 'gender': array([1, 0], dtype=int64),\n",
       " 'cp': array([1, 4, 3, 2], dtype=int64),\n",
       " 'trestbps': array([145, 160, 120, 130, 140, 172, 150, 110, 132, 117, 135, 112, 105,\n",
       "        124, 125, 142, 128, 170, 155, 104, 180, 138, 108, 134, 122, 115,\n",
       "        118, 100, 200,  94, 165, 102, 152, 101, 126, 174, 148, 178, 158,\n",
       "        192, 129, 144, 123, 136, 146, 106, 156, 154, 114, 164], dtype=int64),\n",
       " 'chol': array([233, 286, 229, 250, 204, 236, 268, 354, 254, 203, 192, 294, 256,\n",
       "        263, 199, 168, 239, 275, 266, 211, 283, 284, 224, 206, 219, 340,\n",
       "        226, 247, 167, 230, 335, 234, 177, 276, 353, 243, 225, 302, 212,\n",
       "        330, 175, 417, 197, 198, 290, 253, 172, 273, 213, 305, 216, 304,\n",
       "        188, 282, 185, 232, 326, 231, 269, 267, 248, 360, 258, 308, 245,\n",
       "        270, 208, 264, 321, 274, 325, 235, 257, 164, 141, 252, 255, 201,\n",
       "        222, 260, 182, 303, 265, 309, 307, 249, 186, 341, 183, 407, 217,\n",
       "        288, 220, 209, 227, 261, 174, 281, 221, 205, 240, 289, 318, 298,\n",
       "        564, 246, 322, 299, 300, 293, 277, 214, 207, 223, 160, 394, 184,\n",
       "        315, 409, 244, 195, 196, 126, 313, 259, 200, 262, 215, 228, 193,\n",
       "        271, 210, 327, 149, 295, 306, 178, 237, 218, 242, 319, 166, 180,\n",
       "        311, 278, 342, 169, 187, 157, 176, 241, 131], dtype=int64),\n",
       " 'fps': array([1, 0], dtype=int64),\n",
       " 'restecg': array([2, 0, 1], dtype=int64),\n",
       " 'thalach': array([150, 108, 129, 187, 172, 178, 160, 163, 147, 155, 148, 153, 142,\n",
       "        173, 162, 174, 168, 139, 171, 144, 132, 158, 114, 151, 161, 179,\n",
       "        120, 112, 137, 157, 169, 165, 123, 128, 152, 140, 188, 109, 125,\n",
       "        131, 170, 113,  99, 177, 141, 180, 111, 143, 182, 156, 115, 149,\n",
       "        145, 146, 175, 186, 185, 159, 130, 190, 136,  97, 127, 154, 133,\n",
       "        126, 202, 103, 166, 164, 184, 124, 122,  96, 138,  88, 105, 194,\n",
       "        195, 106, 167,  95, 192, 117, 121, 116,  71, 118, 181, 134,  90],\n",
       "       dtype=int64),\n",
       " 'exang': array([0, 1], dtype=int64),\n",
       " 'oldpeak': array([2.3, 1.5, 2.6, 3.5, 1.4, 0.8, 3.6, 0.6, 3.1, 0.4, 1.3, 0. , 0.5,\n",
       "        1.6, 1. , 1.2, 0.2, 1.8, 3.2, 2.4, 2. , 2.5, 2.2, 2.8, 3. , 3.4,\n",
       "        6.2, 4. , 5.6, 2.9, 0.1, 2.1, 1.9, 4.2, 0.9, 1.1, 3.8, 0.7, 0.3,\n",
       "        4.4]),\n",
       " 'slope': array([3, 2, 1], dtype=int64),\n",
       " 'ca': array([0., 3., 2., 1.]),\n",
       " 'thal': array([6., 3., 7.]),\n",
       " 'class': array([0, 2, 1, 3, 4], dtype=int64)}"
      ]
     },
     "execution_count": 227,
     "metadata": {},
     "output_type": "execute_result"
    }
   ],
   "source": [
    "u={col:df[col].unique() for col in df.columns}\n",
    "u\n"
   ]
  },
  {
   "cell_type": "code",
   "execution_count": 244,
   "id": "8e5ec7c2-e8c1-4d22-8b3f-c2e3b1ee3915",
   "metadata": {},
   "outputs": [],
   "source": [
    "df['ca']=pd.to_numeric(df['ca'])\n",
    "n1 = df['ca'].median() # Get the first mode (most frequent value)\n",
    "df['ca'] = df['ca'].replace(np.nan, n1)"
   ]
  },
  {
   "cell_type": "code",
   "execution_count": 246,
   "id": "1d9cf036-4e30-4aa1-ab0f-5498c19befa7",
   "metadata": {},
   "outputs": [
    {
     "data": {
      "text/plain": [
       "{'age': array([63, 67, 37, 41, 56, 62, 57, 53, 44, 52, 48, 54, 49, 64, 58, 60, 50,\n",
       "        66, 43, 40, 69, 59, 42, 55, 61, 65, 71, 51, 46, 45, 39, 68, 47, 34,\n",
       "        35, 29, 70, 77, 38, 74, 76], dtype=int64),\n",
       " 'gender': array([1, 0], dtype=int64),\n",
       " 'cp': array([1, 4, 3, 2], dtype=int64),\n",
       " 'trestbps': array([145, 160, 120, 130, 140, 172, 150, 110, 132, 117, 135, 112, 105,\n",
       "        124, 125, 142, 128, 170, 155, 104, 180, 138, 108, 134, 122, 115,\n",
       "        118, 100, 200,  94, 165, 102, 152, 101, 126, 174, 148, 178, 158,\n",
       "        192, 129, 144, 123, 136, 146, 106, 156, 154, 114, 164], dtype=int64),\n",
       " 'chol': array([233, 286, 229, 250, 204, 236, 268, 354, 254, 203, 192, 294, 256,\n",
       "        263, 199, 168, 239, 275, 266, 211, 283, 284, 224, 206, 219, 340,\n",
       "        226, 247, 167, 230, 335, 234, 177, 276, 353, 243, 225, 302, 212,\n",
       "        330, 175, 417, 197, 198, 290, 253, 172, 273, 213, 305, 216, 304,\n",
       "        188, 282, 185, 232, 326, 231, 269, 267, 248, 360, 258, 308, 245,\n",
       "        270, 208, 264, 321, 274, 325, 235, 257, 164, 141, 252, 255, 201,\n",
       "        222, 260, 182, 303, 265, 309, 307, 249, 186, 341, 183, 407, 217,\n",
       "        288, 220, 209, 227, 261, 174, 281, 221, 205, 240, 289, 318, 298,\n",
       "        564, 246, 322, 299, 300, 293, 277, 214, 207, 223, 160, 394, 184,\n",
       "        315, 409, 244, 195, 196, 126, 313, 259, 200, 262, 215, 228, 193,\n",
       "        271, 210, 327, 149, 295, 306, 178, 237, 218, 242, 319, 166, 180,\n",
       "        311, 278, 342, 169, 187, 157, 176, 241, 131], dtype=int64),\n",
       " 'fps': array([1, 0], dtype=int64),\n",
       " 'restecg': array([2, 0, 1], dtype=int64),\n",
       " 'thalach': array([150, 108, 129, 187, 172, 178, 160, 163, 147, 155, 148, 153, 142,\n",
       "        173, 162, 174, 168, 139, 171, 144, 132, 158, 114, 151, 161, 179,\n",
       "        120, 112, 137, 157, 169, 165, 123, 128, 152, 140, 188, 109, 125,\n",
       "        131, 170, 113,  99, 177, 141, 180, 111, 143, 182, 156, 115, 149,\n",
       "        145, 146, 175, 186, 185, 159, 130, 190, 136,  97, 127, 154, 133,\n",
       "        126, 202, 103, 166, 164, 184, 124, 122,  96, 138,  88, 105, 194,\n",
       "        195, 106, 167,  95, 192, 117, 121, 116,  71, 118, 181, 134,  90],\n",
       "       dtype=int64),\n",
       " 'exang': array([0, 1], dtype=int64),\n",
       " 'oldpeak': array([2.3, 1.5, 2.6, 3.5, 1.4, 0.8, 3.6, 0.6, 3.1, 0.4, 1.3, 0. , 0.5,\n",
       "        1.6, 1. , 1.2, 0.2, 1.8, 3.2, 2.4, 2. , 2.5, 2.2, 2.8, 3. , 3.4,\n",
       "        6.2, 4. , 5.6, 2.9, 0.1, 2.1, 1.9, 4.2, 0.9, 1.1, 3.8, 0.7, 0.3,\n",
       "        4.4]),\n",
       " 'slope': array([3, 2, 1], dtype=int64),\n",
       " 'ca': array([0., 3., 2., 1.]),\n",
       " 'thal': array([6., 3., 7.]),\n",
       " 'class': array([0, 2, 1, 3, 4], dtype=int64)}"
      ]
     },
     "execution_count": 246,
     "metadata": {},
     "output_type": "execute_result"
    }
   ],
   "source": [
    "u={col:df[col].unique() for col in df.columns}\n",
    "u\n"
   ]
  },
  {
   "cell_type": "code",
   "execution_count": 248,
   "id": "f1738026-b5a1-49d1-8200-fc3c44839287",
   "metadata": {},
   "outputs": [],
   "source": [
    "df['ca']=pd.to_numeric(df['ca'])\n",
    "n1 = df['ca'].mean() # Get the first mode (most frequent value)\n",
    "df['ca'] = df['ca'].replace(np.nan, n1)"
   ]
  },
  {
   "cell_type": "code",
   "execution_count": 250,
   "id": "7391c6d1-e7d2-4d6f-a5e7-5a0ec868dcc5",
   "metadata": {},
   "outputs": [
    {
     "data": {
      "text/plain": [
       "{'age': array([63, 67, 37, 41, 56, 62, 57, 53, 44, 52, 48, 54, 49, 64, 58, 60, 50,\n",
       "        66, 43, 40, 69, 59, 42, 55, 61, 65, 71, 51, 46, 45, 39, 68, 47, 34,\n",
       "        35, 29, 70, 77, 38, 74, 76], dtype=int64),\n",
       " 'gender': array([1, 0], dtype=int64),\n",
       " 'cp': array([1, 4, 3, 2], dtype=int64),\n",
       " 'trestbps': array([145, 160, 120, 130, 140, 172, 150, 110, 132, 117, 135, 112, 105,\n",
       "        124, 125, 142, 128, 170, 155, 104, 180, 138, 108, 134, 122, 115,\n",
       "        118, 100, 200,  94, 165, 102, 152, 101, 126, 174, 148, 178, 158,\n",
       "        192, 129, 144, 123, 136, 146, 106, 156, 154, 114, 164], dtype=int64),\n",
       " 'chol': array([233, 286, 229, 250, 204, 236, 268, 354, 254, 203, 192, 294, 256,\n",
       "        263, 199, 168, 239, 275, 266, 211, 283, 284, 224, 206, 219, 340,\n",
       "        226, 247, 167, 230, 335, 234, 177, 276, 353, 243, 225, 302, 212,\n",
       "        330, 175, 417, 197, 198, 290, 253, 172, 273, 213, 305, 216, 304,\n",
       "        188, 282, 185, 232, 326, 231, 269, 267, 248, 360, 258, 308, 245,\n",
       "        270, 208, 264, 321, 274, 325, 235, 257, 164, 141, 252, 255, 201,\n",
       "        222, 260, 182, 303, 265, 309, 307, 249, 186, 341, 183, 407, 217,\n",
       "        288, 220, 209, 227, 261, 174, 281, 221, 205, 240, 289, 318, 298,\n",
       "        564, 246, 322, 299, 300, 293, 277, 214, 207, 223, 160, 394, 184,\n",
       "        315, 409, 244, 195, 196, 126, 313, 259, 200, 262, 215, 228, 193,\n",
       "        271, 210, 327, 149, 295, 306, 178, 237, 218, 242, 319, 166, 180,\n",
       "        311, 278, 342, 169, 187, 157, 176, 241, 131], dtype=int64),\n",
       " 'fps': array([1, 0], dtype=int64),\n",
       " 'restecg': array([2, 0, 1], dtype=int64),\n",
       " 'thalach': array([150, 108, 129, 187, 172, 178, 160, 163, 147, 155, 148, 153, 142,\n",
       "        173, 162, 174, 168, 139, 171, 144, 132, 158, 114, 151, 161, 179,\n",
       "        120, 112, 137, 157, 169, 165, 123, 128, 152, 140, 188, 109, 125,\n",
       "        131, 170, 113,  99, 177, 141, 180, 111, 143, 182, 156, 115, 149,\n",
       "        145, 146, 175, 186, 185, 159, 130, 190, 136,  97, 127, 154, 133,\n",
       "        126, 202, 103, 166, 164, 184, 124, 122,  96, 138,  88, 105, 194,\n",
       "        195, 106, 167,  95, 192, 117, 121, 116,  71, 118, 181, 134,  90],\n",
       "       dtype=int64),\n",
       " 'exang': array([0, 1], dtype=int64),\n",
       " 'oldpeak': array([2.3, 1.5, 2.6, 3.5, 1.4, 0.8, 3.6, 0.6, 3.1, 0.4, 1.3, 0. , 0.5,\n",
       "        1.6, 1. , 1.2, 0.2, 1.8, 3.2, 2.4, 2. , 2.5, 2.2, 2.8, 3. , 3.4,\n",
       "        6.2, 4. , 5.6, 2.9, 0.1, 2.1, 1.9, 4.2, 0.9, 1.1, 3.8, 0.7, 0.3,\n",
       "        4.4]),\n",
       " 'slope': array([3, 2, 1], dtype=int64),\n",
       " 'ca': array([0., 3., 2., 1.]),\n",
       " 'thal': array([6., 3., 7.]),\n",
       " 'class': array([0, 2, 1, 3, 4], dtype=int64)}"
      ]
     },
     "execution_count": 250,
     "metadata": {},
     "output_type": "execute_result"
    }
   ],
   "source": [
    "u={col:df[col].unique() for col in df.columns}\n",
    "u\n"
   ]
  },
  {
   "cell_type": "code",
   "execution_count": 254,
   "id": "a8db2911-1a4b-45ce-9106-bec6a4547de1",
   "metadata": {},
   "outputs": [],
   "source": [
    "df['thal']=pd.to_numeric(df['thal'])\n",
    "n1 = df['thal'].mean() # Get the first mode (most frequent value)\n",
    "df['thal'] = df['thal'].replace(np.nan, n1)"
   ]
  },
  {
   "cell_type": "code",
   "execution_count": 256,
   "id": "8949d912-63ea-448a-a1ac-7c2de3cb6340",
   "metadata": {},
   "outputs": [
    {
     "data": {
      "text/plain": [
       "{'age': array([63, 67, 37, 41, 56, 62, 57, 53, 44, 52, 48, 54, 49, 64, 58, 60, 50,\n",
       "        66, 43, 40, 69, 59, 42, 55, 61, 65, 71, 51, 46, 45, 39, 68, 47, 34,\n",
       "        35, 29, 70, 77, 38, 74, 76], dtype=int64),\n",
       " 'gender': array([1, 0], dtype=int64),\n",
       " 'cp': array([1, 4, 3, 2], dtype=int64),\n",
       " 'trestbps': array([145, 160, 120, 130, 140, 172, 150, 110, 132, 117, 135, 112, 105,\n",
       "        124, 125, 142, 128, 170, 155, 104, 180, 138, 108, 134, 122, 115,\n",
       "        118, 100, 200,  94, 165, 102, 152, 101, 126, 174, 148, 178, 158,\n",
       "        192, 129, 144, 123, 136, 146, 106, 156, 154, 114, 164], dtype=int64),\n",
       " 'chol': array([233, 286, 229, 250, 204, 236, 268, 354, 254, 203, 192, 294, 256,\n",
       "        263, 199, 168, 239, 275, 266, 211, 283, 284, 224, 206, 219, 340,\n",
       "        226, 247, 167, 230, 335, 234, 177, 276, 353, 243, 225, 302, 212,\n",
       "        330, 175, 417, 197, 198, 290, 253, 172, 273, 213, 305, 216, 304,\n",
       "        188, 282, 185, 232, 326, 231, 269, 267, 248, 360, 258, 308, 245,\n",
       "        270, 208, 264, 321, 274, 325, 235, 257, 164, 141, 252, 255, 201,\n",
       "        222, 260, 182, 303, 265, 309, 307, 249, 186, 341, 183, 407, 217,\n",
       "        288, 220, 209, 227, 261, 174, 281, 221, 205, 240, 289, 318, 298,\n",
       "        564, 246, 322, 299, 300, 293, 277, 214, 207, 223, 160, 394, 184,\n",
       "        315, 409, 244, 195, 196, 126, 313, 259, 200, 262, 215, 228, 193,\n",
       "        271, 210, 327, 149, 295, 306, 178, 237, 218, 242, 319, 166, 180,\n",
       "        311, 278, 342, 169, 187, 157, 176, 241, 131], dtype=int64),\n",
       " 'fps': array([1, 0], dtype=int64),\n",
       " 'restecg': array([2, 0, 1], dtype=int64),\n",
       " 'thalach': array([150, 108, 129, 187, 172, 178, 160, 163, 147, 155, 148, 153, 142,\n",
       "        173, 162, 174, 168, 139, 171, 144, 132, 158, 114, 151, 161, 179,\n",
       "        120, 112, 137, 157, 169, 165, 123, 128, 152, 140, 188, 109, 125,\n",
       "        131, 170, 113,  99, 177, 141, 180, 111, 143, 182, 156, 115, 149,\n",
       "        145, 146, 175, 186, 185, 159, 130, 190, 136,  97, 127, 154, 133,\n",
       "        126, 202, 103, 166, 164, 184, 124, 122,  96, 138,  88, 105, 194,\n",
       "        195, 106, 167,  95, 192, 117, 121, 116,  71, 118, 181, 134,  90],\n",
       "       dtype=int64),\n",
       " 'exang': array([0, 1], dtype=int64),\n",
       " 'oldpeak': array([2.3, 1.5, 2.6, 3.5, 1.4, 0.8, 3.6, 0.6, 3.1, 0.4, 1.3, 0. , 0.5,\n",
       "        1.6, 1. , 1.2, 0.2, 1.8, 3.2, 2.4, 2. , 2.5, 2.2, 2.8, 3. , 3.4,\n",
       "        6.2, 4. , 5.6, 2.9, 0.1, 2.1, 1.9, 4.2, 0.9, 1.1, 3.8, 0.7, 0.3,\n",
       "        4.4]),\n",
       " 'slope': array([3, 2, 1], dtype=int64),\n",
       " 'ca': array([0., 3., 2., 1.]),\n",
       " 'thal': array([6., 3., 7.]),\n",
       " 'class': array([0, 2, 1, 3, 4], dtype=int64)}"
      ]
     },
     "execution_count": 256,
     "metadata": {},
     "output_type": "execute_result"
    }
   ],
   "source": [
    "u={col:df[col].unique() for col in df.columns}\n",
    "u\n"
   ]
  },
  {
   "cell_type": "code",
   "execution_count": null,
   "id": "86a12a1d-fcdb-45b5-b975-5e213c7c8ac6",
   "metadata": {},
   "outputs": [],
   "source": []
  }
 ],
 "metadata": {
  "kernelspec": {
   "display_name": "Python [conda env:base] *",
   "language": "python",
   "name": "conda-base-py"
  },
  "language_info": {
   "codemirror_mode": {
    "name": "ipython",
    "version": 3
   },
   "file_extension": ".py",
   "mimetype": "text/x-python",
   "name": "python",
   "nbconvert_exporter": "python",
   "pygments_lexer": "ipython3",
   "version": "3.12.7"
  }
 },
 "nbformat": 4,
 "nbformat_minor": 5
}
