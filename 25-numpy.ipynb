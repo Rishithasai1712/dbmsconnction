{
 "cells": [
  {
   "cell_type": "code",
   "execution_count": 1,
   "id": "e08e8199-ac98-46fe-8dd1-cb1f167b259b",
   "metadata": {},
   "outputs": [
    {
     "name": "stdout",
     "output_type": "stream",
     "text": [
      "Defaulting to user installation because normal site-packages is not writeable\n",
      "Requirement already satisfied: numpy in c:\\programdata\\anaconda3\\lib\\site-packages (1.26.4)\n",
      "Note: you may need to restart the kernel to use updated packages.\n"
     ]
    }
   ],
   "source": [
    "pip install numpy\n"
   ]
  },
  {
   "cell_type": "code",
   "execution_count": 3,
   "id": "b7e4e8fd-9f76-45bf-850b-b04b0dcde1cd",
   "metadata": {},
   "outputs": [],
   "source": [
    "import numpy as np"
   ]
  },
  {
   "cell_type": "code",
   "execution_count": 5,
   "id": "6baad91a-d1db-4bb2-ab64-0ccaeb75124b",
   "metadata": {},
   "outputs": [
    {
     "name": "stdout",
     "output_type": "stream",
     "text": [
      "[1 2 3]\n"
     ]
    }
   ],
   "source": [
    "arr_1d=np.array([1,2,3])\n",
    "print(arr_1d)"
   ]
  },
  {
   "cell_type": "code",
   "execution_count": 7,
   "id": "92d63078-2b0f-4b5b-9196-4167eaba2d01",
   "metadata": {},
   "outputs": [
    {
     "name": "stdout",
     "output_type": "stream",
     "text": [
      "[[1 2 3]\n",
      " [4 5 6]]\n"
     ]
    }
   ],
   "source": [
    "arr_2d=np.array([[1,2,3],[4,5,6]])\n",
    "print(arr_2d)"
   ]
  },
  {
   "cell_type": "code",
   "execution_count": 9,
   "id": "c0e4e256-65e6-492e-9c2a-b85dee181138",
   "metadata": {},
   "outputs": [
    {
     "name": "stdout",
     "output_type": "stream",
     "text": [
      "[[[1 2 3]\n",
      "  [4 5 6]\n",
      "  [7 8 9]]]\n"
     ]
    }
   ],
   "source": [
    "arr_3d=np.array([[[1,2,3],[4,5,6],[7,8,9]]])\n",
    "print(arr_3d)"
   ]
  },
  {
   "cell_type": "code",
   "execution_count": 13,
   "id": "58ce8f36-5de7-494d-bbe7-95263a4fde02",
   "metadata": {},
   "outputs": [
    {
     "name": "stdout",
     "output_type": "stream",
     "text": [
      "[[0. 0. 0.]\n",
      " [0. 0. 0.]]\n"
     ]
    }
   ],
   "source": [
    "zeroes=np.zeros((2,3))\n",
    "print(zeroes)"
   ]
  },
  {
   "cell_type": "code",
   "execution_count": 15,
   "id": "24b60a25-4ccb-4922-a9d6-d4e8fc9f8c39",
   "metadata": {},
   "outputs": [
    {
     "name": "stdout",
     "output_type": "stream",
     "text": [
      "[[1. 1. 1.]\n",
      " [1. 1. 1.]]\n"
     ]
    }
   ],
   "source": [
    "zeroes=np.ones((2,3))\n",
    "print(zeroes)"
   ]
  },
  {
   "cell_type": "code",
   "execution_count": 19,
   "id": "847befbb-8ac8-4edb-91fe-5c62d8a9802d",
   "metadata": {},
   "outputs": [
    {
     "name": "stdout",
     "output_type": "stream",
     "text": [
      "[[0.88037428 0.21486637 0.45248967]\n",
      " [0.36427483 0.99786403 0.3253184 ]\n",
      " [0.26417833 0.90607748 0.38522131]\n",
      " [0.62524623 0.74392692 0.50847311]]\n"
     ]
    }
   ],
   "source": [
    "arr=np.random.random((4,3))\n",
    "print(arr)"
   ]
  },
  {
   "cell_type": "code",
   "execution_count": 23,
   "id": "c05f09a5-bde1-4972-9a45-d581e45765ae",
   "metadata": {},
   "outputs": [
    {
     "name": "stdout",
     "output_type": "stream",
     "text": [
      "[[1. 0. 0. 0.]\n",
      " [0. 1. 0. 0.]\n",
      " [0. 0. 1. 0.]\n",
      " [0. 0. 0. 1.]]\n"
     ]
    }
   ],
   "source": [
    "arr=np.eye(4)\n",
    "print(arr)"
   ]
  },
  {
   "cell_type": "code",
   "execution_count": 27,
   "id": "4987c5fe-22ae-4d41-80d8-c8abef94c60b",
   "metadata": {},
   "outputs": [
    {
     "name": "stdout",
     "output_type": "stream",
     "text": [
      "[0 2 4 6 8]\n"
     ]
    }
   ],
   "source": [
    "arr=np.arange(0,10,2)\n",
    "print(arr)"
   ]
  },
  {
   "cell_type": "code",
   "execution_count": 29,
   "id": "48dc20aa-b2b5-4c6c-9933-9cf71f8bcaf1",
   "metadata": {},
   "outputs": [
    {
     "name": "stdout",
     "output_type": "stream",
     "text": [
      "(2, 3)\n",
      "6\n",
      "int32\n",
      "2\n"
     ]
    }
   ],
   "source": [
    "arr=np.array([[1,2,3],[4,5,6]])\n",
    "print(arr.shape)\n",
    "print(arr.size)\n",
    "print(arr.dtype)\n",
    "print(arr.ndim)"
   ]
  },
  {
   "cell_type": "code",
   "execution_count": 45,
   "id": "7493d254-6f8a-45f2-a4a2-5ef086488ad4",
   "metadata": {},
   "outputs": [
    {
     "name": "stdout",
     "output_type": "stream",
     "text": [
      "2\n",
      "6\n",
      "6\n",
      "[[2 3]\n",
      " [5 6]]\n"
     ]
    }
   ],
   "source": [
    "arr=np.array([[1,2,3],[4,5,6]])\n",
    "print(arr[0,1])\n",
    "print(arr[1,2])\n",
    "print(arr[1,-1])\n",
    "print(arr[:,1:])"
   ]
  },
  {
   "cell_type": "code",
   "execution_count": 49,
   "id": "d0e15340-f6d1-401a-958f-de058e34957b",
   "metadata": {},
   "outputs": [
    {
     "name": "stdout",
     "output_type": "stream",
     "text": [
      "[2 4 6]\n",
      "[1 4 9]\n"
     ]
    }
   ],
   "source": [
    "arr1=np.array([1,2,3])\n",
    "arr2=np.array([1,2,3])\n",
    "arr=arr1+arr2\n",
    "arr11=arr1*arr2\n",
    "print(arr)\n",
    "print(arr11)"
   ]
  },
  {
   "cell_type": "code",
   "execution_count": 72,
   "id": "02b0ac9d-c27e-4d7b-92a2-a18e82095ac2",
   "metadata": {},
   "outputs": [
    {
     "name": "stdout",
     "output_type": "stream",
     "text": [
      "[[[ 1  4  9]\n",
      "  [16 25 36]\n",
      "  [49 64 81]]]\n"
     ]
    }
   ],
   "source": [
    "\n",
    "arr1=np.array([[[1,2,3],[4,5,6],[7,8,9]]])\n",
    "arr2=np.array([[[1,2,3],[4,5,6],[7,8,9]]])\n",
    "print(arr1*arr2)\n"
   ]
  },
  {
   "cell_type": "code",
   "execution_count": 62,
   "id": "08b012c0-2bb2-4bac-b7e7-259fb0b08dea",
   "metadata": {},
   "outputs": [
    {
     "name": "stdout",
     "output_type": "stream",
     "text": [
      "[[ 14  32]\n",
      " [ 32  77]\n",
      " [ 50 122]]\n"
     ]
    }
   ],
   "source": [
    "import numpy as np\n",
    "\n",
    "arr1 = np.array([[[1, 2, 3], [4, 5, 6], [7, 8, 9]]])\n",
    "arr2 = np.array([[1, 2, 3], [4, 5, 6]])\n",
    "\n",
    "result = np.dot(arr1[0], arr2.T)  # arr1[0] is the 3x3 matrix part of arr1\n",
    "\n",
    "print(result)\n"
   ]
  },
  {
   "cell_type": "code",
   "execution_count": 74,
   "id": "76824845-91b2-40bb-9dc9-8014415f3cab",
   "metadata": {},
   "outputs": [
    {
     "data": {
      "image/png": "[encoded data removed]",
      "text/plain": [
       "<Figure size 640x480 with 1 Axes>"
      ]
     },
     "metadata": {},
     "output_type": "display_data"
    }
   ],
   "source": [
    "import matplotlib.pyplot as pt\n",
    "pt.plot(result)\n",
    "pt.show()"
   ]
  },
  {
   "cell_type": "code",
   "execution_count": 82,
   "id": "e886c5fe-4e2f-466f-835a-f2593ce388d2",
   "metadata": {},
   "outputs": [
    {
     "name": "stdout",
     "output_type": "stream",
     "text": [
      "exp\n",
      " [[[2.71828183e+00 7.38905610e+00 2.00855369e+01]\n",
      "  [5.45981500e+01 1.48413159e+02 4.03428793e+02]\n",
      "  [1.09663316e+03 2.98095799e+03 8.10308393e+03]]]\n",
      "log\n",
      " [[[0.         0.69314718 1.09861229]\n",
      "  [1.38629436 1.60943791 1.79175947]\n",
      "  [1.94591015 2.07944154 2.19722458]]]\n",
      "sqrt\n",
      " [[[1.         1.41421356 1.73205081]\n",
      "  [2.         2.23606798 2.44948974]\n",
      "  [2.64575131 2.82842712 3.        ]]]\n",
      "sum\n",
      " 45\n",
      "mean\n",
      " 5.0\n",
      "std\n",
      " 2.581988897471611\n",
      "max\n",
      " 9\n",
      "min\n",
      " 1\n",
      "median\n",
      " 5.0\n"
     ]
    }
   ],
   "source": [
    "print(\"exp\\n\",np.exp(arr1))\n",
    "print(\"log\\n\",np.log(arr1))\n",
    "print(\"sqrt\\n\",np.sqrt(arr1))\n",
    "print(\"sum\\n\",np.sum(arr1))\n",
    "print(\"mean\\n\",np.mean(arr1))\n",
    "print(\"std\\n\",np.std(arr1))\n",
    "print(\"max\\n\",np.max(arr1))\n",
    "print(\"min\\n\",np.min(arr1))\n",
    "print(\"median\\n\",np.median(arr1))"
   ]
  },
  {
   "cell_type": "code",
   "execution_count": 88,
   "id": "0b5d9aad-fd23-46f3-82a2-bb94f83a6278",
   "metadata": {},
   "outputs": [
    {
     "name": "stdout",
     "output_type": "stream",
     "text": [
      "[[1 2 3]\n",
      " [4 5 6]]\n"
     ]
    }
   ],
   "source": [
    "arr1=np.array([1,2,3,4,5,6])\n",
    "reshaped=arr1.reshape(2,3)\n",
    "print(reshaped)"
   ]
  },
  {
   "cell_type": "code",
   "execution_count": 94,
   "id": "79aec8ac-411d-4790-bd8b-e5639d1bb008",
   "metadata": {},
   "outputs": [
    {
     "name": "stdout",
     "output_type": "stream",
     "text": [
      "[[1 2 3]\n",
      " [1 2 3]]\n",
      "[1 2 3 1 2 3]\n"
     ]
    }
   ],
   "source": [
    "a=np.array([1,2,3])\n",
    "b=np.array([1,2,3])\n",
    "print(np.vstack((a,b)))\n",
    "print(np.hstack((a,b)))"
   ]
  },
  {
   "cell_type": "code",
   "execution_count": 98,
   "id": "44e329f5-bfa7-452f-8242-cae5b0ee4498",
   "metadata": {},
   "outputs": [
    {
     "name": "stdout",
     "output_type": "stream",
     "text": [
      "[array([1, 2]), array([3, 4]), array([5, 6])]\n"
     ]
    }
   ],
   "source": [
    "arr1=np.array([1,2,3,4,5,6])\n",
    "print(np.array_split(arr1,3))"
   ]
  },
  {
   "cell_type": "code",
   "execution_count": 106,
   "id": "52adb8dc-fc41-466e-8958-27d4ea9a83a9",
   "metadata": {},
   "outputs": [
    {
     "name": "stdout",
     "output_type": "stream",
     "text": [
      "[10  2  3]\n"
     ]
    }
   ],
   "source": [
    "arr=np.array([1,2,3])\n",
    "v=arr.view()\n",
    "v[0]=10\n",
    "print(arr)"
   ]
  },
  {
   "cell_type": "code",
   "execution_count": 108,
   "id": "38819930-855c-4c60-9ac4-6ee796e3a482",
   "metadata": {},
   "outputs": [
    {
     "name": "stdout",
     "output_type": "stream",
     "text": [
      "[10  2  3]\n"
     ]
    }
   ],
   "source": [
    "c=arr.copy()\n",
    "c[0]=100\n",
    "print(arr)"
   ]
  },
  {
   "cell_type": "code",
   "execution_count": 120,
   "id": "9e67706a-b065-4ac1-b031-2804b351258f",
   "metadata": {},
   "outputs": [],
   "source": [
    "arr=np.array([1,2,3])\n",
    "np.save('array.npy',arr)"
   ]
  },
  {
   "cell_type": "code",
   "execution_count": 122,
   "id": "2e2eff29-b3a9-469c-a6fe-3b6b8753776b",
   "metadata": {},
   "outputs": [
    {
     "name": "stdout",
     "output_type": "stream",
     "text": [
      "[1 2 3]\n"
     ]
    }
   ],
   "source": [
    "load=np.load('array.npy')\n",
    "print(load)"
   ]
  },
  {
   "cell_type": "code",
   "execution_count": null,
   "id": "d84e96e9-400b-4f2a-81be-b29d56fc68ba",
   "metadata": {},
   "outputs": [],
   "source": []
  }
 ],
 "metadata": {
  "kernelspec": {
   "display_name": "Python [conda env:base] *",
   "language": "python",
   "name": "conda-base-py"
  },
  "language_info": {
   "codemirror_mode": {
    "name": "ipython",
    "version": 3
   },
   "file_extension": ".py",
   "mimetype": "text/x-python",
   "name": "python",
   "nbconvert_exporter": "python",
   "pygments_lexer": "ipython3",
   "version": "3.12.7"
  }
 },
 "nbformat": 4,
 "nbformat_minor": 5
}
